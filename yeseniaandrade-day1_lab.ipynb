{
  "cells": [
    {
      "cell_type": "markdown",
      "source": [
        "# Day 1 Lab: Intro to Pandas"
      ],
      "metadata": {
        "id": "rt9qQ5chFbEy"
      },
      "id": "rt9qQ5chFbEy"
    },
    {
      "cell_type": "markdown",
      "metadata": {
        "id": "8cfae8af"
      },
      "source": [
        "Outline\n",
        "\n",
        "- Introduction to Pandas\n",
        "- Working with data in Pandas\n",
        "- Visualizing data in Pandas\n",
        "\n",
        "\n",
        "\n",
        "\n",
        "\n",
        "\n"
      ],
      "id": "8cfae8af"
    },
    {
      "cell_type": "markdown",
      "source": [
        "# Notebook Instructions\n",
        "\n",
        "1. Save a copy of the forked notebook to Google Drive (File >> Save a copy in Drive).  This is the only way you'll be able to save your changes.\n",
        "2. Make sure to retitle the copy.  The title should include the **lab number** and **your name**.\n",
        "3. Do the Python coding as directed below (look for the \"Your Turn\" sections).\n",
        "4. When you have completed your coding save your notebook in Drive (File >> Save) and save it also to your GitHub repo (File >> Save a copy in github).\n",
        "5. Navigate to your notebook file in GitHub and copy and submit the URL for the Canvas lab assignment."
      ],
      "metadata": {
        "id": "7ki69Ur-3Ezw"
      },
      "id": "7ki69Ur-3Ezw"
    },
    {
      "cell_type": "markdown",
      "source": [
        "# Introduction to Pandas\n",
        "\n",
        "Pandas is a powerful data manipulation library in Python. It provides data structures and functions that make working with structured data more convenient and efficient compared to base Python."
      ],
      "metadata": {
        "id": "k_rnGv9CvSoV"
      },
      "id": "k_rnGv9CvSoV"
    },
    {
      "cell_type": "markdown",
      "metadata": {
        "id": "bdcd46ee"
      },
      "source": [
        "Pandas introduces two primary data structures: **Series** and **DataFrames**.\n",
        "- A Series is a one-dimensional collection of values ( the elements must be the same data type).\n",
        "- A DataFrame is a two-dimensional data structure with columns of potentially different types. It is similar to a spreadsheet.\n",
        "\n",
        "Pandas provides a wide range of functions and methods for data manipulation, cleaning, filtering, aggregation, merging, and more. It integrates well with other libraries in the data science ecosystem, such as Matplotlib for data visualization.\n",
        "\n",
        "Some key advantages of using Pandas over base Python include:\n",
        "- Efficient memory usage and performance for large datasets\n",
        "- Intuitive syntax for data manipulation\n",
        "- Built-in functions for common data operations (e.g., filtering, grouping, reshaping)\n",
        "- Seamless integration with other data science libraries\n",
        "- Handling of missing data and data alignment\n",
        "- Powerful tools for data exploration and analysis\n",
        "\n",
        "Throughout this lab, we will explore various aspects of Pandas and its capabilities for data manipulation, visualization and analysis.\n",
        "\n"
      ],
      "id": "bdcd46ee"
    },
    {
      "cell_type": "markdown",
      "source": [
        "# Working with Data Using Pandas"
      ],
      "metadata": {
        "id": "OtrOXQGe5MfO"
      },
      "id": "OtrOXQGe5MfO"
    },
    {
      "cell_type": "markdown",
      "source": [
        "## Load Libraries\n",
        "\n",
        "In this class we will be using\n",
        "- Pandas\n",
        "- Matplotlib"
      ],
      "metadata": {
        "id": "CEcy1L5L5FTX"
      },
      "id": "CEcy1L5L5FTX"
    },
    {
      "cell_type": "code",
      "metadata": {
        "id": "1cb3d577"
      },
      "source": [
        "import pandas as pd\n",
        "import matplotlib as mpl\n",
        "import statsmodels.api as sm # This library includes the mtcars data\n"
      ],
      "id": "1cb3d577",
      "execution_count": null,
      "outputs": []
    },
    {
      "cell_type": "markdown",
      "source": [
        "Note:  Any text preceded by a hashtag, `#`, in python is not evaluated.  We say such text is \"commented out.\" Comments are a way to make detailed notes on the code."
      ],
      "metadata": {
        "id": "9ZhWPea7Q21R"
      },
      "id": "9ZhWPea7Q21R"
    },
    {
      "cell_type": "markdown",
      "metadata": {
        "id": "ef87d266"
      },
      "source": [
        "## Getting Data into Pandas\n",
        "\n",
        "In this case we will load data from the statsmodels.org library. `mtcars` is a common practice dataset.\n"
      ],
      "id": "ef87d266"
    },
    {
      "cell_type": "code",
      "metadata": {
        "id": "04da0673"
      },
      "source": [
        "# Download data from the statsmodels API\n",
        "mtcars = sm.datasets.get_rdataset(\"mtcars\", \"datasets\", cache=True).data\n",
        "\n",
        "# Define dataset as a pandas dataframe\n",
        "df = pd.DataFrame(mtcars)\n"
      ],
      "id": "04da0673",
      "execution_count": null,
      "outputs": []
    },
    {
      "cell_type": "markdown",
      "metadata": {
        "id": "9e844a07"
      },
      "source": [
        "## Preview Data\n",
        "\n",
        "Here is a data dictionary:\n",
        "\n",
        "|Attribute | Description |\n",
        "|---------|-----------|\n",
        "|  mpg    |Miles/(US) gallon|\n",
        "|  cyl    |Number of cylinders|\n",
        "|  disp   |Displacement (cu.in.)|\n",
        "|hp   |Gross horsepower|\n",
        "|drat |Rear axle ratio|\n",
        "|wt   |Weight (1000 lbs)|\n",
        "|qsec |1/4 mile time|\n",
        "|vs   |Engine (0 = V-shaped, 1 = straight)|\n",
        "|am   |Transmission (0 = automatic, 1 = manual)|\n",
        "|gear |Number of forward gears|\n"
      ],
      "id": "9e844a07"
    },
    {
      "cell_type": "code",
      "metadata": {
        "id": "77ef0474"
      },
      "source": [
        "#look at the top rows with head()\n",
        "df.head()"
      ],
      "id": "77ef0474",
      "execution_count": null,
      "outputs": []
    },
    {
      "cell_type": "markdown",
      "source": [
        "To get information on a function (such as arguments and examples) use the `help()` function:\n",
        "\n"
      ],
      "metadata": {
        "id": "0ubL2y-JGuwe"
      },
      "id": "0ubL2y-JGuwe"
    },
    {
      "cell_type": "code",
      "source": [
        "help(df.head)"
      ],
      "metadata": {
        "id": "7CBLqD9MGaqE"
      },
      "id": "7CBLqD9MGaqE",
      "execution_count": null,
      "outputs": []
    },
    {
      "cell_type": "markdown",
      "source": [
        "As we can see, this function has a single argument, `n`, with a default setting of 5.  `n` defines how many rows to return."
      ],
      "metadata": {
        "id": "BMolfzmfRmvB"
      },
      "id": "BMolfzmfRmvB"
    },
    {
      "cell_type": "code",
      "metadata": {
        "id": "5e4c87b7"
      },
      "source": [
        "#look at last rows with tail().\n",
        "# The default for n is again 5.\n",
        "\n",
        "df.tail(n = 10)"
      ],
      "id": "5e4c87b7",
      "execution_count": null,
      "outputs": []
    },
    {
      "cell_type": "code",
      "metadata": {
        "id": "e226a10e"
      },
      "source": [
        "# get a statistical summary of the numeric variables in a dataset\n",
        "df.describe()"
      ],
      "id": "e226a10e",
      "execution_count": null,
      "outputs": []
    },
    {
      "cell_type": "markdown",
      "source": [
        "Some of these summary statistics will be familiar but what about:  \n",
        "\n",
        "- `std`?\n",
        "- `25%`?\n",
        "- `50%`?\n",
        "- `75%`?"
      ],
      "metadata": {
        "id": "MB0Dwv3rSria"
      },
      "id": "MB0Dwv3rSria"
    },
    {
      "cell_type": "code",
      "source": [
        "# find out how variables are encoded in a dataset\n",
        "df.info()"
      ],
      "metadata": {
        "id": "x9cSMhn7OxEE"
      },
      "id": "x9cSMhn7OxEE",
      "execution_count": null,
      "outputs": []
    },
    {
      "cell_type": "markdown",
      "source": [
        "## Your Turn:  Use AI to learn\n",
        "\n",
        "1. Click on the \"Gemini\" button in the upper right corner of Colab.\n",
        "2. Type \"what is float64\" in the prompt box.\n",
        "3. Type \"what does floating point mean\" in the prompt box.\n",
        "4. Type \"what is int64\" in the prompt box.\n"
      ],
      "metadata": {
        "id": "1tjrkqwFOv-i"
      },
      "id": "1tjrkqwFOv-i"
    },
    {
      "cell_type": "markdown",
      "source": [
        "## Dealing with Errors"
      ],
      "metadata": {
        "id": "K8Yp8_3OQTC8"
      },
      "id": "K8Yp8_3OQTC8"
    },
    {
      "cell_type": "code",
      "source": [
        "df.info(n = 10)"
      ],
      "metadata": {
        "id": "0lntt3rFQR-4"
      },
      "id": "0lntt3rFQR-4",
      "execution_count": null,
      "outputs": []
    },
    {
      "cell_type": "markdown",
      "source": [
        "Use AI to Debug Code:\n",
        "\n",
        "- Click the \"Explain Error\" to automatically invoke Gemini\n",
        "- Copy and paste the code and the error message into an external LLM like ChaptGPT or Claude"
      ],
      "metadata": {
        "id": "5kYD_HDaTcx6"
      },
      "id": "5kYD_HDaTcx6"
    },
    {
      "cell_type": "markdown",
      "source": [
        "## Pandas Syntax\n",
        "\n",
        "Pandas is designed to be used primarily with dataframes.  The syntax `df.method()` (where \"method\" could be \"head\" or \"tail\" or \"info\"), indicates that you are using a function on the DataFrame object `df`.\n",
        "\n",
        "So, above, we used `df.head()` etc, meaning that the `head()` function is being used on the DataFrame object, `df`."
      ],
      "metadata": {
        "id": "PnjAZT1XrmW1"
      },
      "id": "PnjAZT1XrmW1"
    },
    {
      "cell_type": "markdown",
      "source": [
        "## Your Turn: Summarize Data with Pandas\n",
        "\n",
        "- Download insurance data.  (I think Matt P showed you this dataset.)"
      ],
      "metadata": {
        "id": "i6RscfVDQfHX"
      },
      "id": "i6RscfVDQfHX"
    },
    {
      "cell_type": "code",
      "source": [
        "idf = pd.read_csv(\"https://raw.githubusercontent.com/matthewpecsok/4482_fall_2022/main/data/insurance.csv\")\n",
        "\n"
      ],
      "metadata": {
        "id": "8zkBVezzQpBJ"
      },
      "id": "8zkBVezzQpBJ",
      "execution_count": null,
      "outputs": []
    },
    {
      "cell_type": "markdown",
      "source": [
        "1. Display top and bottom rows of  `idf`.\n",
        "\n",
        "\n",
        "2. What is the average expense? (Hint:  use the functions above.  Later on we'll find other ways of doing the calculation.)\n",
        "\n",
        "3. What is the median age?"
      ],
      "metadata": {
        "id": "OYtLZAEIQ_NA"
      },
      "id": "OYtLZAEIQ_NA"
    },
    {
      "cell_type": "code",
      "source": [
        "# Your code goes here\n"
      ],
      "metadata": {
        "id": "XhPDWkqJTJ0y"
      },
      "id": "XhPDWkqJTJ0y",
      "execution_count": null,
      "outputs": []
    },
    {
      "cell_type": "code",
      "source": [
        "# Your code goes here\n"
      ],
      "metadata": {
        "id": "25_YHP0lTUuG"
      },
      "id": "25_YHP0lTUuG",
      "execution_count": null,
      "outputs": []
    },
    {
      "cell_type": "code",
      "source": [
        "# Your code goes here\n"
      ],
      "metadata": {
        "id": "ReNprVRlTkkG"
      },
      "id": "ReNprVRlTkkG",
      "execution_count": null,
      "outputs": []
    },
    {
      "cell_type": "markdown",
      "metadata": {
        "id": "57cbb3f6"
      },
      "source": [
        "# Visualizing Data Using Pandas\n",
        "\n",
        "\n",
        "Pandas can create a variety of plots with the `df.plot(kind = \"...\")` syntax (where plotting is an attribute of the dataframe). (It is using the Matplotlib library in the background.)\n",
        "\n",
        "Here are examples."
      ],
      "id": "57cbb3f6"
    },
    {
      "cell_type": "markdown",
      "source": [
        "## Line Chart"
      ],
      "metadata": {
        "id": "0LJ3un9V5duK"
      },
      "id": "0LJ3un9V5duK"
    },
    {
      "cell_type": "code",
      "metadata": {
        "id": "8f0dd9dc"
      },
      "source": [
        "#Line chart\n",
        "df['mpg'].plot(kind = \"line\", color='blue')"
      ],
      "id": "8f0dd9dc",
      "execution_count": null,
      "outputs": []
    },
    {
      "cell_type": "markdown",
      "source": [
        "- `df['mpg']`: defines a Pandas series\n",
        "- `.plot()`: calls the generic plot function\n",
        "- `kind = \"line\"`: an argument to the `plot()` function that defines the type of plot\n",
        "- `color = \"blue\"`:   another argument to the `plot()` function that defines the color of the plot, in this case the line\n",
        "\n",
        "Incidentally, we can use single ('...') or double (\"...\") quotation marks interchangeably in Python to define a string.\n",
        "\n",
        "Most functions have a lot of possible arguments.  For example, we can rotate the labels of the cars for legibility (`rot = `), and define the axis labels (`xlabel`, `ylabel`)."
      ],
      "metadata": {
        "id": "xR1l9wRjIcvu"
      },
      "id": "xR1l9wRjIcvu"
    },
    {
      "cell_type": "code",
      "source": [
        "# Fix the  x-axis labels\n",
        "df['mpg'].plot(kind = \"line\",\n",
        "               color='blue',\n",
        "               rot = 90,\n",
        "               xlabel = \"Car\",\n",
        "               ylabel = \"Miles per gallon\")\n"
      ],
      "metadata": {
        "id": "8dPYwlIG49fy"
      },
      "id": "8dPYwlIG49fy",
      "execution_count": null,
      "outputs": []
    },
    {
      "cell_type": "markdown",
      "source": [
        "How would you add a title? Yes, it would be `plot(title = \"...\")`. (Plots need titles!)"
      ],
      "metadata": {
        "id": "20jYqUzSKaud"
      },
      "id": "20jYqUzSKaud"
    },
    {
      "cell_type": "markdown",
      "source": [
        "## Bar Chart"
      ],
      "metadata": {
        "id": "XC7tOMrj5qUa"
      },
      "id": "XC7tOMrj5qUa"
    },
    {
      "cell_type": "code",
      "metadata": {
        "id": "11bf5272"
      },
      "source": [
        "# Bar chart\n",
        "df['mpg'].plot(kind = \"barh\",\n",
        "               color='red',\n",
        "               xticks=[0,10,20],\n",
        "               title = \"Car MPG\")"
      ],
      "id": "11bf5272",
      "execution_count": null,
      "outputs": []
    },
    {
      "cell_type": "markdown",
      "source": [
        "Pandas automatically uses the row names as the labels on the left.\n",
        "\n",
        "Why have we used `kind = \"barh\"`?  This stands for \"horizontal barplot\", which better accommodates the row names, compared to the default which would put the row names horizontally on the horizontal axis.\n",
        "\n",
        "How would we get appropriate axis labels?"
      ],
      "metadata": {
        "id": "YRRcPMDsKvBe"
      },
      "id": "YRRcPMDsKvBe"
    },
    {
      "cell_type": "code",
      "source": [
        "df['mpg'].plot(kind = \"barh\",\n",
        "               color='red',\n",
        "               xticks=[0,10,20],\n",
        "               title = \"Car MPG\",\n",
        "               xlabel = \"Miles per Gallon\",\n",
        "               ylabel = \"Cars\")"
      ],
      "metadata": {
        "id": "R5qpWsWML048"
      },
      "id": "R5qpWsWML048",
      "execution_count": null,
      "outputs": []
    },
    {
      "cell_type": "markdown",
      "source": [
        "## Histogram"
      ],
      "metadata": {
        "id": "6oGAnh8H5tNh"
      },
      "id": "6oGAnh8H5tNh"
    },
    {
      "cell_type": "code",
      "metadata": {
        "id": "f99d01a2"
      },
      "source": [
        "#Histogram\n",
        "df['mpg'].plot(kind = \"hist\",\n",
        "               bins=15,\n",
        "               title='Miles Per Gallon')"
      ],
      "id": "f99d01a2",
      "execution_count": null,
      "outputs": []
    },
    {
      "cell_type": "markdown",
      "source": [
        "## Your Turn:  Customize the plot\n",
        "\n",
        "- Add appropriate x- and y- axis labels"
      ],
      "metadata": {
        "id": "IYbC1QngMOZ_"
      },
      "id": "IYbC1QngMOZ_"
    },
    {
      "cell_type": "code",
      "source": [
        "# Your code goes here\n"
      ],
      "metadata": {
        "id": "RYAPhsyyMdBc"
      },
      "id": "RYAPhsyyMdBc",
      "execution_count": null,
      "outputs": []
    },
    {
      "cell_type": "markdown",
      "source": [
        "## Boxplot\n",
        "\n",
        "Boxplots are best for showing the relationship between a numeric and a categorical variable. Specifically, they reveal the distribution of the numeric variable at different levels of the categorical variable.\n",
        "\n",
        "Here is a box plot showing the distribution for just one numeric variable."
      ],
      "metadata": {
        "id": "0c3Rugmz5xyL"
      },
      "id": "0c3Rugmz5xyL"
    },
    {
      "cell_type": "code",
      "source": [
        " # Boxplot\n",
        " df.plot(kind = \"box\", column = \"mpg\")"
      ],
      "metadata": {
        "id": "AZzPxYi7XLS2"
      },
      "id": "AZzPxYi7XLS2",
      "execution_count": null,
      "outputs": []
    },
    {
      "cell_type": "markdown",
      "source": [
        "And here is a box plot showing the relationship between a categorical and a numeric variable"
      ],
      "metadata": {
        "id": "7E3JaS_8NCsF"
      },
      "id": "7E3JaS_8NCsF"
    },
    {
      "cell_type": "code",
      "source": [
        "# Boxplot showing distribution of mpg at levels of cyl\n",
        "\n",
        "df.plot(kind = \"box\", column = \"mpg\", by = \"cyl\")"
      ],
      "metadata": {
        "id": "YrAynPetXpRk"
      },
      "id": "YrAynPetXpRk",
      "execution_count": null,
      "outputs": []
    },
    {
      "cell_type": "markdown",
      "source": [
        "## Scatterplot"
      ],
      "metadata": {
        "id": "DEdcJiD350Uq"
      },
      "id": "DEdcJiD350Uq"
    },
    {
      "cell_type": "code",
      "metadata": {
        "id": "86c92eb8"
      },
      "source": [
        "# Scatter plot\n",
        "df.plot(kind = \"scatter\", x = 'mpg',y = 'hp',c = 'wt')"
      ],
      "id": "86c92eb8",
      "execution_count": null,
      "outputs": []
    },
    {
      "cell_type": "markdown",
      "source": [
        "There are a couple of things to notice here.\n",
        "1. This plot shows the relationship between *three* variables: `mpg`, `hp`, and `wt`.  \n",
        "2. `wt` is a continuous variable, so the color scale is appropriately continuous.  The legend on the right uses hue to represent gradations.\n",
        "\n",
        "Suppose that the color scale was used to represent *discrete* differences between categories. Here is what that would look like:"
      ],
      "metadata": {
        "id": "SmKqvAOwVp63"
      },
      "id": "SmKqvAOwVp63"
    },
    {
      "cell_type": "code",
      "metadata": {
        "id": "JtpWXyNSXHzu"
      },
      "source": [
        "# First make cyl explicitly a categorical variable\n",
        "df[\"cyl\"] = df[\"cyl\"].astype(\"category\")\n",
        "\n",
        "# Now use cyl to set the color scheme\n",
        "df.plot(kind = \"scatter\", x = 'mpg',y = 'hp',c = 'cyl', cmap='viridis')"
      ],
      "execution_count": null,
      "outputs": [],
      "id": "JtpWXyNSXHzu"
    },
    {
      "cell_type": "markdown",
      "source": [
        "## Your Turn: Visualizing Relationships\n",
        "\n",
        "Using the `idf` dataset:\n",
        "\n",
        "1. Make a plot showing the distribution of `bmi` by `sex`.\n",
        "2. Make a plot showing how the relationship between `bmi` and `expenses` differs by `region`.\n",
        "3. Does the relationship between `bmi` and `expenses` differ by `age`?\n",
        "\n",
        "Make interpretive comments on all your plots."
      ],
      "metadata": {
        "id": "eujnIuAGYjus"
      },
      "id": "eujnIuAGYjus"
    },
    {
      "cell_type": "code",
      "source": [
        "# Your code goes here\n"
      ],
      "metadata": {
        "id": "FSBdjP6bY6KM"
      },
      "id": "FSBdjP6bY6KM",
      "execution_count": null,
      "outputs": []
    },
    {
      "cell_type": "code",
      "source": [
        "# Your code goes here\n"
      ],
      "metadata": {
        "id": "sm49gzlGaGR-"
      },
      "id": "sm49gzlGaGR-",
      "execution_count": null,
      "outputs": []
    },
    {
      "cell_type": "code",
      "source": [
        "# Your code goes here"
      ],
      "metadata": {
        "id": "X7DCr30WaF5o"
      },
      "id": "X7DCr30WaF5o",
      "execution_count": null,
      "outputs": []
    },
    {
      "cell_type": "markdown",
      "metadata": {
        "id": "6fe3def5"
      },
      "source": [
        "# Summary of Functions\n",
        "\n",
        "Here's a summary of the key functions covered:\n",
        "\n",
        "- `pd.DataFrame()`: Creates a DataFrame from a dictionary or other data source\n",
        "- `df.head()`: Displays the first few rows of a DataFrame\n",
        "- `df.tail()`: Displays the last few rows of a DataFrame\n",
        "- `df.info()`: Provides a concise summary of a DataFrame\n",
        "- `df.describe()`: Generates descriptive statistics of a DataFrame\n",
        "- `df.plot(kind = \"line\")`: Creates a line chart\n",
        "- `df.plot(kind = \"barh\")`: Creates a horizontal bar chart\n",
        "- `df.plot(kind = \"hist\")`: Creates a histogram\n",
        "- `df.plot(kind = \"box\")`: Creates a box plot\n",
        "- `df.plot(kind = \"scatter\")`: Creates a scatter plot\n",
        "\n"
      ],
      "id": "6fe3def5"
    }
  ],
  "metadata": {
    "kernelspec": {
      "name": "python3",
      "language": "python",
      "display_name": "Python 3 (ipykernel)"
    },
    "colab": {
      "provenance": [],
      "toc_visible": true
    }
  },
  "nbformat": 4,
  "nbformat_minor": 5
}