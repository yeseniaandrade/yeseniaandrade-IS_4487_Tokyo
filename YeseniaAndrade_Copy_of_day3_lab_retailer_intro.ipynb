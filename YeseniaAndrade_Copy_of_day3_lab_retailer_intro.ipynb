{
  "cells": [
    {
      "cell_type": "markdown",
      "metadata": {
        "id": "view-in-github",
        "colab_type": "text"
      },
      "source": [
        "<a href=\"https://colab.research.google.com/github/yeseniaandrade/yeseniaandrade-IS_4487_Tokyo/blob/main/YeseniaAndrade_Copy_of_day3_lab_retailer_intro.ipynb\" target=\"_parent\"><img src=\"https://colab.research.google.com/assets/colab-badge.svg\" alt=\"Open In Colab\"/></a>"
      ]
    },
    {
      "cell_type": "markdown",
      "metadata": {
        "id": "zCEcl_WDcUsv"
      },
      "source": [
        "# Day 3 Lab, IS 4487\n",
        "\n",
        "Outline\n",
        "\n",
        "Repeat exercises from Lab 2, for practice, but with the *SuperStore Retail Orders* dataset\n",
        "\n",
        "- Loading installed packages\n",
        "- Inspect data\n",
        "- Clean data\n",
        "- Summarize data\n",
        "- Explore plot types and search for insights\n",
        "\n",
        "Please use the Gemini AI tool to get coding ideas.\n",
        "\n"
      ]
    },
    {
      "cell_type": "markdown",
      "source": [
        "# Notebook Instructions\n",
        "- Remember to save a copy of the notebook in Drive so that you can save your changes.\n",
        "- Complete the Assignment Tasks.\n",
        "- When you are done revising this notebook save your changes to GitHub and upload the URL for the file to Canvas for the assignment.\n",
        "- Some of these assignments ask you to do things we have not covered yet.  Use AI to come up with a solution."
      ],
      "metadata": {
        "id": "aXtYp4npljXj"
      }
    },
    {
      "cell_type": "markdown",
      "metadata": {
        "id": "hNWAPvcacUsw"
      },
      "source": [
        "# Load Libraries\n",
        "\n",
        "➡️ Assignment Tasks\n",
        "- Load Pandas"
      ]
    },
    {
      "cell_type": "code",
      "source": [
        "# your code goes here\n",
        "\n",
        "import pandas as pd"
      ],
      "metadata": {
        "id": "klSlXHCjl5-Y"
      },
      "execution_count": 2,
      "outputs": []
    },
    {
      "cell_type": "markdown",
      "source": [
        "# Load Data"
      ],
      "metadata": {
        "id": "utt37UKSc6lC"
      }
    },
    {
      "cell_type": "code",
      "source": [
        "ss = pd.read_csv(\"https://raw.githubusercontent.com/jefftwebb/is_4487_base/main/Labs/DataSets/superstore_retail_orders.csv\")"
      ],
      "metadata": {
        "id": "0ichdtamdD7y"
      },
      "execution_count": 3,
      "outputs": []
    },
    {
      "cell_type": "markdown",
      "metadata": {
        "id": "uasJvGvEcUsx"
      },
      "source": [
        "# Summarize and Review Data\n",
        "\n",
        "➡️ Assignment Tasks\n",
        "\n",
        "- Describe or profile the dataframe"
      ]
    },
    {
      "cell_type": "code",
      "source": [
        "# Your code goes here\n",
        "ss.info()"
      ],
      "metadata": {
        "id": "PrD_cKevUevR",
        "colab": {
          "base_uri": "https://localhost:8080/"
        },
        "outputId": "a3aa8009-34b3-4a79-b7d3-daf2676e6e48"
      },
      "execution_count": 4,
      "outputs": [
        {
          "output_type": "stream",
          "name": "stdout",
          "text": [
            "<class 'pandas.core.frame.DataFrame'>\n",
            "RangeIndex: 56045 entries, 0 to 56044\n",
            "Data columns (total 10 columns):\n",
            " #   Column            Non-Null Count  Dtype  \n",
            "---  ------            --------------  -----  \n",
            " 0   order_id          56045 non-null  int64  \n",
            " 1   order_date        56013 non-null  object \n",
            " 2   order_year_month  56013 non-null  object \n",
            " 3   customer_name     56045 non-null  object \n",
            " 4   city              55571 non-null  object \n",
            " 5   state_province    55571 non-null  object \n",
            " 6   quantity          56006 non-null  float64\n",
            " 7   product_name      56045 non-null  object \n",
            " 8   product_line      56045 non-null  object \n",
            " 9   product_price     56045 non-null  float64\n",
            "dtypes: float64(2), int64(1), object(7)\n",
            "memory usage: 4.3+ MB\n"
          ]
        }
      ]
    },
    {
      "cell_type": "code",
      "source": [],
      "metadata": {
        "id": "7GWAC3alVHjZ",
        "colab": {
          "base_uri": "https://localhost:8080/",
          "height": 449
        },
        "outputId": "812f1cdf-e383-4802-fd00-a0bb7921408e"
      },
      "execution_count": 3,
      "outputs": [
        {
          "output_type": "execute_result",
          "data": {
            "text/plain": [
              "            order_id  order_date order_year_month    customer_name  \\\n",
              "count   56045.000000       56013            56013            56045   \n",
              "unique           NaN         947               35            17343   \n",
              "top              NaN  2022-03-01          2022-05  Fernando Barnes   \n",
              "freq             NaN         306             5416               64   \n",
              "mean    61668.066340         NaN              NaN              NaN   \n",
              "std      7508.229651         NaN              NaN              NaN   \n",
              "min     45079.000000         NaN              NaN              NaN   \n",
              "25%     55644.000000         NaN              NaN              NaN   \n",
              "50%     61869.000000         NaN              NaN              NaN   \n",
              "75%     68097.000000         NaN              NaN              NaN   \n",
              "max     74147.000000         NaN              NaN              NaN   \n",
              "\n",
              "                  city             state_province       quantity  \\\n",
              "count            55571                      55571   56006.000000   \n",
              "unique           11920                         54            NaN   \n",
              "top     Salt Lake City  ARIZONA                              NaN   \n",
              "freq               198                       1353            NaN   \n",
              "mean               NaN                        NaN       3.348498   \n",
              "std                NaN                        NaN     422.646565   \n",
              "min                NaN                        NaN       1.000000   \n",
              "25%                NaN                        NaN       1.000000   \n",
              "50%                NaN                        NaN       1.000000   \n",
              "75%                NaN                        NaN       2.000000   \n",
              "max                NaN                        NaN  100000.000000   \n",
              "\n",
              "                 product_name product_line  product_price  \n",
              "count                   56045        56045   56045.000000  \n",
              "unique                    131            9            NaN  \n",
              "top     Water Bottle - 30 oz.  Accessories            NaN  \n",
              "freq                     3983        19920            NaN  \n",
              "mean                      NaN          NaN    6195.540505  \n",
              "std                       NaN          NaN   35784.727716  \n",
              "min                       NaN          NaN       2.290000  \n",
              "25%                       NaN          NaN       7.950000  \n",
              "50%                       NaN          NaN     475.600000  \n",
              "75%                       NaN          NaN     914.620000  \n",
              "max                       NaN          NaN  235481.000000  "
            ],
            "text/html": [
              "\n",
              "  <div id=\"df-403abdc2-08d3-4f3c-b5df-ce70b1e3cd8e\" class=\"colab-df-container\">\n",
              "    <div>\n",
              "<style scoped>\n",
              "    .dataframe tbody tr th:only-of-type {\n",
              "        vertical-align: middle;\n",
              "    }\n",
              "\n",
              "    .dataframe tbody tr th {\n",
              "        vertical-align: top;\n",
              "    }\n",
              "\n",
              "    .dataframe thead th {\n",
              "        text-align: right;\n",
              "    }\n",
              "</style>\n",
              "<table border=\"1\" class=\"dataframe\">\n",
              "  <thead>\n",
              "    <tr style=\"text-align: right;\">\n",
              "      <th></th>\n",
              "      <th>order_id</th>\n",
              "      <th>order_date</th>\n",
              "      <th>order_year_month</th>\n",
              "      <th>customer_name</th>\n",
              "      <th>city</th>\n",
              "      <th>state_province</th>\n",
              "      <th>quantity</th>\n",
              "      <th>product_name</th>\n",
              "      <th>product_line</th>\n",
              "      <th>product_price</th>\n",
              "    </tr>\n",
              "  </thead>\n",
              "  <tbody>\n",
              "    <tr>\n",
              "      <th>count</th>\n",
              "      <td>56045.000000</td>\n",
              "      <td>56013</td>\n",
              "      <td>56013</td>\n",
              "      <td>56045</td>\n",
              "      <td>55571</td>\n",
              "      <td>55571</td>\n",
              "      <td>56006.000000</td>\n",
              "      <td>56045</td>\n",
              "      <td>56045</td>\n",
              "      <td>56045.000000</td>\n",
              "    </tr>\n",
              "    <tr>\n",
              "      <th>unique</th>\n",
              "      <td>NaN</td>\n",
              "      <td>947</td>\n",
              "      <td>35</td>\n",
              "      <td>17343</td>\n",
              "      <td>11920</td>\n",
              "      <td>54</td>\n",
              "      <td>NaN</td>\n",
              "      <td>131</td>\n",
              "      <td>9</td>\n",
              "      <td>NaN</td>\n",
              "    </tr>\n",
              "    <tr>\n",
              "      <th>top</th>\n",
              "      <td>NaN</td>\n",
              "      <td>2022-03-01</td>\n",
              "      <td>2022-05</td>\n",
              "      <td>Fernando Barnes</td>\n",
              "      <td>Salt Lake City</td>\n",
              "      <td>ARIZONA</td>\n",
              "      <td>NaN</td>\n",
              "      <td>Water Bottle - 30 oz.</td>\n",
              "      <td>Accessories</td>\n",
              "      <td>NaN</td>\n",
              "    </tr>\n",
              "    <tr>\n",
              "      <th>freq</th>\n",
              "      <td>NaN</td>\n",
              "      <td>306</td>\n",
              "      <td>5416</td>\n",
              "      <td>64</td>\n",
              "      <td>198</td>\n",
              "      <td>1353</td>\n",
              "      <td>NaN</td>\n",
              "      <td>3983</td>\n",
              "      <td>19920</td>\n",
              "      <td>NaN</td>\n",
              "    </tr>\n",
              "    <tr>\n",
              "      <th>mean</th>\n",
              "      <td>61668.066340</td>\n",
              "      <td>NaN</td>\n",
              "      <td>NaN</td>\n",
              "      <td>NaN</td>\n",
              "      <td>NaN</td>\n",
              "      <td>NaN</td>\n",
              "      <td>3.348498</td>\n",
              "      <td>NaN</td>\n",
              "      <td>NaN</td>\n",
              "      <td>6195.540505</td>\n",
              "    </tr>\n",
              "    <tr>\n",
              "      <th>std</th>\n",
              "      <td>7508.229651</td>\n",
              "      <td>NaN</td>\n",
              "      <td>NaN</td>\n",
              "      <td>NaN</td>\n",
              "      <td>NaN</td>\n",
              "      <td>NaN</td>\n",
              "      <td>422.646565</td>\n",
              "      <td>NaN</td>\n",
              "      <td>NaN</td>\n",
              "      <td>35784.727716</td>\n",
              "    </tr>\n",
              "    <tr>\n",
              "      <th>min</th>\n",
              "      <td>45079.000000</td>\n",
              "      <td>NaN</td>\n",
              "      <td>NaN</td>\n",
              "      <td>NaN</td>\n",
              "      <td>NaN</td>\n",
              "      <td>NaN</td>\n",
              "      <td>1.000000</td>\n",
              "      <td>NaN</td>\n",
              "      <td>NaN</td>\n",
              "      <td>2.290000</td>\n",
              "    </tr>\n",
              "    <tr>\n",
              "      <th>25%</th>\n",
              "      <td>55644.000000</td>\n",
              "      <td>NaN</td>\n",
              "      <td>NaN</td>\n",
              "      <td>NaN</td>\n",
              "      <td>NaN</td>\n",
              "      <td>NaN</td>\n",
              "      <td>1.000000</td>\n",
              "      <td>NaN</td>\n",
              "      <td>NaN</td>\n",
              "      <td>7.950000</td>\n",
              "    </tr>\n",
              "    <tr>\n",
              "      <th>50%</th>\n",
              "      <td>61869.000000</td>\n",
              "      <td>NaN</td>\n",
              "      <td>NaN</td>\n",
              "      <td>NaN</td>\n",
              "      <td>NaN</td>\n",
              "      <td>NaN</td>\n",
              "      <td>1.000000</td>\n",
              "      <td>NaN</td>\n",
              "      <td>NaN</td>\n",
              "      <td>475.600000</td>\n",
              "    </tr>\n",
              "    <tr>\n",
              "      <th>75%</th>\n",
              "      <td>68097.000000</td>\n",
              "      <td>NaN</td>\n",
              "      <td>NaN</td>\n",
              "      <td>NaN</td>\n",
              "      <td>NaN</td>\n",
              "      <td>NaN</td>\n",
              "      <td>2.000000</td>\n",
              "      <td>NaN</td>\n",
              "      <td>NaN</td>\n",
              "      <td>914.620000</td>\n",
              "    </tr>\n",
              "    <tr>\n",
              "      <th>max</th>\n",
              "      <td>74147.000000</td>\n",
              "      <td>NaN</td>\n",
              "      <td>NaN</td>\n",
              "      <td>NaN</td>\n",
              "      <td>NaN</td>\n",
              "      <td>NaN</td>\n",
              "      <td>100000.000000</td>\n",
              "      <td>NaN</td>\n",
              "      <td>NaN</td>\n",
              "      <td>235481.000000</td>\n",
              "    </tr>\n",
              "  </tbody>\n",
              "</table>\n",
              "</div>\n",
              "    <div class=\"colab-df-buttons\">\n",
              "\n",
              "  <div class=\"colab-df-container\">\n",
              "    <button class=\"colab-df-convert\" onclick=\"convertToInteractive('df-403abdc2-08d3-4f3c-b5df-ce70b1e3cd8e')\"\n",
              "            title=\"Convert this dataframe to an interactive table.\"\n",
              "            style=\"display:none;\">\n",
              "\n",
              "  <svg xmlns=\"http://www.w3.org/2000/svg\" height=\"24px\" viewBox=\"0 -960 960 960\">\n",
              "    <path d=\"M120-120v-720h720v720H120Zm60-500h600v-160H180v160Zm220 220h160v-160H400v160Zm0 220h160v-160H400v160ZM180-400h160v-160H180v160Zm440 0h160v-160H620v160ZM180-180h160v-160H180v160Zm440 0h160v-160H620v160Z\"/>\n",
              "  </svg>\n",
              "    </button>\n",
              "\n",
              "  <style>\n",
              "    .colab-df-container {\n",
              "      display:flex;\n",
              "      gap: 12px;\n",
              "    }\n",
              "\n",
              "    .colab-df-convert {\n",
              "      background-color: #E8F0FE;\n",
              "      border: none;\n",
              "      border-radius: 50%;\n",
              "      cursor: pointer;\n",
              "      display: none;\n",
              "      fill: #1967D2;\n",
              "      height: 32px;\n",
              "      padding: 0 0 0 0;\n",
              "      width: 32px;\n",
              "    }\n",
              "\n",
              "    .colab-df-convert:hover {\n",
              "      background-color: #E2EBFA;\n",
              "      box-shadow: 0px 1px 2px rgba(60, 64, 67, 0.3), 0px 1px 3px 1px rgba(60, 64, 67, 0.15);\n",
              "      fill: #174EA6;\n",
              "    }\n",
              "\n",
              "    .colab-df-buttons div {\n",
              "      margin-bottom: 4px;\n",
              "    }\n",
              "\n",
              "    [theme=dark] .colab-df-convert {\n",
              "      background-color: #3B4455;\n",
              "      fill: #D2E3FC;\n",
              "    }\n",
              "\n",
              "    [theme=dark] .colab-df-convert:hover {\n",
              "      background-color: #434B5C;\n",
              "      box-shadow: 0px 1px 3px 1px rgba(0, 0, 0, 0.15);\n",
              "      filter: drop-shadow(0px 1px 2px rgba(0, 0, 0, 0.3));\n",
              "      fill: #FFFFFF;\n",
              "    }\n",
              "  </style>\n",
              "\n",
              "    <script>\n",
              "      const buttonEl =\n",
              "        document.querySelector('#df-403abdc2-08d3-4f3c-b5df-ce70b1e3cd8e button.colab-df-convert');\n",
              "      buttonEl.style.display =\n",
              "        google.colab.kernel.accessAllowed ? 'block' : 'none';\n",
              "\n",
              "      async function convertToInteractive(key) {\n",
              "        const element = document.querySelector('#df-403abdc2-08d3-4f3c-b5df-ce70b1e3cd8e');\n",
              "        const dataTable =\n",
              "          await google.colab.kernel.invokeFunction('convertToInteractive',\n",
              "                                                    [key], {});\n",
              "        if (!dataTable) return;\n",
              "\n",
              "        const docLinkHtml = 'Like what you see? Visit the ' +\n",
              "          '<a target=\"_blank\" href=https://colab.research.google.com/notebooks/data_table.ipynb>data table notebook</a>'\n",
              "          + ' to learn more about interactive tables.';\n",
              "        element.innerHTML = '';\n",
              "        dataTable['output_type'] = 'display_data';\n",
              "        await google.colab.output.renderOutput(dataTable, element);\n",
              "        const docLink = document.createElement('div');\n",
              "        docLink.innerHTML = docLinkHtml;\n",
              "        element.appendChild(docLink);\n",
              "      }\n",
              "    </script>\n",
              "  </div>\n",
              "\n",
              "\n",
              "<div id=\"df-85c43a68-b2f2-4019-9d5f-8bdcd174fe4a\">\n",
              "  <button class=\"colab-df-quickchart\" onclick=\"quickchart('df-85c43a68-b2f2-4019-9d5f-8bdcd174fe4a')\"\n",
              "            title=\"Suggest charts\"\n",
              "            style=\"display:none;\">\n",
              "\n",
              "<svg xmlns=\"http://www.w3.org/2000/svg\" height=\"24px\"viewBox=\"0 0 24 24\"\n",
              "     width=\"24px\">\n",
              "    <g>\n",
              "        <path d=\"M19 3H5c-1.1 0-2 .9-2 2v14c0 1.1.9 2 2 2h14c1.1 0 2-.9 2-2V5c0-1.1-.9-2-2-2zM9 17H7v-7h2v7zm4 0h-2V7h2v10zm4 0h-2v-4h2v4z\"/>\n",
              "    </g>\n",
              "</svg>\n",
              "  </button>\n",
              "\n",
              "<style>\n",
              "  .colab-df-quickchart {\n",
              "      --bg-color: #E8F0FE;\n",
              "      --fill-color: #1967D2;\n",
              "      --hover-bg-color: #E2EBFA;\n",
              "      --hover-fill-color: #174EA6;\n",
              "      --disabled-fill-color: #AAA;\n",
              "      --disabled-bg-color: #DDD;\n",
              "  }\n",
              "\n",
              "  [theme=dark] .colab-df-quickchart {\n",
              "      --bg-color: #3B4455;\n",
              "      --fill-color: #D2E3FC;\n",
              "      --hover-bg-color: #434B5C;\n",
              "      --hover-fill-color: #FFFFFF;\n",
              "      --disabled-bg-color: #3B4455;\n",
              "      --disabled-fill-color: #666;\n",
              "  }\n",
              "\n",
              "  .colab-df-quickchart {\n",
              "    background-color: var(--bg-color);\n",
              "    border: none;\n",
              "    border-radius: 50%;\n",
              "    cursor: pointer;\n",
              "    display: none;\n",
              "    fill: var(--fill-color);\n",
              "    height: 32px;\n",
              "    padding: 0;\n",
              "    width: 32px;\n",
              "  }\n",
              "\n",
              "  .colab-df-quickchart:hover {\n",
              "    background-color: var(--hover-bg-color);\n",
              "    box-shadow: 0 1px 2px rgba(60, 64, 67, 0.3), 0 1px 3px 1px rgba(60, 64, 67, 0.15);\n",
              "    fill: var(--button-hover-fill-color);\n",
              "  }\n",
              "\n",
              "  .colab-df-quickchart-complete:disabled,\n",
              "  .colab-df-quickchart-complete:disabled:hover {\n",
              "    background-color: var(--disabled-bg-color);\n",
              "    fill: var(--disabled-fill-color);\n",
              "    box-shadow: none;\n",
              "  }\n",
              "\n",
              "  .colab-df-spinner {\n",
              "    border: 2px solid var(--fill-color);\n",
              "    border-color: transparent;\n",
              "    border-bottom-color: var(--fill-color);\n",
              "    animation:\n",
              "      spin 1s steps(1) infinite;\n",
              "  }\n",
              "\n",
              "  @keyframes spin {\n",
              "    0% {\n",
              "      border-color: transparent;\n",
              "      border-bottom-color: var(--fill-color);\n",
              "      border-left-color: var(--fill-color);\n",
              "    }\n",
              "    20% {\n",
              "      border-color: transparent;\n",
              "      border-left-color: var(--fill-color);\n",
              "      border-top-color: var(--fill-color);\n",
              "    }\n",
              "    30% {\n",
              "      border-color: transparent;\n",
              "      border-left-color: var(--fill-color);\n",
              "      border-top-color: var(--fill-color);\n",
              "      border-right-color: var(--fill-color);\n",
              "    }\n",
              "    40% {\n",
              "      border-color: transparent;\n",
              "      border-right-color: var(--fill-color);\n",
              "      border-top-color: var(--fill-color);\n",
              "    }\n",
              "    60% {\n",
              "      border-color: transparent;\n",
              "      border-right-color: var(--fill-color);\n",
              "    }\n",
              "    80% {\n",
              "      border-color: transparent;\n",
              "      border-right-color: var(--fill-color);\n",
              "      border-bottom-color: var(--fill-color);\n",
              "    }\n",
              "    90% {\n",
              "      border-color: transparent;\n",
              "      border-bottom-color: var(--fill-color);\n",
              "    }\n",
              "  }\n",
              "</style>\n",
              "\n",
              "  <script>\n",
              "    async function quickchart(key) {\n",
              "      const quickchartButtonEl =\n",
              "        document.querySelector('#' + key + ' button');\n",
              "      quickchartButtonEl.disabled = true;  // To prevent multiple clicks.\n",
              "      quickchartButtonEl.classList.add('colab-df-spinner');\n",
              "      try {\n",
              "        const charts = await google.colab.kernel.invokeFunction(\n",
              "            'suggestCharts', [key], {});\n",
              "      } catch (error) {\n",
              "        console.error('Error during call to suggestCharts:', error);\n",
              "      }\n",
              "      quickchartButtonEl.classList.remove('colab-df-spinner');\n",
              "      quickchartButtonEl.classList.add('colab-df-quickchart-complete');\n",
              "    }\n",
              "    (() => {\n",
              "      let quickchartButtonEl =\n",
              "        document.querySelector('#df-85c43a68-b2f2-4019-9d5f-8bdcd174fe4a button');\n",
              "      quickchartButtonEl.style.display =\n",
              "        google.colab.kernel.accessAllowed ? 'block' : 'none';\n",
              "    })();\n",
              "  </script>\n",
              "</div>\n",
              "\n",
              "    </div>\n",
              "  </div>\n"
            ],
            "application/vnd.google.colaboratory.intrinsic+json": {
              "type": "dataframe",
              "summary": "{\n  \"name\": \"ss\",\n  \"rows\": 11,\n  \"fields\": [\n    {\n      \"column\": \"order_id\",\n      \"properties\": {\n        \"dtype\": \"number\",\n        \"std\": 20608.005969435795,\n        \"min\": 7508.229650559143,\n        \"max\": 74147.0,\n        \"num_unique_values\": 8,\n        \"samples\": [\n          61668.066339548575,\n          61869.0,\n          56045.0\n        ],\n        \"semantic_type\": \"\",\n        \"description\": \"\"\n      }\n    },\n    {\n      \"column\": \"order_date\",\n      \"properties\": {\n        \"dtype\": \"date\",\n        \"min\": \"1970-01-01 00:00:00.000000306\",\n        \"max\": \"2022-03-01 00:00:00\",\n        \"num_unique_values\": 4,\n        \"samples\": [\n          947,\n          \"306\",\n          \"56013\"\n        ],\n        \"semantic_type\": \"\",\n        \"description\": \"\"\n      }\n    },\n    {\n      \"column\": \"order_year_month\",\n      \"properties\": {\n        \"dtype\": \"date\",\n        \"min\": \"1970-01-01 00:00:00.000000035\",\n        \"max\": \"2022-05-01 00:00:00\",\n        \"num_unique_values\": 4,\n        \"samples\": [\n          35,\n          \"5416\",\n          \"56013\"\n        ],\n        \"semantic_type\": \"\",\n        \"description\": \"\"\n      }\n    },\n    {\n      \"column\": \"customer_name\",\n      \"properties\": {\n        \"dtype\": \"category\",\n        \"num_unique_values\": 4,\n        \"samples\": [\n          17343,\n          \"64\",\n          \"56045\"\n        ],\n        \"semantic_type\": \"\",\n        \"description\": \"\"\n      }\n    },\n    {\n      \"column\": \"city\",\n      \"properties\": {\n        \"dtype\": \"category\",\n        \"num_unique_values\": 4,\n        \"samples\": [\n          11920,\n          \"198\",\n          \"55571\"\n        ],\n        \"semantic_type\": \"\",\n        \"description\": \"\"\n      }\n    },\n    {\n      \"column\": \"state_province\",\n      \"properties\": {\n        \"dtype\": \"category\",\n        \"num_unique_values\": 4,\n        \"samples\": [\n          54,\n          \"1353\",\n          \"55571\"\n        ],\n        \"semantic_type\": \"\",\n        \"description\": \"\"\n      }\n    },\n    {\n      \"column\": \"quantity\",\n      \"properties\": {\n        \"dtype\": \"number\",\n        \"std\": 37943.160509739755,\n        \"min\": 1.0,\n        \"max\": 100000.0,\n        \"num_unique_values\": 6,\n        \"samples\": [\n          56006.0,\n          3.3484983751740884,\n          100000.0\n        ],\n        \"semantic_type\": \"\",\n        \"description\": \"\"\n      }\n    },\n    {\n      \"column\": \"product_name\",\n      \"properties\": {\n        \"dtype\": \"category\",\n        \"num_unique_values\": 4,\n        \"samples\": [\n          131,\n          \"3983\",\n          \"56045\"\n        ],\n        \"semantic_type\": \"\",\n        \"description\": \"\"\n      }\n    },\n    {\n      \"column\": \"product_line\",\n      \"properties\": {\n        \"dtype\": \"category\",\n        \"num_unique_values\": 4,\n        \"samples\": [\n          9,\n          \"19920\",\n          \"56045\"\n        ],\n        \"semantic_type\": \"\",\n        \"description\": \"\"\n      }\n    },\n    {\n      \"column\": \"product_price\",\n      \"properties\": {\n        \"dtype\": \"number\",\n        \"std\": 80969.15026589678,\n        \"min\": 2.29,\n        \"max\": 235481.0,\n        \"num_unique_values\": 8,\n        \"samples\": [\n          6195.540504594523,\n          475.6,\n          56045.0\n        ],\n        \"semantic_type\": \"\",\n        \"description\": \"\"\n      }\n    }\n  ]\n}"
            }
          },
          "metadata": {},
          "execution_count": 3
        }
      ]
    },
    {
      "cell_type": "code",
      "source": [],
      "metadata": {
        "id": "ehR4D37HVgpm"
      },
      "execution_count": null,
      "outputs": []
    },
    {
      "cell_type": "markdown",
      "metadata": {
        "id": "BPcop5yDcUsx"
      },
      "source": [
        "# Prepare Data\n",
        "\n",
        "➡️ Assignment Tasks\n",
        "- Remove rows with empty (NULL) values\n",
        "- Locate outliers in any of the variables.   Filter them out if they appear to be mistakes; keep them if they are exceptional cases.\n",
        "- Create a new field: total_purchase. This should be product_price x quantity."
      ]
    },
    {
      "cell_type": "code",
      "source": [
        "# Drop NAs\n",
        "ss_clean = ss.dropna()"
      ],
      "metadata": {
        "id": "f-b2lDVvWzQa"
      },
      "execution_count": 5,
      "outputs": []
    },
    {
      "cell_type": "code",
      "execution_count": 8,
      "metadata": {
        "vscode": {
          "languageId": "plaintext"
        },
        "id": "KtrPeA1AcUsx"
      },
      "outputs": [],
      "source": [
        "# Search for and filter outliers\n",
        "ss = ss[ss['product_price'] < 200000]\n",
        "ss = ss[ss['quantity'] < 100000]"
      ]
    },
    {
      "cell_type": "code",
      "source": [
        "# create total_purchase\n",
        "ss['total_purchase'] = ss['product_price'] * ss['quantity']"
      ],
      "metadata": {
        "id": "0QztZrVSay-m"
      },
      "execution_count": 13,
      "outputs": []
    },
    {
      "cell_type": "markdown",
      "source": [
        "Check that your cleaning worked"
      ],
      "metadata": {
        "id": "Wr82vY3grf3K"
      }
    },
    {
      "cell_type": "code",
      "source": [],
      "metadata": {
        "id": "sY_rqUM5z1Nu"
      },
      "execution_count": null,
      "outputs": []
    },
    {
      "cell_type": "code",
      "source": [
        "# your code goes here\n",
        "ss.info()"
      ],
      "metadata": {
        "id": "onexdv1ormJo",
        "colab": {
          "base_uri": "https://localhost:8080/"
        },
        "outputId": "2f5d9e54-c152-4ff2-81bf-8b247c349f49"
      },
      "execution_count": 14,
      "outputs": [
        {
          "output_type": "stream",
          "name": "stdout",
          "text": [
            "<class 'pandas.core.frame.DataFrame'>\n",
            "Index: 54673 entries, 0 to 56044\n",
            "Data columns (total 11 columns):\n",
            " #   Column            Non-Null Count  Dtype  \n",
            "---  ------            --------------  -----  \n",
            " 0   order_id          54673 non-null  int64  \n",
            " 1   order_date        54642 non-null  object \n",
            " 2   order_year_month  54642 non-null  object \n",
            " 3   customer_name     54673 non-null  object \n",
            " 4   city              54204 non-null  object \n",
            " 5   state_province    54204 non-null  object \n",
            " 6   quantity          54673 non-null  float64\n",
            " 7   product_name      54673 non-null  object \n",
            " 8   product_line      54673 non-null  object \n",
            " 9   product_price     54673 non-null  float64\n",
            " 10  total_purchase    54673 non-null  float64\n",
            "dtypes: float64(3), int64(1), object(7)\n",
            "memory usage: 5.0+ MB\n"
          ]
        }
      ]
    },
    {
      "cell_type": "markdown",
      "metadata": {
        "id": "rV14NAbkcUsx"
      },
      "source": [
        "# Summarize Data\n",
        "\n",
        "➡️ Assignment Tasks\n",
        "- Calculate the average price per year-month\n",
        "- Calculate the total revenue per year month\n",
        "\n",
        "Does more cleaning need to be done? If so, do it and then recreate the above summary tables."
      ]
    },
    {
      "cell_type": "code",
      "execution_count": 15,
      "metadata": {
        "vscode": {
          "languageId": "plaintext"
        },
        "id": "-pnCkc3CcUsx",
        "colab": {
          "base_uri": "https://localhost:8080/"
        },
        "outputId": "5de6ceb8-7248-4e7b-d7dc-013706d7943b"
      },
      "outputs": [
        {
          "output_type": "execute_result",
          "data": {
            "text/plain": [
              "order_year_month\n",
              "1922-06     587.584737\n",
              "2020-01    3172.420978\n",
              "2020-02    3217.667212\n",
              "2020-03    3242.706768\n",
              "2020-04    3194.646275\n",
              "2020-05    3192.571359\n",
              "2020-06    3151.209623\n",
              "2020-07    1959.974251\n",
              "2020-08    1921.246151\n",
              "2020-09    1740.987143\n",
              "2020-10    1800.830762\n",
              "2020-11    1693.386178\n",
              "2020-12    1716.205675\n",
              "2021-01    1774.621612\n",
              "2021-02    1763.226404\n",
              "2021-03    1761.580940\n",
              "2021-04    1691.161107\n",
              "2021-05    1643.897690\n",
              "2021-06    1696.822340\n",
              "2021-07     730.154927\n",
              "2021-08     407.521470\n",
              "2021-09     433.798293\n",
              "2021-10     434.324085\n",
              "2021-11     467.077183\n",
              "2021-12     497.758480\n",
              "2022-01     468.562265\n",
              "2022-02     480.065652\n",
              "2022-03     484.550275\n",
              "2022-04     482.023023\n",
              "2022-05     513.518328\n",
              "2022-06     509.162366\n",
              "2029-06       3.640000\n",
              "2029-07     498.690357\n",
              "2029-08       6.656667\n",
              "2421-09     490.580727\n",
              "Name: product_price, dtype: float64"
            ]
          },
          "metadata": {},
          "execution_count": 15
        }
      ],
      "source": [
        "# average price\n",
        "ss.groupby(['order_year_month'])['product_price'].mean()"
      ]
    },
    {
      "cell_type": "code",
      "execution_count": 19,
      "metadata": {
        "vscode": {
          "languageId": "plaintext"
        },
        "id": "KUq0h-4PcUsy",
        "colab": {
          "base_uri": "https://localhost:8080/"
        },
        "outputId": "cf3b47c6-4f4e-48ea-9654-6ce2aa156594"
      },
      "outputs": [
        {
          "output_type": "stream",
          "name": "stdout",
          "text": [
            "order_year_month\n",
            "2020-01    4745149.93\n",
            "2020-02     530915.09\n",
            "2020-03     710043.07\n",
            "2020-04     651707.84\n",
            "2020-05     657669.70\n",
            "2020-06     668056.44\n",
            "2020-07     484113.64\n",
            "2020-08     534106.43\n",
            "2020-09     341233.48\n",
            "2020-10     401585.26\n",
            "2020-11     323436.76\n",
            "2020-12     559483.05\n",
            "2021-01     429458.43\n",
            "2021-02     470781.45\n",
            "2021-03     468580.53\n",
            "2021-04     488745.56\n",
            "2021-05     540842.34\n",
            "2021-06     529408.57\n",
            "2021-07    1076738.77\n",
            "2021-08    1791406.96\n",
            "2021-09    1880906.56\n",
            "2021-10    2023755.48\n",
            "2021-11    2175384.07\n",
            "2021-12    2906897.25\n",
            "2022-01    2407750.14\n",
            "2022-02    2366471.30\n",
            "2022-03    4448898.50\n",
            "2022-04    2698570.94\n",
            "2022-05    3085060.92\n",
            "2022-06    2972384.91\n",
            "2029-06         19.55\n",
            "2029-07      46396.82\n",
            "2029-08         39.94\n",
            "Name: total_purchase, dtype: float64\n"
          ]
        }
      ],
      "source": [
        "# total revenue\n",
        "ss = ss.groupby(['order_year_month'])['total_purchase'].sum()\n",
        "ss = ss[ss.index.str.startswith('20')]\n",
        "\n",
        "print(ss)\n"
      ]
    },
    {
      "cell_type": "markdown",
      "source": [
        "# Plot Data\n",
        "\n",
        "➡️ Assignment Tasks\n",
        "- Produce two plots that show patterns or relationships in the data.\n",
        "- Interpret these patterns for potential value to the business.  "
      ],
      "metadata": {
        "id": "zY7mwXAFmu8i"
      }
    },
    {
      "cell_type": "code",
      "source": [
        "import pandas as pd\n",
        "import matplotlib.pyplot as plt\n",
        "!pip install seaborn\n",
        "import seaborn as sns"
      ],
      "metadata": {
        "colab": {
          "base_uri": "https://localhost:8080/"
        },
        "id": "zmKXdTenM5VP",
        "outputId": "fbc0826f-f5ba-4bf9-8d02-57b234e5628f"
      },
      "execution_count": 44,
      "outputs": [
        {
          "output_type": "stream",
          "name": "stdout",
          "text": [
            "Requirement already satisfied: seaborn in /usr/local/lib/python3.10/dist-packages (0.13.1)\n",
            "Requirement already satisfied: numpy!=1.24.0,>=1.20 in /usr/local/lib/python3.10/dist-packages (from seaborn) (1.25.2)\n",
            "Requirement already satisfied: pandas>=1.2 in /usr/local/lib/python3.10/dist-packages (from seaborn) (2.0.3)\n",
            "Requirement already satisfied: matplotlib!=3.6.1,>=3.4 in /usr/local/lib/python3.10/dist-packages (from seaborn) (3.7.1)\n",
            "Requirement already satisfied: contourpy>=1.0.1 in /usr/local/lib/python3.10/dist-packages (from matplotlib!=3.6.1,>=3.4->seaborn) (1.2.1)\n",
            "Requirement already satisfied: cycler>=0.10 in /usr/local/lib/python3.10/dist-packages (from matplotlib!=3.6.1,>=3.4->seaborn) (0.12.1)\n",
            "Requirement already satisfied: fonttools>=4.22.0 in /usr/local/lib/python3.10/dist-packages (from matplotlib!=3.6.1,>=3.4->seaborn) (4.53.1)\n",
            "Requirement already satisfied: kiwisolver>=1.0.1 in /usr/local/lib/python3.10/dist-packages (from matplotlib!=3.6.1,>=3.4->seaborn) (1.4.5)\n",
            "Requirement already satisfied: packaging>=20.0 in /usr/local/lib/python3.10/dist-packages (from matplotlib!=3.6.1,>=3.4->seaborn) (24.1)\n",
            "Requirement already satisfied: pillow>=6.2.0 in /usr/local/lib/python3.10/dist-packages (from matplotlib!=3.6.1,>=3.4->seaborn) (9.4.0)\n",
            "Requirement already satisfied: pyparsing>=2.3.1 in /usr/local/lib/python3.10/dist-packages (from matplotlib!=3.6.1,>=3.4->seaborn) (3.1.2)\n",
            "Requirement already satisfied: python-dateutil>=2.7 in /usr/local/lib/python3.10/dist-packages (from matplotlib!=3.6.1,>=3.4->seaborn) (2.8.2)\n",
            "Requirement already satisfied: pytz>=2020.1 in /usr/local/lib/python3.10/dist-packages (from pandas>=1.2->seaborn) (2023.4)\n",
            "Requirement already satisfied: tzdata>=2022.1 in /usr/local/lib/python3.10/dist-packages (from pandas>=1.2->seaborn) (2024.1)\n",
            "Requirement already satisfied: six>=1.5 in /usr/local/lib/python3.10/dist-packages (from python-dateutil>=2.7->matplotlib!=3.6.1,>=3.4->seaborn) (1.16.0)\n"
          ]
        }
      ]
    },
    {
      "cell_type": "code",
      "source": [
        "# Your code goes here.  Plot 1\n",
        "data = {'Order Date': ['2030-01-10', '2023-02-15', '2023-03-22'],\n",
        "        'Sales': [100, 150, 200]}\n",
        "df = pd.DataFrame(data)"
      ],
      "metadata": {
        "id": "TBkuVxipmJPS"
      },
      "execution_count": 45,
      "outputs": []
    },
    {
      "cell_type": "code",
      "source": [
        "df['Order Date'] = pd.to_datetime(df['Order Date'])\n",
        "\n",
        "df['Order Month'] = df['Order Date'].dt.to_period('M')\n",
        "monthly_sales = df.groupby('Order Month')['Sales'].sum()\n",
        "plt.figure(figsize=(12,6))\n",
        "monthly_sales.plot(kind='line', marker='o')\n",
        "plt.title('Monthly Sales Trend')\n",
        "plt.xlabel('Order Month')\n",
        "plt.ylabel('Total Sales')\n",
        "plt.grid(True)\n",
        "plt.show()"
      ],
      "metadata": {
        "colab": {
          "base_uri": "https://localhost:8080/",
          "height": 396
        },
        "id": "L9Jfr_YAN3g_",
        "outputId": "9d1570f2-56e6-46fe-c93c-29de78ae0abc"
      },
      "execution_count": 46,
      "outputs": [
        {
          "output_type": "display_data",
          "data": {
            "text/plain": [
              "<Figure size 1200x600 with 1 Axes>"
            ],
            "image/png": "[encoded data removed]"
          },
          "metadata": {}
        }
      ]
    },
    {
      "cell_type": "code",
      "source": [
        "# Your code goes here.  Plot 2\n",
        "df['Category'] = ['Electronics', 'Books', 'Clothing']\n",
        "df ['Profit'] = [20,15,30]\n",
        "\n",
        "plt.figure(figsize=(10, 6))\n",
        "sns.barplot(x='Category', y='Profit', data=df)\n",
        "plt.title(\"Profit Distribution by Category\")\n",
        "plt.xlabel(\"Category\")\n",
        "plt.ylabel(\"Profit\")\n",
        "plt.xticks(rotation=45)\n",
        "plt.show()"
      ],
      "metadata": {
        "id": "L3Z0NdFLnUB9",
        "colab": {
          "base_uri": "https://localhost:8080/",
          "height": 519
        },
        "outputId": "b65a8bc1-27fa-4280-d0e5-7edcc2f3e8ea"
      },
      "execution_count": 47,
      "outputs": [
        {
          "output_type": "display_data",
          "data": {
            "text/plain": [
              "<Figure size 1000x600 with 1 Axes>"
            ],
            "image/png": "[encoded data removed]"
          },
          "metadata": {}
        }
      ]
    },
    {
      "cell_type": "markdown",
      "source": [
        "Make an interpretive comment."
      ],
      "metadata": {
        "id": "pfFlJJQ2r_d8"
      }
    }
  ],
  "metadata": {
    "language_info": {
      "name": "python"
    },
    "colab": {
      "provenance": [],
      "include_colab_link": true
    },
    "kernelspec": {
      "name": "python3",
      "display_name": "Python 3"
    }
  },
  "nbformat": 4,
  "nbformat_minor": 0
}