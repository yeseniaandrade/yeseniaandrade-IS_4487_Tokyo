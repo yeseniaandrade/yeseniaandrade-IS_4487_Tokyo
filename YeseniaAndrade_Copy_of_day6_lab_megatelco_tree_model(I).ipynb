{
  "cells": [
    {
      "cell_type": "markdown",
      "metadata": {
        "id": "view-in-github",
        "colab_type": "text"
      },
      "source": [
        "<a href=\"https://colab.research.google.com/github/yeseniaandrade/yeseniaandrade-IS_4487_Tokyo/blob/main/YeseniaAndrade_Copy_of_day6_lab_megatelco_tree_model(I).ipynb\" target=\"_parent\"><img src=\"https://colab.research.google.com/assets/colab-badge.svg\" alt=\"Open In Colab\"/></a>"
      ]
    },
    {
      "cell_type": "markdown",
      "metadata": {
        "id": "p_Yu45OYdj3Y"
      },
      "source": [
        "# Day 6 Lab, IS 4487\n",
        "\n",
        "The purpose of this lab is to prepare you to complete today's project quiz. Here are the questions you need to be able to answer.\n",
        "\n",
        "- Understand model accuracy.  And:  Why is it a performance metric for classification and not regression?\n",
        "- Calculate accuracy for a simple majority class model (this is the same as calculating the proportion of the majority class in a binary variable).\n",
        "- Fit a tree model of the target with just one predictor variable and calculate the accuracy of this model.\n",
        "- Calculate accuracy for the tree model.\n",
        "- Explain how the classification tree algorithm chooses which variable to split on and where to split.\n",
        "\n",
        "Additionally will talk about cross validation and overfitting."
      ]
    },
    {
      "cell_type": "markdown",
      "metadata": {
        "id": "UE93RwXhgiJS"
      },
      "source": [
        "## Load Libraries\n",
        "\n"
      ]
    },
    {
      "cell_type": "code",
      "execution_count": 3,
      "metadata": {
        "id": "JYRZY5n0gfNe"
      },
      "outputs": [],
      "source": [
        "import pandas as pd\n",
        "\n",
        "# Import packages needed for the classification tree\n",
        "from sklearn.tree import plot_tree\n",
        "from sklearn import tree\n",
        "from sklearn.tree import DecisionTreeClassifier, export_graphviz # Import Decision Tree Classifier\n"
      ]
    },
    {
      "cell_type": "markdown",
      "metadata": {
        "id": "bREaXo8jfu-O"
      },
      "source": [
        "## Get Data\n"
      ]
    },
    {
      "cell_type": "code",
      "execution_count": 4,
      "metadata": {
        "vscode": {
          "languageId": "plaintext"
        },
        "id": "O8P7DoGU3aG8"
      },
      "outputs": [],
      "source": [
        "mtc = pd.read_csv(\"https://raw.githubusercontent.com/jefftwebb/is_4487_base/dd870389117d5b24eee7417d5378d80496555130/Labs/DataSets/megatelco_leave_survey.csv\")"
      ]
    },
    {
      "cell_type": "markdown",
      "metadata": {
        "id": "BtxOWvFlKzgE"
      },
      "source": [
        "## Clean the data\n",
        "\n",
        "Perform the cleaning from the previous labs:\n",
        "- Remove negative values of income and house\n",
        "- Remove absurdly large value of handset_price\n",
        "- Remove NAs\n",
        "- Change `college` to `yes` and `no`\n",
        "- Make string variables into categorical variables. We've been using `astype(\"categorical\")` to do that, but there is a better way when we also need to define an order among multiple levels.  This is important for plotting and for accurate modelling.\n",
        "\n",
        "Start by making `mtc_clean` an explicit copy.  This will avoid the warning you've been getting: \"A value is trying to be set on a copy of a slice from a DataFrame.\"\n"
      ]
    },
    {
      "cell_type": "code",
      "source": [
        "# Make copy\n",
        "mtc_clean = mtc.copy()"
      ],
      "metadata": {
        "id": "DnlmPgw4vpYX"
      },
      "execution_count": 5,
      "outputs": []
    },
    {
      "cell_type": "code",
      "execution_count": 6,
      "metadata": {
        "vscode": {
          "languageId": "plaintext"
        },
        "id": "-Qs5j2i23aG8"
      },
      "outputs": [],
      "source": [
        "# filter rows\n",
        "mtc_clean = mtc[(mtc['house'] > 0) & (mtc['income'] > 0) & (mtc['handset_price'] < 1000)]\n"
      ]
    },
    {
      "cell_type": "code",
      "source": [
        "# remove NAs\n",
        "mtc_clean = mtc_clean.dropna()"
      ],
      "metadata": {
        "id": "U0jC5mp0DHUN"
      },
      "execution_count": 7,
      "outputs": []
    },
    {
      "cell_type": "code",
      "source": [
        "# Recode college\n",
        "mtc_clean['college'] = mtc_clean['college'].replace({'one': 'yes', 'zero': 'no'})"
      ],
      "metadata": {
        "id": "85LGAi-yzxmt"
      },
      "execution_count": 8,
      "outputs": []
    },
    {
      "cell_type": "markdown",
      "source": [
        "We'll use the `pd.Categorical()` function to simultaneously make the string variables categorical and set the levels.  The syntax is:\n",
        "\n",
        "`data['column'] = pd.Categorical(data['column'],\n",
        "  categories = list,\n",
        "  ordered = True)`\n",
        "  \n",
        "  where \"list\" is the list of levels in order, such as:  `['small', 'medium', 'large']`. Without explicitly setting this order the default would be alphabetic:  large, medium, small.\n",
        "\n",
        "  Here's an example:"
      ],
      "metadata": {
        "id": "a5iP8B2Ww-QI"
      }
    },
    {
      "cell_type": "code",
      "source": [
        "# Convert string to categorical variable\n",
        "mtc_clean['leave'] = pd.Categorical(mtc_clean['leave'],\n",
        "                                    categories = ['LEAVE', 'STAY'],\n",
        "                                    ordered = True)\n"
      ],
      "metadata": {
        "id": "cc-Z0X9QDIUZ"
      },
      "execution_count": 9,
      "outputs": []
    },
    {
      "cell_type": "code",
      "source": [
        "mtc_clean['leave'].dtype"
      ],
      "metadata": {
        "id": "aUIkFZvcyw3b",
        "colab": {
          "base_uri": "https://localhost:8080/"
        },
        "outputId": "b156bd9a-a793-438c-c37f-89e1493d1aaa"
      },
      "execution_count": 10,
      "outputs": [
        {
          "output_type": "execute_result",
          "data": {
            "text/plain": [
              "CategoricalDtype(categories=['LEAVE', 'STAY'], ordered=True)"
            ]
          },
          "metadata": {},
          "execution_count": 10
        }
      ]
    },
    {
      "cell_type": "markdown",
      "source": [
        "Looks good.  \n",
        "\n",
        "Go ahead and do a similar transformation on the remainder of categorical variables:\n",
        "\n",
        "- `reported_satisfaction`\n",
        "- `reported_usage_level`\n",
        "- `considering_change_of_plan`\n",
        "- `college`"
      ],
      "metadata": {
        "id": "lYH_QEYIzH26"
      }
    },
    {
      "cell_type": "code",
      "source": [
        "mtc_clean['reported_satisfaction'].unique()"
      ],
      "metadata": {
        "colab": {
          "base_uri": "https://localhost:8080/"
        },
        "id": "N9tVPPfBxAtW",
        "outputId": "6673c04c-cd74-4f8a-f99d-0a50d615848c"
      },
      "execution_count": 11,
      "outputs": [
        {
          "output_type": "execute_result",
          "data": {
            "text/plain": [
              "array(['low', 'high', 'avg'], dtype=object)"
            ]
          },
          "metadata": {},
          "execution_count": 11
        }
      ]
    },
    {
      "cell_type": "code",
      "source": [
        "mtc_clean['reported_usage_level'].unique()"
      ],
      "metadata": {
        "colab": {
          "base_uri": "https://localhost:8080/"
        },
        "id": "5lGFAGpxxSfo",
        "outputId": "ab1deedf-8cc1-417b-f576-ce626efe688e"
      },
      "execution_count": 12,
      "outputs": [
        {
          "output_type": "execute_result",
          "data": {
            "text/plain": [
              "array(['low', 'high', 'avg'], dtype=object)"
            ]
          },
          "metadata": {},
          "execution_count": 12
        }
      ]
    },
    {
      "cell_type": "code",
      "source": [
        "mtc_clean['considering_change_of_plan'].unique()"
      ],
      "metadata": {
        "colab": {
          "base_uri": "https://localhost:8080/"
        },
        "id": "inBMW29ExZCA",
        "outputId": "50f55b32-9416-47d5-cb44-5dd98ab99c26"
      },
      "execution_count": 13,
      "outputs": [
        {
          "output_type": "execute_result",
          "data": {
            "text/plain": [
              "array(['yes', 'no', 'maybe'], dtype=object)"
            ]
          },
          "metadata": {},
          "execution_count": 13
        }
      ]
    },
    {
      "cell_type": "code",
      "source": [
        "mtc_clean['college'].unique()"
      ],
      "metadata": {
        "colab": {
          "base_uri": "https://localhost:8080/"
        },
        "id": "6tuzFxnvxhzi",
        "outputId": "6e62202f-c246-47e7-cc44-59ba3d1d1244"
      },
      "execution_count": 14,
      "outputs": [
        {
          "output_type": "execute_result",
          "data": {
            "text/plain": [
              "array(['yes', 'no'], dtype=object)"
            ]
          },
          "metadata": {},
          "execution_count": 14
        }
      ]
    },
    {
      "cell_type": "code",
      "execution_count": 15,
      "metadata": {
        "id": "7KXLvMcBK8Za"
      },
      "outputs": [],
      "source": [
        "# change college and condering change of plan\n",
        "mtc_clean['college'] = mtc_clean['college'].astype('category')\n",
        "mtc_clean['considering_change_of_plan'] = mtc_clean['considering_change_of_plan'].astype('category')"
      ]
    },
    {
      "cell_type": "code",
      "source": [
        "# change reported usage and and reported satisfaction\n",
        "\n",
        "mtc_clean['reported_satisfaction'] = pd.Categorical(mtc_clean['reported_satisfaction'],\n",
        "                                    categories = ['low', 'avg', 'high'],\n",
        "                                    ordered = True)\n"
      ],
      "metadata": {
        "id": "3RwoV6G-yCGY"
      },
      "execution_count": 16,
      "outputs": []
    },
    {
      "cell_type": "markdown",
      "metadata": {
        "id": "uathUi6xfDPf"
      },
      "source": [
        "## Calculate the proportion of the majority class  \n",
        "What is the proportion of customers who churned? Note that `len(data)` (where \"data\" is your data frame) returns a count of the number of observations.\n"
      ]
    },
    {
      "cell_type": "code",
      "execution_count": 17,
      "metadata": {
        "id": "3Ajdg2zO56Cf",
        "colab": {
          "base_uri": "https://localhost:8080/"
        },
        "outputId": "63d260b9-a754-47d3-b4f9-132f35c39694"
      },
      "outputs": [
        {
          "output_type": "execute_result",
          "data": {
            "text/plain": [
              "leave\n",
              "STAY     0.505807\n",
              "LEAVE    0.494193\n",
              "Name: proportion, dtype: float64"
            ]
          },
          "metadata": {},
          "execution_count": 17
        }
      ],
      "source": [
        "# Your code goes here\n",
        "mtc_clean['leave'].value_counts(normalize = True)"
      ]
    },
    {
      "cell_type": "markdown",
      "source": [
        "Why should we care?\n",
        "\n",
        "The majority class in the target variable will serve as an important benchmark for model performance. Predicting the majority class is the simplest possible classifier. We'll call it the \"majority class classifier.\" It represents the best predictive guess you can make, in the absence of other information.  The accuracy of the majority class classifier is simply the proportion of the majority class in the data.\n",
        "\n",
        "Why is this?\n",
        "\n",
        "*Accuracy is defined as the proportion of correctly predicted labels. It is a commonly used error metric for evaluating classifier performance.*\n",
        "\n",
        "**Whatever later model we develop should have better accuracy than this performance benchmark.**"
      ],
      "metadata": {
        "id": "PBUEVVQz7G6n"
      }
    },
    {
      "cell_type": "markdown",
      "metadata": {
        "id": "SoJLJMlceORN"
      },
      "source": [
        "## Fit a basic tree model\n",
        "\n",
        "Use just one variable, `income`. This is a very simple tree we'll call the \"money tree.\"\n",
        "\n"
      ]
    },
    {
      "cell_type": "code",
      "execution_count": 18,
      "metadata": {
        "id": "1Vw085TGtcrB"
      },
      "outputs": [],
      "source": [
        "# Step 1:  Initialize model, specifying\n",
        "# 1. split criterion is entropy\n",
        "# 2. max_depth = 2\n",
        "\n",
        "money_tree = DecisionTreeClassifier(criterion = \"entropy\", max_depth = 2)"
      ]
    },
    {
      "cell_type": "markdown",
      "source": [
        "Explanation of code:\n",
        "\n",
        "- `DecisionTreeClassifier()`: Creates an instance of the decision tree classifier from scikit-learn\n",
        "- `criterion=\"entropy\"`: Specifies the function to measure the quality of a split (entropy measures the impurity of the split)\n",
        "- `max_depth=2`: Limits the tree to a maximum depth of 2 levels, controlling complexity and preventing overfitting\n",
        "- Output: Returns a configured decision tree classifier object, ready to be fitted with data\n"
      ],
      "metadata": {
        "id": "k6SUiB_x-tvW"
      }
    },
    {
      "cell_type": "code",
      "source": [
        "# Step 2: Create Decision Tree Classifer, specifying\n",
        "# 1. X (the predictor set) as income\n",
        "# 2. y (the target) as leave\n",
        "\n",
        "money_tree = money_tree.fit(X = mtc_clean[['income']],\n",
        "                            y = mtc_clean['leave'])\n"
      ],
      "metadata": {
        "id": "yzCaZ2Ud0Dmz"
      },
      "execution_count": 19,
      "outputs": []
    },
    {
      "cell_type": "markdown",
      "source": [
        "Explanation of code:\n",
        "\n",
        "- `money_tree.fit()`: Trains the decision tree classifier on the provided data\n",
        "- `X = mtc_clean[['income']]`: Input feature (predictor), selecting only the `income` column *as a DataFrame* (note the double square brackets)\n",
        "- `y = mtc_clean['leave']`: Target variable, the `leave` column containing the class labels\n",
        "- Output: Returns the fitted decision tree model, now trained on the income data to predict customer churn\n",
        "\n",
        "Gemini prompt:  \"what is the difference between double and single square brackets in Pandas for slicing?\""
      ],
      "metadata": {
        "id": "UwkbiKj8-77f"
      }
    },
    {
      "cell_type": "code",
      "source": [
        "# step 3: print the model\n",
        "from sklearn.tree import export_text\n",
        "print(export_text(money_tree, feature_names=['income']))\n"
      ],
      "metadata": {
        "colab": {
          "base_uri": "https://localhost:8080/"
        },
        "id": "GS3kQk843ZPN",
        "outputId": "f122b91b-b4d4-472b-a847-9a6604403830"
      },
      "execution_count": 20,
      "outputs": [
        {
          "output_type": "stream",
          "name": "stdout",
          "text": [
            "|--- income <= 99993.00\n",
            "|   |--- income <= 20181.00\n",
            "|   |   |--- class: STAY\n",
            "|   |--- income >  20181.00\n",
            "|   |   |--- class: STAY\n",
            "|--- income >  99993.00\n",
            "|   |--- income <= 159576.00\n",
            "|   |   |--- class: LEAVE\n",
            "|   |--- income >  159576.00\n",
            "|   |   |--- class: LEAVE\n",
            "\n"
          ]
        }
      ]
    },
    {
      "cell_type": "code",
      "source": [
        "# Step 4: Visualize the money tree model\n",
        "plot_tree(money_tree,\n",
        "          feature_names=[['income']],\n",
        "          class_names=['STAY', 'LEAVE'],\n",
        "          filled=True)\n"
      ],
      "metadata": {
        "id": "SBmTomoI0vqT",
        "colab": {
          "base_uri": "https://localhost:8080/",
          "height": 656
        },
        "outputId": "77702873-74e4-4c53-887f-45884ce1f141"
      },
      "execution_count": 21,
      "outputs": [
        {
          "output_type": "execute_result",
          "data": {
            "text/plain": [
              "[Text(0.5, 0.8333333333333334, \"['income'] <= 99993.0\\nentropy = 1.0\\nsamples = 4994\\nvalue = [2468, 2526]\\nclass = LEAVE\"),\n",
              " Text(0.25, 0.5, \"['income'] <= 20181.0\\nentropy = 0.991\\nsamples = 3303\\nvalue = [1468, 1835]\\nclass = LEAVE\"),\n",
              " Text(0.125, 0.16666666666666666, 'entropy = 0.0\\nsamples = 8\\nvalue = [0, 8]\\nclass = LEAVE'),\n",
              " Text(0.375, 0.16666666666666666, 'entropy = 0.991\\nsamples = 3295\\nvalue = [1468, 1827]\\nclass = LEAVE'),\n",
              " Text(0.75, 0.5, \"['income'] <= 159576.0\\nentropy = 0.976\\nsamples = 1691\\nvalue = [1000, 691]\\nclass = STAY\"),\n",
              " Text(0.625, 0.16666666666666666, 'entropy = 0.977\\nsamples = 1680\\nvalue = [989, 691]\\nclass = STAY'),\n",
              " Text(0.875, 0.16666666666666666, 'entropy = 0.0\\nsamples = 11\\nvalue = [11, 0]\\nclass = STAY')]"
            ]
          },
          "metadata": {},
          "execution_count": 21
        },
        {
          "output_type": "display_data",
          "data": {
            "text/plain": [
              "<Figure size 640x480 with 1 Axes>"
            ],
            "image/png": "[encoded data removed]"
          },
          "metadata": {}
        }
      ]
    },
    {
      "cell_type": "markdown",
      "source": [
        "Explanation of code:\n",
        "\n",
        "- `plot_tree()`: Function from scikit-learn to visualize the decision tree\n",
        "- `money_tree`: The fitted decision tree model to be visualized\n",
        "- `feature_names=[['income']]`: Labels the feature as `income` in the tree diagram\n",
        "- `class_names=['STAY', 'LEAVE']`: Specifies the names for the target classes in the visualization\n",
        "- `filled=True`: Colorizes the nodes based on the majority class at each node\n"
      ],
      "metadata": {
        "id": "cDiScO_z_Jr_"
      }
    },
    {
      "cell_type": "markdown",
      "source": [
        "This plot is a bit confusing!  Here is an interpretive guide.\n",
        "\n",
        "1. **Root Node (Top)**:\n",
        "   - Split: income <= 99993.0\n",
        "   - Samples: 4994\n",
        "   - Initial prediction: LEAVE\n",
        "\n",
        "2. **Second Level**:\n",
        "   - Left Branch (income <= 20181.0):\n",
        "     - Samples: 3303\n",
        "     - Prediction: LEAVE\n",
        "   - Right Branch (20181.0 < income <= 159576.0):\n",
        "     - Samples: 1691\n",
        "     - Prediction: STAY\n",
        "\n",
        "3. **Third Level (Leaf Nodes)**:\n",
        "   - Far Left (income <= 20181.0):\n",
        "     - Samples: 8\n",
        "     - Prediction: LEAVE (high certainty, entropy = 0.0)\n",
        "   - Middle Left (20181.0 < income <= 99993.0):\n",
        "     - Samples: 3295\n",
        "     - Prediction: LEAVE (with uncertainty, entropy = 0.991)\n",
        "   - Middle Right (99993.0 < income <= 159576.0):\n",
        "     - Samples: 1680\n",
        "     - Prediction: STAY (with uncertainty, entropy = 0.977)\n",
        "   - Far Right (income > 159576.0):\n",
        "     - Samples: 11\n",
        "     - Prediction: STAY (high certainty, entropy = 0.0)\n",
        "\n"
      ],
      "metadata": {
        "id": "IbW4AjDb2jRr"
      }
    },
    {
      "cell_type": "markdown",
      "metadata": {
        "id": "sSNfQKZA3jg2"
      },
      "source": [
        "## Check Accuracy\n",
        "\n",
        "What is the accuracy of the money_tree?\n"
      ]
    },
    {
      "cell_type": "code",
      "execution_count": 22,
      "metadata": {
        "id": "eVOSIP8SeYg3"
      },
      "outputs": [],
      "source": [
        "# 1. Generate predictions from the model for the training data\n",
        "pred = money_tree.predict(X = mtc_clean[['income']])"
      ]
    },
    {
      "cell_type": "markdown",
      "source": [
        "Explanation of code:\n",
        "\n",
        "- `money_tree.predict()`: Method to make predictions using the trained decision tree model\n",
        "- `X = mtc_clean[['income']]`: Input data for prediction, using only the `income` column from the DataFrame\n",
        "- Output: Returns an array of predicted class labels ('STAY' or 'LEAVE') for each row in the input data\n"
      ],
      "metadata": {
        "id": "jXLkeMZL_zl3"
      }
    },
    {
      "cell_type": "code",
      "source": [
        "# 2. Calculate accuracy as the proportion of correct predictions\n",
        "\n",
        "# Your code goes here\n",
        "sum(pred == mtc_clean['leave'])/ len(pred)"
      ],
      "metadata": {
        "id": "3--rlxGz4Ijb",
        "colab": {
          "base_uri": "https://localhost:8080/"
        },
        "outputId": "164ab1df-6916-4412-c557-8412f66dcb23"
      },
      "execution_count": 23,
      "outputs": [
        {
          "output_type": "execute_result",
          "data": {
            "text/plain": [
              "0.5676812174609531"
            ]
          },
          "metadata": {},
          "execution_count": 23
        }
      ]
    },
    {
      "cell_type": "markdown",
      "source": [
        "So, this is better than the accuracy of the majority class classifier, which was our benchmark.  Success!\n",
        "\n",
        "Would a more complicated model have better performance measured in terms of accuracy?"
      ],
      "metadata": {
        "id": "72FK7HoX9I-r"
      }
    },
    {
      "cell_type": "markdown",
      "source": [
        "## Overfitting\n",
        "\n",
        "Refit the tree, only this time leave out the `max_depth` argument.  This will allow the tree to fit as complicated a model as possible."
      ],
      "metadata": {
        "id": "ZMR3whx_5GlH"
      }
    },
    {
      "cell_type": "code",
      "source": [
        "# Your code goes here\n",
        "money_tree = DecisionTreeClassifier(criterion = \"entropy\")\n",
        "money_tree = money_tree.fit(X = mtc_clean[['income']],\n",
        "                            y = mtc_clean['leave'])\n",
        "pred = money_tree.predict(X = mtc_clean[['income']])"
      ],
      "metadata": {
        "id": "aAJoimRw5MqZ"
      },
      "execution_count": 24,
      "outputs": []
    },
    {
      "cell_type": "code",
      "source": [
        "sum(pred == mtc_clean['leave'])/ len(pred)"
      ],
      "metadata": {
        "colab": {
          "base_uri": "https://localhost:8080/"
        },
        "id": "b9bNKQjj5ynu",
        "outputId": "59b23233-70a1-4462-b1cc-494c8733fad9"
      },
      "execution_count": 25,
      "outputs": [
        {
          "output_type": "execute_result",
          "data": {
            "text/plain": [
              "0.9881858229875851"
            ]
          },
          "metadata": {},
          "execution_count": 25
        }
      ]
    },
    {
      "cell_type": "code",
      "source": [
        "plot_tree(money_tree,\n",
        "          feature_names=[['income']],\n",
        "          class_names=['STAY', 'LEAVE'],\n",
        "          filled=True)"
      ],
      "metadata": {
        "colab": {
          "base_uri": "https://localhost:8080/",
          "height": 1000
        },
        "id": "o208Blvs53ew",
        "outputId": "33a3e138-57e9-4644-8269-ab0e61a5be8d"
      },
      "execution_count": 26,
      "outputs": [
        {
          "output_type": "execute_result",
          "data": {
            "text/plain": [
              "[Text(0.6702882659988018, 0.9961240310077519, \"['income'] <= 99993.0\\nentropy = 1.0\\nsamples = 4994\\nvalue = [2468, 2526]\\nclass = LEAVE\"),\n",
              " Text(0.558612117580282, 0.9883720930232558, \"['income'] <= 20181.0\\nentropy = 0.991\\nsamples = 3303\\nvalue = [1468, 1835]\\nclass = LEAVE\"),\n",
              " Text(0.5573289843292746, 0.9806201550387597, 'entropy = 0.0\\nsamples = 8\\nvalue = [0, 8]\\nclass = LEAVE'),\n",
              " Text(0.5598952508312892, 0.9806201550387597, \"['income'] <= 20351.0\\nentropy = 0.991\\nsamples = 3295\\nvalue = [1468, 1827]\\nclass = LEAVE\"),\n",
              " Text(0.5245503394451976, 0.9728682170542635, \"['income'] <= 20247.5\\nentropy = 0.684\\nsamples = 11\\nvalue = [9, 2]\\nclass = STAY\"),\n",
              " Text(0.5232672061941903, 0.9651162790697675, 'entropy = 0.0\\nsamples = 4\\nvalue = [4, 0]\\nclass = STAY'),\n",
              " Text(0.525833472696205, 0.9651162790697675, \"['income'] <= 20312.0\\nentropy = 0.863\\nsamples = 7\\nvalue = [5, 2]\\nclass = STAY\"),\n",
              " Text(0.5245503394451976, 0.9573643410852714, \"['income'] <= 20284.0\\nentropy = 0.918\\nsamples = 3\\nvalue = [1, 2]\\nclass = LEAVE\"),\n",
              " Text(0.5232672061941903, 0.9496124031007752, 'entropy = 0.0\\nsamples = 1\\nvalue = [0, 1]\\nclass = LEAVE'),\n",
              " Text(0.525833472696205, 0.9496124031007752, \"['income'] <= 20300.0\\nentropy = 1.0\\nsamples = 2\\nvalue = [1, 1]\\nclass = STAY\"),\n",
              " Text(0.5245503394451976, 0.9418604651162791, 'entropy = 0.0\\nsamples = 1\\nvalue = [1, 0]\\nclass = STAY'),\n",
              " Text(0.5271166059472122, 0.9418604651162791, 'entropy = 0.0\\nsamples = 1\\nvalue = [0, 1]\\nclass = LEAVE'),\n",
              " Text(0.5271166059472122, 0.9573643410852714, 'entropy = 0.0\\nsamples = 4\\nvalue = [4, 0]\\nclass = STAY'),\n",
              " Text(0.5952401622173807, 0.9728682170542635, \"['income'] <= 99959.0\\nentropy = 0.991\\nsamples = 3284\\nvalue = [1459, 1825]\\nclass = LEAVE\"),\n",
              " Text(0.5939570289663735, 0.9651162790697675, \"['income'] <= 99822.0\\nentropy = 0.991\\nsamples = 3281\\nvalue = [1459, 1822]\\nclass = LEAVE\"),\n",
              " Text(0.5725323101273246, 0.9573643410852714, \"['income'] <= 99568.0\\nentropy = 0.991\\nsamples = 3276\\nvalue = [1455, 1821]\\nclass = LEAVE\"),\n",
              " Text(0.5712491768763173, 0.9496124031007752, \"['income'] <= 89446.0\\nentropy = 0.991\\nsamples = 3271\\nvalue = [1455, 1816]\\nclass = LEAVE\"),\n",
              " Text(0.5296828724492268, 0.9418604651162791, \"['income'] <= 89260.0\\nentropy = 0.993\\nsamples = 2939\\nvalue = [1321, 1618]\\nclass = LEAVE\"),\n",
              " Text(0.5283997391982196, 0.9341085271317829, \"['income'] <= 20379.0\\nentropy = 0.992\\nsamples = 2936\\nvalue = [1318, 1618]\\nclass = LEAVE\"),\n",
              " Text(0.5271166059472122, 0.9263565891472868, 'entropy = 0.0\\nsamples = 2\\nvalue = [0, 2]\\nclass = LEAVE'),\n",
              " Text(0.5296828724492268, 0.9263565891472868, \"['income'] <= 87001.0\\nentropy = 0.993\\nsamples = 2934\\nvalue = [1318, 1616]\\nclass = LEAVE\"),\n",
              " Text(0.5119499614823244, 0.9186046511627907, \"['income'] <= 86938.0\\nentropy = 0.992\\nsamples = 2865\\nvalue = [1282, 1583]\\nclass = LEAVE\"),\n",
              " Text(0.5106668282313171, 0.9108527131782945, \"['income'] <= 86905.0\\nentropy = 0.992\\nsamples = 2859\\nvalue = [1282, 1577]\\nclass = LEAVE\"),\n",
              " Text(0.5093836949803098, 0.9031007751937985, \"['income'] <= 86817.5\\nentropy = 0.992\\nsamples = 2856\\nvalue = [1279, 1577]\\nclass = LEAVE\"),\n",
              " Text(0.5081005617293025, 0.8953488372093024, \"['income'] <= 86656.5\\nentropy = 0.992\\nsamples = 2851\\nvalue = [1279, 1572]\\nclass = LEAVE\"),\n",
              " Text(0.5068174284782953, 0.8875968992248062, \"['income'] <= 86601.5\\nentropy = 0.992\\nsamples = 2848\\nvalue = [1276, 1572]\\nclass = LEAVE\"),\n",
              " Text(0.5055342952272879, 0.8798449612403101, \"['income'] <= 86543.0\\nentropy = 0.992\\nsamples = 2846\\nvalue = [1276, 1570]\\nclass = LEAVE\"),\n",
              " Text(0.5042511619762806, 0.872093023255814, \"['income'] <= 86391.5\\nentropy = 0.992\\nsamples = 2844\\nvalue = [1274, 1570]\\nclass = LEAVE\"),\n",
              " Text(0.5029680287252734, 0.8643410852713178, \"['income'] <= 86180.0\\nentropy = 0.992\\nsamples = 2842\\nvalue = [1274, 1568]\\nclass = LEAVE\"),\n",
              " Text(0.4715119982008663, 0.8565891472868217, \"['income'] <= 85779.5\\nentropy = 0.992\\nsamples = 2837\\nvalue = [1270, 1567]\\nclass = LEAVE\"),\n",
              " Text(0.4124493369050742, 0.8488372093023255, \"['income'] <= 85161.0\\nentropy = 0.992\\nsamples = 2827\\nvalue = [1268, 1559]\\nclass = LEAVE\"),\n",
              " Text(0.2994565473175192, 0.8410852713178295, \"['income'] <= 81352.0\\nentropy = 0.992\\nsamples = 2811\\nvalue = [1257, 1554]\\nclass = LEAVE\"),\n",
              " Text(0.08646269230885811, 0.8333333333333334, \"['income'] <= 81090.5\\nentropy = 0.993\\nsamples = 2685\\nvalue = [1211, 1474]\\nclass = LEAVE\"),\n",
              " Text(0.08135141675256245, 0.8255813953488372, \"['income'] <= 80824.5\\nentropy = 0.993\\nsamples = 2673\\nvalue = [1202, 1471]\\nclass = LEAVE\"),\n",
              " Text(0.07878515025054784, 0.8178294573643411, \"['income'] <= 80761.5\\nentropy = 0.993\\nsamples = 2666\\nvalue = [1201, 1465]\\nclass = LEAVE\"),\n",
              " Text(0.07750201699954054, 0.810077519379845, \"['income'] <= 80741.5\\nentropy = 0.993\\nsamples = 2662\\nvalue = [1197, 1465]\\nclass = LEAVE\"),\n",
              " Text(0.07621888374853324, 0.8023255813953488, \"['income'] <= 80663.5\\nentropy = 0.993\\nsamples = 2660\\nvalue = [1197, 1463]\\nclass = LEAVE\"),\n",
              " Text(0.07493575049752593, 0.7945736434108527, \"['income'] <= 80308.0\\nentropy = 0.993\\nsamples = 2658\\nvalue = [1195, 1463]\\nclass = LEAVE\"),\n",
              " Text(0.05701439987889079, 0.7868217054263565, \"['income'] <= 80216.0\\nentropy = 0.992\\nsamples = 2647\\nvalue = [1188, 1459]\\nclass = LEAVE\"),\n",
              " Text(0.05573126662788349, 0.7790697674418605, \"['income'] <= 80124.0\\nentropy = 0.993\\nsamples = 2641\\nvalue = [1188, 1453]\\nclass = LEAVE\"),\n",
              " Text(0.054448133376876186, 0.7713178294573644, \"['income'] <= 21427.5\\nentropy = 0.993\\nsamples = 2639\\nvalue = [1186, 1453]\\nclass = LEAVE\"),\n",
              " Text(0.02245483189262781, 0.7635658914728682, \"['income'] <= 21271.5\\nentropy = 0.998\\nsamples = 59\\nvalue = [31, 28]\\nclass = STAY\"),\n",
              " Text(0.021171698641620506, 0.7558139534883721, \"['income'] <= 21230.0\\nentropy = 0.999\\nsamples = 54\\nvalue = [26, 28]\\nclass = LEAVE\"),\n",
              " Text(0.019888565390613202, 0.748062015503876, \"['income'] <= 21221.5\\nentropy = 1.0\\nsamples = 53\\nvalue = [26, 27]\\nclass = LEAVE\"),\n",
              " Text(0.0186054321396059, 0.7403100775193798, \"['income'] <= 21213.5\\nentropy = 0.999\\nsamples = 52\\nvalue = [25, 27]\\nclass = LEAVE\"),\n",
              " Text(0.017322298888598597, 0.7325581395348837, \"['income'] <= 21190.5\\nentropy = 1.0\\nsamples = 51\\nvalue = [25, 26]\\nclass = LEAVE\"),\n",
              " Text(0.016039165637591293, 0.7248062015503876, \"['income'] <= 20982.0\\nentropy = 0.997\\nsamples = 49\\nvalue = [23, 26]\\nclass = LEAVE\"),\n",
              " Text(0.013472899135576687, 0.7170542635658915, \"['income'] <= 20812.0\\nentropy = 0.998\\nsamples = 34\\nvalue = [18, 16]\\nclass = STAY\"),\n",
              " Text(0.012189765884569383, 0.7093023255813954, \"['income'] <= 20777.5\\nentropy = 0.992\\nsamples = 29\\nvalue = [13, 16]\\nclass = LEAVE\"),\n",
              " Text(0.010906632633562079, 0.7015503875968992, \"['income'] <= 20746.5\\nentropy = 1.0\\nsamples = 26\\nvalue = [13, 13]\\nclass = STAY\"),\n",
              " Text(0.009623499382554777, 0.6937984496124031, \"['income'] <= 20737.0\\nentropy = 0.988\\nsamples = 23\\nvalue = [10, 13]\\nclass = LEAVE\"),\n",
              " Text(0.008340366131547473, 0.686046511627907, \"['income'] <= 20677.0\\nentropy = 0.994\\nsamples = 22\\nvalue = [10, 12]\\nclass = LEAVE\"),\n",
              " Text(0.0051325330040292135, 0.6782945736434108, \"['income'] <= 20392.5\\nentropy = 0.964\\nsamples = 18\\nvalue = [7, 11]\\nclass = LEAVE\"),\n",
              " Text(0.0025662665020146067, 0.6705426356589147, \"['income'] <= 20386.5\\nentropy = 0.918\\nsamples = 3\\nvalue = [2, 1]\\nclass = STAY\"),\n",
              " Text(0.0012831332510073034, 0.6627906976744186, 'entropy = 1.0\\nsamples = 2\\nvalue = [1, 1]\\nclass = STAY'),\n",
              " Text(0.0038493997530219103, 0.6627906976744186, 'entropy = 0.0\\nsamples = 1\\nvalue = [1, 0]\\nclass = STAY'),\n",
              " Text(0.007698799506043821, 0.6705426356589147, \"['income'] <= 20463.0\\nentropy = 0.918\\nsamples = 15\\nvalue = [5, 10]\\nclass = LEAVE\"),\n",
              " Text(0.0064156662550365175, 0.6627906976744186, 'entropy = 0.0\\nsamples = 4\\nvalue = [0, 4]\\nclass = LEAVE'),\n",
              " Text(0.008981932757051125, 0.6627906976744186, \"['income'] <= 20507.5\\nentropy = 0.994\\nsamples = 11\\nvalue = [5, 6]\\nclass = LEAVE\"),\n",
              " Text(0.007698799506043821, 0.6550387596899225, 'entropy = 0.0\\nsamples = 2\\nvalue = [2, 0]\\nclass = STAY'),\n",
              " Text(0.010265066008058427, 0.6550387596899225, \"['income'] <= 20580.5\\nentropy = 0.918\\nsamples = 9\\nvalue = [3, 6]\\nclass = LEAVE\"),\n",
              " Text(0.007698799506043821, 0.6472868217054264, \"['income'] <= 20534.0\\nentropy = 1.0\\nsamples = 4\\nvalue = [2, 2]\\nclass = STAY\"),\n",
              " Text(0.0064156662550365175, 0.6395348837209303, 'entropy = 0.0\\nsamples = 1\\nvalue = [0, 1]\\nclass = LEAVE'),\n",
              " Text(0.008981932757051125, 0.6395348837209303, \"['income'] <= 20553.0\\nentropy = 0.918\\nsamples = 3\\nvalue = [2, 1]\\nclass = STAY\"),\n",
              " Text(0.007698799506043821, 0.6317829457364341, 'entropy = 0.0\\nsamples = 1\\nvalue = [1, 0]\\nclass = STAY'),\n",
              " Text(0.010265066008058427, 0.6317829457364341, \"['income'] <= 20566.0\\nentropy = 1.0\\nsamples = 2\\nvalue = [1, 1]\\nclass = STAY\"),\n",
              " Text(0.008981932757051125, 0.624031007751938, 'entropy = 0.0\\nsamples = 1\\nvalue = [0, 1]\\nclass = LEAVE'),\n",
              " Text(0.011548199259065731, 0.624031007751938, 'entropy = 0.0\\nsamples = 1\\nvalue = [1, 0]\\nclass = STAY'),\n",
              " Text(0.012831332510073035, 0.6472868217054264, \"['income'] <= 20606.5\\nentropy = 0.722\\nsamples = 5\\nvalue = [1, 4]\\nclass = LEAVE\"),\n",
              " Text(0.011548199259065731, 0.6395348837209303, 'entropy = 0.0\\nsamples = 3\\nvalue = [0, 3]\\nclass = LEAVE'),\n",
              " Text(0.014114465761080337, 0.6395348837209303, \"['income'] <= 20627.0\\nentropy = 1.0\\nsamples = 2\\nvalue = [1, 1]\\nclass = STAY\"),\n",
              " Text(0.012831332510073035, 0.6317829457364341, 'entropy = 0.0\\nsamples = 1\\nvalue = [1, 0]\\nclass = STAY'),\n",
              " Text(0.015397599012087641, 0.6317829457364341, 'entropy = 0.0\\nsamples = 1\\nvalue = [0, 1]\\nclass = LEAVE'),\n",
              " Text(0.011548199259065731, 0.6782945736434108, \"['income'] <= 20732.0\\nentropy = 0.811\\nsamples = 4\\nvalue = [3, 1]\\nclass = STAY\"),\n",
              " Text(0.010265066008058427, 0.6705426356589147, 'entropy = 0.0\\nsamples = 2\\nvalue = [2, 0]\\nclass = STAY'),\n",
              " Text(0.012831332510073035, 0.6705426356589147, 'entropy = 1.0\\nsamples = 2\\nvalue = [1, 1]\\nclass = STAY'),\n",
              " Text(0.010906632633562079, 0.686046511627907, 'entropy = 0.0\\nsamples = 1\\nvalue = [0, 1]\\nclass = LEAVE'),\n",
              " Text(0.012189765884569383, 0.6937984496124031, 'entropy = 0.0\\nsamples = 3\\nvalue = [3, 0]\\nclass = STAY'),\n",
              " Text(0.013472899135576687, 0.7015503875968992, 'entropy = 0.0\\nsamples = 3\\nvalue = [0, 3]\\nclass = LEAVE'),\n",
              " Text(0.01475603238658399, 0.7093023255813954, 'entropy = 0.0\\nsamples = 5\\nvalue = [5, 0]\\nclass = STAY'),\n",
              " Text(0.0186054321396059, 0.7170542635658915, \"['income'] <= 21036.5\\nentropy = 0.918\\nsamples = 15\\nvalue = [5, 10]\\nclass = LEAVE\"),\n",
              " Text(0.017322298888598597, 0.7093023255813954, 'entropy = 0.0\\nsamples = 4\\nvalue = [0, 4]\\nclass = LEAVE'),\n",
              " Text(0.019888565390613202, 0.7093023255813954, \"['income'] <= 21068.5\\nentropy = 0.994\\nsamples = 11\\nvalue = [5, 6]\\nclass = LEAVE\"),\n",
              " Text(0.0186054321396059, 0.7015503875968992, 'entropy = 0.0\\nsamples = 2\\nvalue = [2, 0]\\nclass = STAY'),\n",
              " Text(0.021171698641620506, 0.7015503875968992, \"['income'] <= 21098.0\\nentropy = 0.918\\nsamples = 9\\nvalue = [3, 6]\\nclass = LEAVE\"),\n",
              " Text(0.019888565390613202, 0.6937984496124031, 'entropy = 0.0\\nsamples = 2\\nvalue = [0, 2]\\nclass = LEAVE'),\n",
              " Text(0.02245483189262781, 0.6937984496124031, \"['income'] <= 21109.5\\nentropy = 0.985\\nsamples = 7\\nvalue = [3, 4]\\nclass = LEAVE\"),\n",
              " Text(0.021171698641620506, 0.686046511627907, 'entropy = 0.0\\nsamples = 1\\nvalue = [1, 0]\\nclass = STAY'),\n",
              " Text(0.023737965143635114, 0.686046511627907, \"['income'] <= 21114.0\\nentropy = 0.918\\nsamples = 6\\nvalue = [2, 4]\\nclass = LEAVE\"),\n",
              " Text(0.02245483189262781, 0.6782945736434108, 'entropy = 0.0\\nsamples = 1\\nvalue = [0, 1]\\nclass = LEAVE'),\n",
              " Text(0.025021098394642418, 0.6782945736434108, \"['income'] <= 21125.5\\nentropy = 0.971\\nsamples = 5\\nvalue = [2, 3]\\nclass = LEAVE\"),\n",
              " Text(0.023737965143635114, 0.6705426356589147, 'entropy = 0.0\\nsamples = 1\\nvalue = [1, 0]\\nclass = STAY'),\n",
              " Text(0.026304231645649722, 0.6705426356589147, \"['income'] <= 21177.5\\nentropy = 0.811\\nsamples = 4\\nvalue = [1, 3]\\nclass = LEAVE\"),\n",
              " Text(0.025021098394642418, 0.6627906976744186, 'entropy = 0.0\\nsamples = 2\\nvalue = [0, 2]\\nclass = LEAVE'),\n",
              " Text(0.027587364896657026, 0.6627906976744186, \"['income'] <= 21183.0\\nentropy = 1.0\\nsamples = 2\\nvalue = [1, 1]\\nclass = STAY\"),\n",
              " Text(0.026304231645649722, 0.6550387596899225, 'entropy = 0.0\\nsamples = 1\\nvalue = [1, 0]\\nclass = STAY'),\n",
              " Text(0.028870498147664327, 0.6550387596899225, 'entropy = 0.0\\nsamples = 1\\nvalue = [0, 1]\\nclass = LEAVE'),\n",
              " Text(0.0186054321396059, 0.7248062015503876, 'entropy = 0.0\\nsamples = 2\\nvalue = [2, 0]\\nclass = STAY'),\n",
              " Text(0.019888565390613202, 0.7325581395348837, 'entropy = 0.0\\nsamples = 1\\nvalue = [0, 1]\\nclass = LEAVE'),\n",
              " Text(0.021171698641620506, 0.7403100775193798, 'entropy = 0.0\\nsamples = 1\\nvalue = [1, 0]\\nclass = STAY'),\n",
              " Text(0.02245483189262781, 0.748062015503876, 'entropy = 0.0\\nsamples = 1\\nvalue = [0, 1]\\nclass = LEAVE'),\n",
              " Text(0.023737965143635114, 0.7558139534883721, 'entropy = 0.0\\nsamples = 5\\nvalue = [5, 0]\\nclass = STAY'),\n",
              " Text(0.08644143486112456, 0.7635658914728682, \"['income'] <= 21623.5\\nentropy = 0.992\\nsamples = 2580\\nvalue = [1155, 1425]\\nclass = LEAVE\"),\n",
              " Text(0.08387516835910995, 0.7558139534883721, \"['income'] <= 21501.5\\nentropy = 0.544\\nsamples = 8\\nvalue = [1, 7]\\nclass = LEAVE\"),\n",
              " Text(0.08259203510810265, 0.748062015503876, \"['income'] <= 21485.0\\nentropy = 0.811\\nsamples = 4\\nvalue = [1, 3]\\nclass = LEAVE\"),\n",
              " Text(0.08130890185709534, 0.7403100775193798, 'entropy = 0.0\\nsamples = 3\\nvalue = [0, 3]\\nclass = LEAVE'),\n",
              " Text(0.08387516835910995, 0.7403100775193798, 'entropy = 0.0\\nsamples = 1\\nvalue = [1, 0]\\nclass = STAY'),\n",
              " Text(0.08515830161011725, 0.748062015503876, 'entropy = 0.0\\nsamples = 4\\nvalue = [0, 4]\\nclass = LEAVE'),\n",
              " Text(0.08900770136313917, 0.7558139534883721, \"['income'] <= 21664.5\\nentropy = 0.992\\nsamples = 2572\\nvalue = [1154, 1418]\\nclass = LEAVE\"),\n",
              " Text(0.08772456811213186, 0.748062015503876, 'entropy = 0.0\\nsamples = 3\\nvalue = [3, 0]\\nclass = STAY'),\n",
              " Text(0.09029083461414647, 0.748062015503876, \"['income'] <= 21790.5\\nentropy = 0.992\\nsamples = 2569\\nvalue = [1151, 1418]\\nclass = LEAVE\"),\n",
              " Text(0.08772456811213186, 0.7403100775193798, \"['income'] <= 21707.0\\nentropy = 0.592\\nsamples = 7\\nvalue = [1, 6]\\nclass = LEAVE\"),\n",
              " Text(0.08644143486112456, 0.7325581395348837, \"['income'] <= 21684.5\\nentropy = 1.0\\nsamples = 2\\nvalue = [1, 1]\\nclass = STAY\"),\n",
              " Text(0.08515830161011725, 0.7248062015503876, 'entropy = 0.0\\nsamples = 1\\nvalue = [0, 1]\\nclass = LEAVE'),\n",
              " Text(0.08772456811213186, 0.7248062015503876, 'entropy = 0.0\\nsamples = 1\\nvalue = [1, 0]\\nclass = STAY'),\n",
              " Text(0.08900770136313917, 0.7325581395348837, 'entropy = 0.0\\nsamples = 5\\nvalue = [0, 5]\\nclass = LEAVE'),\n",
              " Text(0.09285710111616108, 0.7403100775193798, \"['income'] <= 21851.5\\nentropy = 0.992\\nsamples = 2562\\nvalue = [1150, 1412]\\nclass = LEAVE\"),\n",
              " Text(0.09157396786515377, 0.7325581395348837, 'entropy = 0.0\\nsamples = 6\\nvalue = [6, 0]\\nclass = STAY'),\n",
              " Text(0.09414023436716838, 0.7325581395348837, \"['income'] <= 21875.5\\nentropy = 0.992\\nsamples = 2556\\nvalue = [1144, 1412]\\nclass = LEAVE\"),\n",
              " Text(0.09285710111616108, 0.7248062015503876, 'entropy = 0.0\\nsamples = 3\\nvalue = [0, 3]\\nclass = LEAVE'),\n",
              " Text(0.09542336761817569, 0.7248062015503876, \"['income'] <= 21898.0\\nentropy = 0.992\\nsamples = 2553\\nvalue = [1144, 1409]\\nclass = LEAVE\"),\n",
              " Text(0.09414023436716838, 0.7170542635658915, 'entropy = 0.0\\nsamples = 2\\nvalue = [2, 0]\\nclass = STAY'),\n",
              " Text(0.09670650086918298, 0.7170542635658915, \"['income'] <= 22793.5\\nentropy = 0.992\\nsamples = 2551\\nvalue = [1142, 1409]\\nclass = LEAVE\"),\n",
              " Text(0.04811749691277388, 0.7093023255813954, \"['income'] <= 22640.0\\nentropy = 0.918\\nsamples = 63\\nvalue = [21, 42]\\nclass = LEAVE\"),\n",
              " Text(0.04490966378525562, 0.7015503875968992, \"['income'] <= 22524.0\\nentropy = 0.968\\nsamples = 48\\nvalue = [19, 29]\\nclass = LEAVE\"),\n",
              " Text(0.04234339728324101, 0.6937984496124031, \"['income'] <= 22435.0\\nentropy = 0.926\\nsamples = 41\\nvalue = [14, 27]\\nclass = LEAVE\"),\n",
              " Text(0.04106026403223371, 0.686046511627907, \"['income'] <= 22415.0\\nentropy = 0.971\\nsamples = 35\\nvalue = [14, 21]\\nclass = LEAVE\"),\n",
              " Text(0.039777130781226404, 0.6782945736434108, \"['income'] <= 22387.5\\nentropy = 0.946\\nsamples = 33\\nvalue = [12, 21]\\nclass = LEAVE\"),\n",
              " Text(0.03849399753021911, 0.6705426356589147, \"['income'] <= 22349.5\\nentropy = 0.971\\nsamples = 30\\nvalue = [12, 18]\\nclass = LEAVE\"),\n",
              " Text(0.0372108642792118, 0.6627906976744186, \"['income'] <= 21964.0\\nentropy = 0.918\\nsamples = 27\\nvalue = [9, 18]\\nclass = LEAVE\"),\n",
              " Text(0.031436764649678935, 0.6550387596899225, \"['income'] <= 21907.5\\nentropy = 0.985\\nsamples = 7\\nvalue = [4, 3]\\nclass = STAY\"),\n",
              " Text(0.03015363139867163, 0.6472868217054264, 'entropy = 0.0\\nsamples = 1\\nvalue = [0, 1]\\nclass = LEAVE'),\n",
              " Text(0.03271989790068624, 0.6472868217054264, \"['income'] <= 21932.0\\nentropy = 0.918\\nsamples = 6\\nvalue = [4, 2]\\nclass = STAY\"),\n",
              " Text(0.031436764649678935, 0.6395348837209303, 'entropy = 0.0\\nsamples = 2\\nvalue = [2, 0]\\nclass = STAY'),\n",
              " Text(0.03400303115169354, 0.6395348837209303, \"['income'] <= 21942.5\\nentropy = 1.0\\nsamples = 4\\nvalue = [2, 2]\\nclass = STAY\"),\n",
              " Text(0.03271989790068624, 0.6317829457364341, 'entropy = 0.0\\nsamples = 1\\nvalue = [0, 1]\\nclass = LEAVE'),\n",
              " Text(0.03528616440270085, 0.6317829457364341, \"['income'] <= 21951.0\\nentropy = 0.918\\nsamples = 3\\nvalue = [2, 1]\\nclass = STAY\"),\n",
              " Text(0.03400303115169354, 0.624031007751938, 'entropy = 0.0\\nsamples = 1\\nvalue = [1, 0]\\nclass = STAY'),\n",
              " Text(0.03656929765370815, 0.624031007751938, \"['income'] <= 21958.5\\nentropy = 1.0\\nsamples = 2\\nvalue = [1, 1]\\nclass = STAY\"),\n",
              " Text(0.03528616440270085, 0.6162790697674418, 'entropy = 0.0\\nsamples = 1\\nvalue = [0, 1]\\nclass = LEAVE'),\n",
              " Text(0.037852430904715455, 0.6162790697674418, 'entropy = 0.0\\nsamples = 1\\nvalue = [1, 0]\\nclass = STAY'),\n",
              " Text(0.042984963908744664, 0.6550387596899225, \"['income'] <= 22195.5\\nentropy = 0.811\\nsamples = 20\\nvalue = [5, 15]\\nclass = LEAVE\"),\n",
              " Text(0.040418697406730056, 0.6472868217054264, \"['income'] <= 22098.5\\nentropy = 0.439\\nsamples = 11\\nvalue = [1, 10]\\nclass = LEAVE\"),\n",
              " Text(0.03913556415572276, 0.6395348837209303, \"['income'] <= 22078.0\\nentropy = 0.722\\nsamples = 5\\nvalue = [1, 4]\\nclass = LEAVE\"),\n",
              " Text(0.037852430904715455, 0.6317829457364341, 'entropy = 0.0\\nsamples = 4\\nvalue = [0, 4]\\nclass = LEAVE'),\n",
              " Text(0.040418697406730056, 0.6317829457364341, 'entropy = 0.0\\nsamples = 1\\nvalue = [1, 0]\\nclass = STAY'),\n",
              " Text(0.04170183065773736, 0.6395348837209303, 'entropy = 0.0\\nsamples = 6\\nvalue = [0, 6]\\nclass = LEAVE'),\n",
              " Text(0.04555123041075927, 0.6472868217054264, \"['income'] <= 22212.0\\nentropy = 0.991\\nsamples = 9\\nvalue = [4, 5]\\nclass = LEAVE\"),\n",
              " Text(0.04426809715975197, 0.6395348837209303, 'entropy = 0.0\\nsamples = 1\\nvalue = [1, 0]\\nclass = STAY'),\n",
              " Text(0.046834363661766576, 0.6395348837209303, \"['income'] <= 22262.5\\nentropy = 0.954\\nsamples = 8\\nvalue = [3, 5]\\nclass = LEAVE\"),\n",
              " Text(0.04426809715975197, 0.6317829457364341, \"['income'] <= 22236.5\\nentropy = 0.722\\nsamples = 5\\nvalue = [1, 4]\\nclass = LEAVE\"),\n",
              " Text(0.042984963908744664, 0.624031007751938, \"['income'] <= 22227.0\\nentropy = 1.0\\nsamples = 2\\nvalue = [1, 1]\\nclass = STAY\"),\n",
              " Text(0.04170183065773736, 0.6162790697674418, 'entropy = 0.0\\nsamples = 1\\nvalue = [0, 1]\\nclass = LEAVE'),\n",
              " Text(0.04426809715975197, 0.6162790697674418, 'entropy = 0.0\\nsamples = 1\\nvalue = [1, 0]\\nclass = STAY'),\n",
              " Text(0.04555123041075927, 0.624031007751938, 'entropy = 0.0\\nsamples = 3\\nvalue = [0, 3]\\nclass = LEAVE'),\n",
              " Text(0.049400630163781184, 0.6317829457364341, \"['income'] <= 22313.5\\nentropy = 0.918\\nsamples = 3\\nvalue = [2, 1]\\nclass = STAY\"),\n",
              " Text(0.04811749691277388, 0.624031007751938, 'entropy = 0.0\\nsamples = 2\\nvalue = [2, 0]\\nclass = STAY'),\n",
              " Text(0.05068376341478849, 0.624031007751938, 'entropy = 0.0\\nsamples = 1\\nvalue = [0, 1]\\nclass = LEAVE'),\n",
              " Text(0.039777130781226404, 0.6627906976744186, 'entropy = 0.0\\nsamples = 3\\nvalue = [3, 0]\\nclass = STAY'),\n",
              " Text(0.04106026403223371, 0.6705426356589147, 'entropy = 0.0\\nsamples = 3\\nvalue = [0, 3]\\nclass = LEAVE'),\n",
              " Text(0.04234339728324101, 0.6782945736434108, 'entropy = 0.0\\nsamples = 2\\nvalue = [2, 0]\\nclass = STAY'),\n",
              " Text(0.043626530534248316, 0.686046511627907, 'entropy = 0.0\\nsamples = 6\\nvalue = [0, 6]\\nclass = LEAVE'),\n",
              " Text(0.04747593028727023, 0.6937984496124031, \"['income'] <= 22596.5\\nentropy = 0.863\\nsamples = 7\\nvalue = [5, 2]\\nclass = STAY\"),\n",
              " Text(0.046192797036262924, 0.686046511627907, 'entropy = 0.0\\nsamples = 4\\nvalue = [4, 0]\\nclass = STAY'),\n",
              " Text(0.04875906353827753, 0.686046511627907, \"['income'] <= 22634.5\\nentropy = 0.918\\nsamples = 3\\nvalue = [1, 2]\\nclass = LEAVE\"),\n",
              " Text(0.04747593028727023, 0.6782945736434108, 'entropy = 0.0\\nsamples = 2\\nvalue = [0, 2]\\nclass = LEAVE'),\n",
              " Text(0.050042196789284836, 0.6782945736434108, 'entropy = 0.0\\nsamples = 1\\nvalue = [1, 0]\\nclass = STAY'),\n",
              " Text(0.05132533004029214, 0.7015503875968992, \"['income'] <= 22689.0\\nentropy = 0.567\\nsamples = 15\\nvalue = [2, 13]\\nclass = LEAVE\"),\n",
              " Text(0.050042196789284836, 0.6937984496124031, 'entropy = 0.0\\nsamples = 4\\nvalue = [0, 4]\\nclass = LEAVE'),\n",
              " Text(0.052608463291299444, 0.6937984496124031, \"['income'] <= 22713.5\\nentropy = 0.684\\nsamples = 11\\nvalue = [2, 9]\\nclass = LEAVE\"),\n",
              " Text(0.05132533004029214, 0.686046511627907, 'entropy = 1.0\\nsamples = 2\\nvalue = [1, 1]\\nclass = STAY'),\n",
              " Text(0.05389159654230675, 0.686046511627907, \"['income'] <= 22773.5\\nentropy = 0.503\\nsamples = 9\\nvalue = [1, 8]\\nclass = LEAVE\"),\n",
              " Text(0.052608463291299444, 0.6782945736434108, 'entropy = 0.0\\nsamples = 6\\nvalue = [0, 6]\\nclass = LEAVE'),\n",
              " Text(0.05517472979331405, 0.6782945736434108, \"['income'] <= 22781.5\\nentropy = 0.918\\nsamples = 3\\nvalue = [1, 2]\\nclass = LEAVE\"),\n",
              " Text(0.05389159654230675, 0.6705426356589147, 'entropy = 0.0\\nsamples = 1\\nvalue = [1, 0]\\nclass = STAY'),\n",
              " Text(0.05645786304432135, 0.6705426356589147, 'entropy = 0.0\\nsamples = 2\\nvalue = [0, 2]\\nclass = LEAVE'),\n",
              " Text(0.1452955048255921, 0.7093023255813954, \"['income'] <= 24341.5\\nentropy = 0.993\\nsamples = 2488\\nvalue = [1121, 1367]\\nclass = LEAVE\"),\n",
              " Text(0.08055670941480227, 0.7015503875968992, \"['income'] <= 24167.5\\nentropy = 0.988\\nsamples = 92\\nvalue = [52, 40]\\nclass = STAY\"),\n",
              " Text(0.07450192438661156, 0.6937984496124031, \"['income'] <= 23881.5\\nentropy = 0.998\\nsamples = 80\\nvalue = [42, 38]\\nclass = STAY\"),\n",
              " Text(0.06624175408325204, 0.686046511627907, \"['income'] <= 23245.0\\nentropy = 0.986\\nsamples = 65\\nvalue = [37, 28]\\nclass = STAY\"),\n",
              " Text(0.06030726279734326, 0.6782945736434108, \"['income'] <= 23188.5\\nentropy = 0.983\\nsamples = 26\\nvalue = [11, 15]\\nclass = LEAVE\"),\n",
              " Text(0.05902412954633596, 0.6705426356589147, \"['income'] <= 23135.0\\nentropy = 0.998\\nsamples = 21\\nvalue = [11, 10]\\nclass = STAY\"),\n",
              " Text(0.0558162964188177, 0.6627906976744186, \"['income'] <= 22963.0\\nentropy = 0.989\\nsamples = 16\\nvalue = [7, 9]\\nclass = LEAVE\"),\n",
              " Text(0.053250029916803096, 0.6550387596899225, \"['income'] <= 22851.5\\nentropy = 0.863\\nsamples = 7\\nvalue = [5, 2]\\nclass = STAY\"),\n",
              " Text(0.05196689666579579, 0.6472868217054264, \"['income'] <= 22806.5\\nentropy = 1.0\\nsamples = 4\\nvalue = [2, 2]\\nclass = STAY\"),\n",
              " Text(0.05068376341478849, 0.6395348837209303, 'entropy = 0.0\\nsamples = 1\\nvalue = [1, 0]\\nclass = STAY'),\n",
              " Text(0.053250029916803096, 0.6395348837209303, \"['income'] <= 22819.5\\nentropy = 0.918\\nsamples = 3\\nvalue = [1, 2]\\nclass = LEAVE\"),\n",
              " Text(0.05196689666579579, 0.6317829457364341, 'entropy = 0.0\\nsamples = 1\\nvalue = [0, 1]\\nclass = LEAVE'),\n",
              " Text(0.0545331631678104, 0.6317829457364341, \"['income'] <= 22828.5\\nentropy = 1.0\\nsamples = 2\\nvalue = [1, 1]\\nclass = STAY\"),\n",
              " Text(0.053250029916803096, 0.624031007751938, 'entropy = 0.0\\nsamples = 1\\nvalue = [1, 0]\\nclass = STAY'),\n",
              " Text(0.0558162964188177, 0.624031007751938, 'entropy = 0.0\\nsamples = 1\\nvalue = [0, 1]\\nclass = LEAVE'),\n",
              " Text(0.0545331631678104, 0.6472868217054264, 'entropy = 0.0\\nsamples = 3\\nvalue = [3, 0]\\nclass = STAY'),\n",
              " Text(0.058382562920832305, 0.6550387596899225, \"['income'] <= 23068.5\\nentropy = 0.764\\nsamples = 9\\nvalue = [2, 7]\\nclass = LEAVE\"),\n",
              " Text(0.057099429669825, 0.6472868217054264, 'entropy = 0.0\\nsamples = 4\\nvalue = [0, 4]\\nclass = LEAVE'),\n",
              " Text(0.05966569617183961, 0.6472868217054264, \"['income'] <= 23108.5\\nentropy = 0.971\\nsamples = 5\\nvalue = [2, 3]\\nclass = LEAVE\"),\n",
              " Text(0.058382562920832305, 0.6395348837209303, \"['income'] <= 23088.5\\nentropy = 0.918\\nsamples = 3\\nvalue = [2, 1]\\nclass = STAY\"),\n",
              " Text(0.057099429669825, 0.6317829457364341, 'entropy = 0.0\\nsamples = 1\\nvalue = [1, 0]\\nclass = STAY'),\n",
              " Text(0.05966569617183961, 0.6317829457364341, \"['income'] <= 23106.5\\nentropy = 1.0\\nsamples = 2\\nvalue = [1, 1]\\nclass = STAY\"),\n",
              " Text(0.058382562920832305, 0.624031007751938, 'entropy = 0.0\\nsamples = 1\\nvalue = [0, 1]\\nclass = LEAVE'),\n",
              " Text(0.06094882942284691, 0.624031007751938, 'entropy = 0.0\\nsamples = 1\\nvalue = [1, 0]\\nclass = STAY'),\n",
              " Text(0.06094882942284691, 0.6395348837209303, 'entropy = 0.0\\nsamples = 2\\nvalue = [0, 2]\\nclass = LEAVE'),\n",
              " Text(0.06223196267385422, 0.6627906976744186, \"['income'] <= 23161.0\\nentropy = 0.722\\nsamples = 5\\nvalue = [4, 1]\\nclass = STAY\"),\n",
              " Text(0.06094882942284691, 0.6550387596899225, 'entropy = 0.0\\nsamples = 3\\nvalue = [3, 0]\\nclass = STAY'),\n",
              " Text(0.06351509592486151, 0.6550387596899225, 'entropy = 1.0\\nsamples = 2\\nvalue = [1, 1]\\nclass = STAY'),\n",
              " Text(0.061590396048350565, 0.6705426356589147, 'entropy = 0.0\\nsamples = 5\\nvalue = [0, 5]\\nclass = LEAVE'),\n",
              " Text(0.07217624536916081, 0.6782945736434108, \"['income'] <= 23481.5\\nentropy = 0.918\\nsamples = 39\\nvalue = [26, 13]\\nclass = STAY\"),\n",
              " Text(0.06864762892889073, 0.6705426356589147, \"['income'] <= 23358.0\\nentropy = 0.619\\nsamples = 13\\nvalue = [11, 2]\\nclass = STAY\"),\n",
              " Text(0.06736449567788343, 0.6627906976744186, \"['income'] <= 23302.5\\nentropy = 0.971\\nsamples = 5\\nvalue = [3, 2]\\nclass = STAY\"),\n",
              " Text(0.06608136242687612, 0.6550387596899225, 'entropy = 0.0\\nsamples = 3\\nvalue = [3, 0]\\nclass = STAY'),\n",
              " Text(0.06864762892889073, 0.6550387596899225, 'entropy = 0.0\\nsamples = 2\\nvalue = [0, 2]\\nclass = LEAVE'),\n",
              " Text(0.06993076217989803, 0.6627906976744186, 'entropy = 0.0\\nsamples = 8\\nvalue = [8, 0]\\nclass = STAY'),\n",
              " Text(0.07570486180943091, 0.6705426356589147, \"['income'] <= 23641.0\\nentropy = 0.983\\nsamples = 26\\nvalue = [15, 11]\\nclass = STAY\"),\n",
              " Text(0.07249702868191264, 0.6627906976744186, \"['income'] <= 23580.5\\nentropy = 0.98\\nsamples = 12\\nvalue = [5, 7]\\nclass = LEAVE\"),\n",
              " Text(0.07121389543090534, 0.6550387596899225, \"['income'] <= 23528.0\\nentropy = 1.0\\nsamples = 10\\nvalue = [5, 5]\\nclass = STAY\"),\n",
              " Text(0.06864762892889073, 0.6472868217054264, \"['income'] <= 23496.5\\nentropy = 0.918\\nsamples = 6\\nvalue = [2, 4]\\nclass = LEAVE\"),\n",
              " Text(0.06736449567788343, 0.6395348837209303, \"['income'] <= 23487.0\\nentropy = 0.918\\nsamples = 3\\nvalue = [2, 1]\\nclass = STAY\"),\n",
              " Text(0.06608136242687612, 0.6317829457364341, 'entropy = 0.0\\nsamples = 1\\nvalue = [0, 1]\\nclass = LEAVE'),\n",
              " Text(0.06864762892889073, 0.6317829457364341, 'entropy = 0.0\\nsamples = 2\\nvalue = [2, 0]\\nclass = STAY'),\n",
              " Text(0.06993076217989803, 0.6395348837209303, 'entropy = 0.0\\nsamples = 3\\nvalue = [0, 3]\\nclass = LEAVE'),\n",
              " Text(0.07378016193291995, 0.6472868217054264, \"['income'] <= 23554.5\\nentropy = 0.811\\nsamples = 4\\nvalue = [3, 1]\\nclass = STAY\"),\n",
              " Text(0.07249702868191264, 0.6395348837209303, 'entropy = 0.0\\nsamples = 2\\nvalue = [2, 0]\\nclass = STAY'),\n",
              " Text(0.07506329518392725, 0.6395348837209303, \"['income'] <= 23566.5\\nentropy = 1.0\\nsamples = 2\\nvalue = [1, 1]\\nclass = STAY\"),\n",
              " Text(0.07378016193291995, 0.6317829457364341, 'entropy = 0.0\\nsamples = 1\\nvalue = [0, 1]\\nclass = LEAVE'),\n",
              " Text(0.07634642843493455, 0.6317829457364341, 'entropy = 0.0\\nsamples = 1\\nvalue = [1, 0]\\nclass = STAY'),\n",
              " Text(0.07378016193291995, 0.6550387596899225, 'entropy = 0.0\\nsamples = 2\\nvalue = [0, 2]\\nclass = LEAVE'),\n",
              " Text(0.07891269493694916, 0.6627906976744186, \"['income'] <= 23730.0\\nentropy = 0.863\\nsamples = 14\\nvalue = [10, 4]\\nclass = STAY\"),\n",
              " Text(0.07762956168594186, 0.6550387596899225, 'entropy = 0.0\\nsamples = 4\\nvalue = [4, 0]\\nclass = STAY'),\n",
              " Text(0.08019582818795647, 0.6550387596899225, \"['income'] <= 23857.0\\nentropy = 0.971\\nsamples = 10\\nvalue = [6, 4]\\nclass = STAY\"),\n",
              " Text(0.07891269493694916, 0.6472868217054264, \"['income'] <= 23736.0\\nentropy = 1.0\\nsamples = 8\\nvalue = [4, 4]\\nclass = STAY\"),\n",
              " Text(0.07762956168594186, 0.6395348837209303, 'entropy = 0.0\\nsamples = 1\\nvalue = [0, 1]\\nclass = LEAVE'),\n",
              " Text(0.08019582818795647, 0.6395348837209303, \"['income'] <= 23777.0\\nentropy = 0.985\\nsamples = 7\\nvalue = [4, 3]\\nclass = STAY\"),\n",
              " Text(0.07891269493694916, 0.6317829457364341, 'entropy = 0.0\\nsamples = 2\\nvalue = [2, 0]\\nclass = STAY'),\n",
              " Text(0.08147896143896377, 0.6317829457364341, \"['income'] <= 23814.5\\nentropy = 0.971\\nsamples = 5\\nvalue = [2, 3]\\nclass = LEAVE\"),\n",
              " Text(0.08019582818795647, 0.624031007751938, 'entropy = 0.0\\nsamples = 1\\nvalue = [0, 1]\\nclass = LEAVE'),\n",
              " Text(0.08276209468997107, 0.624031007751938, \"['income'] <= 23837.5\\nentropy = 1.0\\nsamples = 4\\nvalue = [2, 2]\\nclass = STAY\"),\n",
              " Text(0.08147896143896377, 0.6162790697674418, 'entropy = 0.0\\nsamples = 1\\nvalue = [1, 0]\\nclass = STAY'),\n",
              " Text(0.08404522794097838, 0.6162790697674418, \"['income'] <= 23848.5\\nentropy = 0.918\\nsamples = 3\\nvalue = [1, 2]\\nclass = LEAVE\"),\n",
              " Text(0.08276209468997107, 0.6085271317829457, 'entropy = 0.0\\nsamples = 1\\nvalue = [0, 1]\\nclass = LEAVE'),\n",
              " Text(0.08532836119198568, 0.6085271317829457, \"['income'] <= 23853.5\\nentropy = 1.0\\nsamples = 2\\nvalue = [1, 1]\\nclass = STAY\"),\n",
              " Text(0.08404522794097838, 0.6007751937984496, 'entropy = 0.0\\nsamples = 1\\nvalue = [1, 0]\\nclass = STAY'),\n",
              " Text(0.08661149444299299, 0.6007751937984496, 'entropy = 0.0\\nsamples = 1\\nvalue = [0, 1]\\nclass = LEAVE'),\n",
              " Text(0.08147896143896377, 0.6472868217054264, 'entropy = 0.0\\nsamples = 2\\nvalue = [2, 0]\\nclass = STAY'),\n",
              " Text(0.08276209468997107, 0.686046511627907, \"['income'] <= 24014.5\\nentropy = 0.918\\nsamples = 15\\nvalue = [5, 10]\\nclass = LEAVE\"),\n",
              " Text(0.08147896143896377, 0.6782945736434108, 'entropy = 0.0\\nsamples = 7\\nvalue = [0, 7]\\nclass = LEAVE'),\n",
              " Text(0.08404522794097838, 0.6782945736434108, \"['income'] <= 24154.5\\nentropy = 0.954\\nsamples = 8\\nvalue = [5, 3]\\nclass = STAY\"),\n",
              " Text(0.08276209468997107, 0.6705426356589147, \"['income'] <= 24043.5\\nentropy = 0.863\\nsamples = 7\\nvalue = [5, 2]\\nclass = STAY\"),\n",
              " Text(0.08147896143896377, 0.6627906976744186, 'entropy = 0.0\\nsamples = 1\\nvalue = [1, 0]\\nclass = STAY'),\n",
              " Text(0.08404522794097838, 0.6627906976744186, \"['income'] <= 24054.5\\nentropy = 0.918\\nsamples = 6\\nvalue = [4, 2]\\nclass = STAY\"),\n",
              " Text(0.08276209468997107, 0.6550387596899225, 'entropy = 0.0\\nsamples = 1\\nvalue = [0, 1]\\nclass = LEAVE'),\n",
              " Text(0.08532836119198568, 0.6550387596899225, \"['income'] <= 24127.5\\nentropy = 0.722\\nsamples = 5\\nvalue = [4, 1]\\nclass = STAY\"),\n",
              " Text(0.08404522794097838, 0.6472868217054264, 'entropy = 0.0\\nsamples = 3\\nvalue = [3, 0]\\nclass = STAY'),\n",
              " Text(0.08661149444299299, 0.6472868217054264, \"['income'] <= 24148.0\\nentropy = 1.0\\nsamples = 2\\nvalue = [1, 1]\\nclass = STAY\"),\n",
              " Text(0.08532836119198568, 0.6395348837209303, 'entropy = 0.0\\nsamples = 1\\nvalue = [0, 1]\\nclass = LEAVE'),\n",
              " Text(0.08789462769400029, 0.6395348837209303, 'entropy = 0.0\\nsamples = 1\\nvalue = [1, 0]\\nclass = STAY'),\n",
              " Text(0.08532836119198568, 0.6705426356589147, 'entropy = 0.0\\nsamples = 1\\nvalue = [0, 1]\\nclass = LEAVE'),\n",
              " Text(0.08661149444299299, 0.6937984496124031, \"['income'] <= 24281.5\\nentropy = 0.65\\nsamples = 12\\nvalue = [10, 2]\\nclass = STAY\"),\n",
              " Text(0.08532836119198568, 0.686046511627907, 'entropy = 0.0\\nsamples = 5\\nvalue = [5, 0]\\nclass = STAY'),\n",
              " Text(0.08789462769400029, 0.686046511627907, \"['income'] <= 24298.5\\nentropy = 0.863\\nsamples = 7\\nvalue = [5, 2]\\nclass = STAY\"),\n",
              " Text(0.08661149444299299, 0.6782945736434108, 'entropy = 0.0\\nsamples = 1\\nvalue = [0, 1]\\nclass = LEAVE'),\n",
              " Text(0.0891777609450076, 0.6782945736434108, \"['income'] <= 24322.0\\nentropy = 0.65\\nsamples = 6\\nvalue = [5, 1]\\nclass = STAY\"),\n",
              " Text(0.08789462769400029, 0.6705426356589147, 'entropy = 0.0\\nsamples = 3\\nvalue = [3, 0]\\nclass = STAY'),\n",
              " Text(0.0904608941960149, 0.6705426356589147, \"['income'] <= 24325.5\\nentropy = 0.918\\nsamples = 3\\nvalue = [2, 1]\\nclass = STAY\"),\n",
              " Text(0.0891777609450076, 0.6627906976744186, 'entropy = 0.0\\nsamples = 1\\nvalue = [0, 1]\\nclass = LEAVE'),\n",
              " Text(0.0917440274470222, 0.6627906976744186, 'entropy = 0.0\\nsamples = 2\\nvalue = [2, 0]\\nclass = STAY'),\n",
              " Text(0.2100343002363819, 0.7015503875968992, \"['income'] <= 24500.0\\nentropy = 0.992\\nsamples = 2396\\nvalue = [1069, 1327]\\nclass = LEAVE\"),\n",
              " Text(0.16958535624177287, 0.6937984496124031, \"['income'] <= 24428.5\\nentropy = 0.414\\nsamples = 12\\nvalue = [1, 11]\\nclass = LEAVE\"),\n",
              " Text(0.16830222299076558, 0.686046511627907, \"['income'] <= 24396.0\\nentropy = 0.65\\nsamples = 6\\nvalue = [1, 5]\\nclass = LEAVE\"),\n",
              " Text(0.16701908973975826, 0.6782945736434108, 'entropy = 0.0\\nsamples = 5\\nvalue = [0, 5]\\nclass = LEAVE'),\n",
              " Text(0.16958535624177287, 0.6782945736434108, 'entropy = 0.0\\nsamples = 1\\nvalue = [1, 0]\\nclass = STAY'),\n",
              " Text(0.1708684894927802, 0.686046511627907, 'entropy = 0.0\\nsamples = 6\\nvalue = [0, 6]\\nclass = LEAVE'),\n",
              " Text(0.25048324423099094, 0.6937984496124031, \"['income'] <= 24569.5\\nentropy = 0.992\\nsamples = 2384\\nvalue = [1068, 1316]\\nclass = LEAVE\"),\n",
              " Text(0.1734347559947948, 0.686046511627907, \"['income'] <= 24509.5\\nentropy = 0.592\\nsamples = 7\\nvalue = [6, 1]\\nclass = STAY\"),\n",
              " Text(0.17215162274378748, 0.6782945736434108, \"['income'] <= 24502.5\\nentropy = 1.0\\nsamples = 2\\nvalue = [1, 1]\\nclass = STAY\"),\n",
              " Text(0.1708684894927802, 0.6705426356589147, 'entropy = 0.0\\nsamples = 1\\nvalue = [1, 0]\\nclass = STAY'),\n",
              " Text(0.1734347559947948, 0.6705426356589147, 'entropy = 0.0\\nsamples = 1\\nvalue = [0, 1]\\nclass = LEAVE'),\n",
              " Text(0.1747178892458021, 0.6782945736434108, 'entropy = 0.0\\nsamples = 5\\nvalue = [5, 0]\\nclass = STAY'),\n",
              " Text(0.3275317324671871, 0.686046511627907, \"['income'] <= 33653.5\\nentropy = 0.992\\nsamples = 2377\\nvalue = [1062, 1315]\\nclass = LEAVE\"),\n",
              " Text(0.19183405979476134, 0.6782945736434108, \"['income'] <= 32305.0\\nentropy = 0.978\\nsamples = 520\\nvalue = [215, 305]\\nclass = LEAVE\"),\n",
              " Text(0.1760010224968094, 0.6705426356589147, \"['income'] <= 32124.0\\nentropy = 0.99\\nsamples = 447\\nvalue = [197, 250]\\nclass = LEAVE\"),\n",
              " Text(0.16951643795192387, 0.6627906976744186, \"['income'] <= 31940.0\\nentropy = 0.987\\nsamples = 440\\nvalue = [191, 249]\\nclass = LEAVE\"),\n",
              " Text(0.16039666861517468, 0.6550387596899225, \"['income'] <= 31895.0\\nentropy = 0.99\\nsamples = 428\\nvalue = [189, 239]\\nclass = LEAVE\"),\n",
              " Text(0.15911353536416736, 0.6472868217054264, \"['income'] <= 31846.5\\nentropy = 0.989\\nsamples = 425\\nvalue = [186, 239]\\nclass = LEAVE\"),\n",
              " Text(0.15783040211316007, 0.6395348837209303, \"['income'] <= 29406.0\\nentropy = 0.99\\nsamples = 421\\nvalue = [186, 235]\\nclass = LEAVE\"),\n",
              " Text(0.13830773018865442, 0.6317829457364341, \"['income'] <= 28431.5\\nentropy = 0.978\\nsamples = 284\\nvalue = [117, 167]\\nclass = LEAVE\"),\n",
              " Text(0.11465998535173076, 0.624031007751938, \"['income'] <= 27265.0\\nentropy = 0.991\\nsamples = 234\\nvalue = [104, 130]\\nclass = LEAVE\"),\n",
              " Text(0.0917440274470222, 0.6162790697674418, \"['income'] <= 27219.0\\nentropy = 0.972\\nsamples = 157\\nvalue = [63, 94]\\nclass = LEAVE\"),\n",
              " Text(0.0904608941960149, 0.6085271317829457, \"['income'] <= 24588.5\\nentropy = 0.977\\nsamples = 153\\nvalue = [63, 90]\\nclass = LEAVE\"),\n",
              " Text(0.0891777609450076, 0.6007751937984496, 'entropy = 0.0\\nsamples = 2\\nvalue = [0, 2]\\nclass = LEAVE'),\n",
              " Text(0.0917440274470222, 0.6007751937984496, \"['income'] <= 24619.5\\nentropy = 0.98\\nsamples = 151\\nvalue = [63, 88]\\nclass = LEAVE\"),\n",
              " Text(0.0904608941960149, 0.5930232558139535, 'entropy = 0.0\\nsamples = 3\\nvalue = [3, 0]\\nclass = STAY'),\n",
              " Text(0.0930271606980295, 0.5930232558139535, \"['income'] <= 24646.0\\nentropy = 0.974\\nsamples = 148\\nvalue = [60, 88]\\nclass = LEAVE\"),\n",
              " Text(0.0917440274470222, 0.5852713178294574, 'entropy = 0.0\\nsamples = 3\\nvalue = [0, 3]\\nclass = LEAVE'),\n",
              " Text(0.09431029394903681, 0.5852713178294574, \"['income'] <= 25687.0\\nentropy = 0.978\\nsamples = 145\\nvalue = [60, 85]\\nclass = LEAVE\"),\n",
              " Text(0.08119827604030593, 0.5775193798449613, \"['income'] <= 25547.5\\nentropy = 0.998\\nsamples = 70\\nvalue = [33, 37]\\nclass = LEAVE\"),\n",
              " Text(0.07863200953829132, 0.5697674418604651, \"['income'] <= 25473.5\\nentropy = 0.98\\nsamples = 60\\nvalue = [25, 35]\\nclass = LEAVE\"),\n",
              " Text(0.07734887628728401, 0.562015503875969, \"['income'] <= 25097.5\\nentropy = 0.998\\nsamples = 53\\nvalue = [25, 28]\\nclass = LEAVE\"),\n",
              " Text(0.07357967236245005, 0.5542635658914729, \"['income'] <= 25035.5\\nentropy = 0.96\\nsamples = 34\\nvalue = [13, 21]\\nclass = LEAVE\"),\n",
              " Text(0.06989066426580406, 0.5465116279069767, \"['income'] <= 24980.0\\nentropy = 0.996\\nsamples = 26\\nvalue = [12, 14]\\nclass = LEAVE\"),\n",
              " Text(0.06636204782553398, 0.5387596899224806, \"['income'] <= 24836.0\\nentropy = 0.959\\nsamples = 21\\nvalue = [8, 13]\\nclass = LEAVE\"),\n",
              " Text(0.06315421469801571, 0.5310077519379846, \"['income'] <= 24747.0\\nentropy = 0.997\\nsamples = 15\\nvalue = [7, 8]\\nclass = LEAVE\"),\n",
              " Text(0.06058794819600111, 0.5232558139534884, \"['income'] <= 24706.5\\nentropy = 0.863\\nsamples = 7\\nvalue = [2, 5]\\nclass = LEAVE\"),\n",
              " Text(0.05930481494499381, 0.5155038759689923, \"['income'] <= 24690.5\\nentropy = 0.971\\nsamples = 5\\nvalue = [2, 3]\\nclass = LEAVE\"),\n",
              " Text(0.058021681693986506, 0.5077519379844961, \"['income'] <= 24663.0\\nentropy = 0.811\\nsamples = 4\\nvalue = [1, 3]\\nclass = LEAVE\"),\n",
              " Text(0.0567385484429792, 0.5, 'entropy = 1.0\\nsamples = 2\\nvalue = [1, 1]\\nclass = STAY'),\n",
              " Text(0.05930481494499381, 0.5, 'entropy = 0.0\\nsamples = 2\\nvalue = [0, 2]\\nclass = LEAVE'),\n",
              " Text(0.06058794819600111, 0.5077519379844961, 'entropy = 0.0\\nsamples = 1\\nvalue = [1, 0]\\nclass = STAY'),\n",
              " Text(0.06187108144700841, 0.5155038759689923, 'entropy = 0.0\\nsamples = 2\\nvalue = [0, 2]\\nclass = LEAVE'),\n",
              " Text(0.06572048120003032, 0.5232558139534884, \"['income'] <= 24779.5\\nentropy = 0.954\\nsamples = 8\\nvalue = [5, 3]\\nclass = STAY\"),\n",
              " Text(0.06443734794902302, 0.5155038759689923, 'entropy = 0.0\\nsamples = 2\\nvalue = [2, 0]\\nclass = STAY'),\n",
              " Text(0.06700361445103763, 0.5155038759689923, \"['income'] <= 24784.0\\nentropy = 1.0\\nsamples = 6\\nvalue = [3, 3]\\nclass = STAY\"),\n",
              " Text(0.06572048120003032, 0.5077519379844961, 'entropy = 0.0\\nsamples = 1\\nvalue = [0, 1]\\nclass = LEAVE'),\n",
              " Text(0.06828674770204493, 0.5077519379844961, \"['income'] <= 24804.5\\nentropy = 0.971\\nsamples = 5\\nvalue = [3, 2]\\nclass = STAY\"),\n",
              " Text(0.06700361445103763, 0.5, 'entropy = 0.0\\nsamples = 2\\nvalue = [2, 0]\\nclass = STAY'),\n",
              " Text(0.06956988095305223, 0.5, \"['income'] <= 24818.0\\nentropy = 0.918\\nsamples = 3\\nvalue = [1, 2]\\nclass = LEAVE\"),\n",
              " Text(0.06828674770204493, 0.49224806201550386, 'entropy = 0.0\\nsamples = 2\\nvalue = [0, 2]\\nclass = LEAVE'),\n",
              " Text(0.07085301420405954, 0.49224806201550386, 'entropy = 0.0\\nsamples = 1\\nvalue = [1, 0]\\nclass = STAY'),\n",
              " Text(0.06956988095305223, 0.5310077519379846, \"['income'] <= 24964.0\\nentropy = 0.65\\nsamples = 6\\nvalue = [1, 5]\\nclass = LEAVE\"),\n",
              " Text(0.06828674770204493, 0.5232558139534884, 'entropy = 0.0\\nsamples = 4\\nvalue = [0, 4]\\nclass = LEAVE'),\n",
              " Text(0.07085301420405954, 0.5232558139534884, \"['income'] <= 24975.0\\nentropy = 1.0\\nsamples = 2\\nvalue = [1, 1]\\nclass = STAY\"),\n",
              " Text(0.06956988095305223, 0.5155038759689923, 'entropy = 0.0\\nsamples = 1\\nvalue = [1, 0]\\nclass = STAY'),\n",
              " Text(0.07213614745506684, 0.5155038759689923, 'entropy = 0.0\\nsamples = 1\\nvalue = [0, 1]\\nclass = LEAVE'),\n",
              " Text(0.07341928070607415, 0.5387596899224806, \"['income'] <= 25005.5\\nentropy = 0.722\\nsamples = 5\\nvalue = [4, 1]\\nclass = STAY\"),\n",
              " Text(0.07213614745506684, 0.5310077519379846, 'entropy = 0.0\\nsamples = 3\\nvalue = [3, 0]\\nclass = STAY'),\n",
              " Text(0.07470241395708145, 0.5310077519379846, \"['income'] <= 25024.0\\nentropy = 1.0\\nsamples = 2\\nvalue = [1, 1]\\nclass = STAY\"),\n",
              " Text(0.07341928070607415, 0.5232558139534884, 'entropy = 0.0\\nsamples = 1\\nvalue = [0, 1]\\nclass = LEAVE'),\n",
              " Text(0.07598554720808876, 0.5232558139534884, 'entropy = 0.0\\nsamples = 1\\nvalue = [1, 0]\\nclass = STAY'),\n",
              " Text(0.07726868045909606, 0.5465116279069767, \"['income'] <= 25062.5\\nentropy = 0.544\\nsamples = 8\\nvalue = [1, 7]\\nclass = LEAVE\"),\n",
              " Text(0.07598554720808876, 0.5387596899224806, 'entropy = 0.0\\nsamples = 4\\nvalue = [0, 4]\\nclass = LEAVE'),\n",
              " Text(0.07855181371010336, 0.5387596899224806, \"['income'] <= 25072.5\\nentropy = 0.811\\nsamples = 4\\nvalue = [1, 3]\\nclass = LEAVE\"),\n",
              " Text(0.07726868045909606, 0.5310077519379846, 'entropy = 0.0\\nsamples = 1\\nvalue = [1, 0]\\nclass = STAY'),\n",
              " Text(0.07983494696111067, 0.5310077519379846, 'entropy = 0.0\\nsamples = 3\\nvalue = [0, 3]\\nclass = LEAVE'),\n",
              " Text(0.08111808021211797, 0.5542635658914729, \"['income'] <= 25158.0\\nentropy = 0.949\\nsamples = 19\\nvalue = [12, 7]\\nclass = STAY\"),\n",
              " Text(0.07983494696111067, 0.5465116279069767, 'entropy = 0.0\\nsamples = 2\\nvalue = [2, 0]\\nclass = STAY'),\n",
              " Text(0.08240121346312528, 0.5465116279069767, \"['income'] <= 25168.0\\nentropy = 0.977\\nsamples = 17\\nvalue = [10, 7]\\nclass = STAY\"),\n",
              " Text(0.08111808021211797, 0.5387596899224806, 'entropy = 0.0\\nsamples = 1\\nvalue = [0, 1]\\nclass = LEAVE'),\n",
              " Text(0.08368434671413258, 0.5387596899224806, \"['income'] <= 25239.5\\nentropy = 0.954\\nsamples = 16\\nvalue = [10, 6]\\nclass = STAY\"),\n",
              " Text(0.08240121346312528, 0.5310077519379846, 'entropy = 0.0\\nsamples = 3\\nvalue = [3, 0]\\nclass = STAY'),\n",
              " Text(0.08496747996513987, 0.5310077519379846, \"['income'] <= 25280.5\\nentropy = 0.996\\nsamples = 13\\nvalue = [7, 6]\\nclass = STAY\"),\n",
              " Text(0.08368434671413258, 0.5232558139534884, 'entropy = 0.0\\nsamples = 1\\nvalue = [0, 1]\\nclass = LEAVE'),\n",
              " Text(0.08625061321614717, 0.5232558139534884, \"['income'] <= 25346.0\\nentropy = 0.98\\nsamples = 12\\nvalue = [7, 5]\\nclass = STAY\"),\n",
              " Text(0.08368434671413258, 0.5155038759689923, \"['income'] <= 25324.5\\nentropy = 0.722\\nsamples = 5\\nvalue = [4, 1]\\nclass = STAY\"),\n",
              " Text(0.08240121346312528, 0.5077519379844961, \"['income'] <= 25304.5\\nentropy = 1.0\\nsamples = 2\\nvalue = [1, 1]\\nclass = STAY\"),\n",
              " Text(0.08111808021211797, 0.5, 'entropy = 0.0\\nsamples = 1\\nvalue = [1, 0]\\nclass = STAY'),\n",
              " Text(0.08368434671413258, 0.5, 'entropy = 0.0\\nsamples = 1\\nvalue = [0, 1]\\nclass = LEAVE'),\n",
              " Text(0.08496747996513987, 0.5077519379844961, 'entropy = 0.0\\nsamples = 3\\nvalue = [3, 0]\\nclass = STAY'),\n",
              " Text(0.08881687971816178, 0.5155038759689923, \"['income'] <= 25429.5\\nentropy = 0.985\\nsamples = 7\\nvalue = [3, 4]\\nclass = LEAVE\"),\n",
              " Text(0.08753374646715448, 0.5077519379844961, 'entropy = 0.0\\nsamples = 3\\nvalue = [0, 3]\\nclass = LEAVE'),\n",
              " Text(0.09010001296916909, 0.5077519379844961, \"['income'] <= 25442.0\\nentropy = 0.811\\nsamples = 4\\nvalue = [3, 1]\\nclass = STAY\"),\n",
              " Text(0.08881687971816178, 0.5, 'entropy = 0.0\\nsamples = 2\\nvalue = [2, 0]\\nclass = STAY'),\n",
              " Text(0.09138314622017639, 0.5, \"['income'] <= 25456.5\\nentropy = 1.0\\nsamples = 2\\nvalue = [1, 1]\\nclass = STAY\"),\n",
              " Text(0.09010001296916909, 0.49224806201550386, 'entropy = 0.0\\nsamples = 1\\nvalue = [0, 1]\\nclass = LEAVE'),\n",
              " Text(0.0926662794711837, 0.49224806201550386, 'entropy = 0.0\\nsamples = 1\\nvalue = [1, 0]\\nclass = STAY'),\n",
              " Text(0.07991514278929862, 0.562015503875969, 'entropy = 0.0\\nsamples = 7\\nvalue = [0, 7]\\nclass = LEAVE'),\n",
              " Text(0.08376454254232053, 0.5697674418604651, \"['income'] <= 25631.5\\nentropy = 0.722\\nsamples = 10\\nvalue = [8, 2]\\nclass = STAY\"),\n",
              " Text(0.08248140929131323, 0.562015503875969, 'entropy = 0.0\\nsamples = 6\\nvalue = [6, 0]\\nclass = STAY'),\n",
              " Text(0.08504767579332784, 0.562015503875969, \"['income'] <= 25656.0\\nentropy = 1.0\\nsamples = 4\\nvalue = [2, 2]\\nclass = STAY\"),\n",
              " Text(0.08376454254232053, 0.5542635658914729, 'entropy = 0.0\\nsamples = 2\\nvalue = [0, 2]\\nclass = LEAVE'),\n",
              " Text(0.08633080904433514, 0.5542635658914729, 'entropy = 0.0\\nsamples = 2\\nvalue = [2, 0]\\nclass = STAY'),\n",
              " Text(0.10742231185776768, 0.5775193798449613, \"['income'] <= 27181.0\\nentropy = 0.943\\nsamples = 75\\nvalue = [27, 48]\\nclass = LEAVE\"),\n",
              " Text(0.10613917860676038, 0.5697674418604651, \"['income'] <= 25709.5\\nentropy = 0.935\\nsamples = 74\\nvalue = [26, 48]\\nclass = LEAVE\"),\n",
              " Text(0.10485604535575307, 0.562015503875969, 'entropy = 0.0\\nsamples = 2\\nvalue = [0, 2]\\nclass = LEAVE'),\n",
              " Text(0.10742231185776768, 0.562015503875969, \"['income'] <= 25719.5\\nentropy = 0.944\\nsamples = 72\\nvalue = [26, 46]\\nclass = LEAVE\"),\n",
              " Text(0.10613917860676038, 0.5542635658914729, 'entropy = 0.0\\nsamples = 1\\nvalue = [1, 0]\\nclass = STAY'),\n",
              " Text(0.10870544510877499, 0.5542635658914729, \"['income'] <= 26190.0\\nentropy = 0.936\\nsamples = 71\\nvalue = [25, 46]\\nclass = LEAVE\"),\n",
              " Text(0.10421447873024943, 0.5465116279069767, \"['income'] <= 26131.5\\nentropy = 0.811\\nsamples = 24\\nvalue = [6, 18]\\nclass = LEAVE\"),\n",
              " Text(0.10293134547924213, 0.5387596899224806, \"['income'] <= 26078.5\\nentropy = 0.863\\nsamples = 21\\nvalue = [6, 15]\\nclass = LEAVE\"),\n",
              " Text(0.10164821222823482, 0.5310077519379846, \"['income'] <= 26011.0\\nentropy = 0.811\\nsamples = 20\\nvalue = [5, 15]\\nclass = LEAVE\"),\n",
              " Text(0.10036507897722752, 0.5232558139534884, \"['income'] <= 26002.5\\nentropy = 0.874\\nsamples = 17\\nvalue = [5, 12]\\nclass = LEAVE\"),\n",
              " Text(0.09908194572622021, 0.5155038759689923, \"['income'] <= 25968.5\\nentropy = 0.811\\nsamples = 16\\nvalue = [4, 12]\\nclass = LEAVE\"),\n",
              " Text(0.09779881247521291, 0.5077519379844961, \"['income'] <= 25963.0\\nentropy = 0.863\\nsamples = 14\\nvalue = [4, 10]\\nclass = LEAVE\"),\n",
              " Text(0.0965156792242056, 0.5, \"['income'] <= 25944.0\\nentropy = 0.779\\nsamples = 13\\nvalue = [3, 10]\\nclass = LEAVE\"),\n",
              " Text(0.0952325459731983, 0.49224806201550386, \"['income'] <= 25930.5\\nentropy = 0.845\\nsamples = 11\\nvalue = [3, 8]\\nclass = LEAVE\"),\n",
              " Text(0.093949412722191, 0.4844961240310077, \"['income'] <= 25835.5\\nentropy = 0.722\\nsamples = 10\\nvalue = [2, 8]\\nclass = LEAVE\"),\n",
              " Text(0.0926662794711837, 0.47674418604651164, \"['income'] <= 25807.5\\nentropy = 0.918\\nsamples = 6\\nvalue = [2, 4]\\nclass = LEAVE\"),\n",
              " Text(0.09138314622017639, 0.4689922480620155, \"['income'] <= 25732.0\\nentropy = 0.722\\nsamples = 5\\nvalue = [1, 4]\\nclass = LEAVE\"),\n",
              " Text(0.09010001296916909, 0.46124031007751937, 'entropy = 1.0\\nsamples = 2\\nvalue = [1, 1]\\nclass = STAY'),\n",
              " Text(0.0926662794711837, 0.46124031007751937, 'entropy = 0.0\\nsamples = 3\\nvalue = [0, 3]\\nclass = LEAVE'),\n",
              " Text(0.093949412722191, 0.4689922480620155, 'entropy = 0.0\\nsamples = 1\\nvalue = [1, 0]\\nclass = STAY'),\n",
              " Text(0.0952325459731983, 0.47674418604651164, 'entropy = 0.0\\nsamples = 4\\nvalue = [0, 4]\\nclass = LEAVE'),\n",
              " Text(0.0965156792242056, 0.4844961240310077, 'entropy = 0.0\\nsamples = 1\\nvalue = [1, 0]\\nclass = STAY'),\n",
              " Text(0.09779881247521291, 0.49224806201550386, 'entropy = 0.0\\nsamples = 2\\nvalue = [0, 2]\\nclass = LEAVE'),\n",
              " Text(0.09908194572622021, 0.5, 'entropy = 0.0\\nsamples = 1\\nvalue = [1, 0]\\nclass = STAY'),\n",
              " Text(0.10036507897722752, 0.5077519379844961, 'entropy = 0.0\\nsamples = 2\\nvalue = [0, 2]\\nclass = LEAVE'),\n",
              " Text(0.10164821222823482, 0.5155038759689923, 'entropy = 0.0\\nsamples = 1\\nvalue = [1, 0]\\nclass = STAY'),\n",
              " Text(0.10293134547924213, 0.5232558139534884, 'entropy = 0.0\\nsamples = 3\\nvalue = [0, 3]\\nclass = LEAVE'),\n",
              " Text(0.10421447873024943, 0.5310077519379846, 'entropy = 0.0\\nsamples = 1\\nvalue = [1, 0]\\nclass = STAY'),\n",
              " Text(0.10549761198125673, 0.5387596899224806, 'entropy = 0.0\\nsamples = 3\\nvalue = [0, 3]\\nclass = LEAVE'),\n",
              " Text(0.11319641148730056, 0.5465116279069767, \"['income'] <= 26394.5\\nentropy = 0.973\\nsamples = 47\\nvalue = [19, 28]\\nclass = LEAVE\"),\n",
              " Text(0.10806387848327134, 0.5387596899224806, \"['income'] <= 26373.5\\nentropy = 0.971\\nsamples = 10\\nvalue = [6, 4]\\nclass = STAY\"),\n",
              " Text(0.10678074523226404, 0.5310077519379846, \"['income'] <= 26284.5\\nentropy = 1.0\\nsamples = 8\\nvalue = [4, 4]\\nclass = STAY\"),\n",
              " Text(0.10549761198125673, 0.5232558139534884, \"['income'] <= 26267.5\\nentropy = 0.918\\nsamples = 6\\nvalue = [4, 2]\\nclass = STAY\"),\n",
              " Text(0.10421447873024943, 0.5155038759689923, \"['income'] <= 26194.0\\nentropy = 1.0\\nsamples = 4\\nvalue = [2, 2]\\nclass = STAY\"),\n",
              " Text(0.10293134547924213, 0.5077519379844961, 'entropy = 0.0\\nsamples = 1\\nvalue = [1, 0]\\nclass = STAY'),\n",
              " Text(0.10549761198125673, 0.5077519379844961, \"['income'] <= 26219.0\\nentropy = 0.918\\nsamples = 3\\nvalue = [1, 2]\\nclass = LEAVE\"),\n",
              " Text(0.10421447873024943, 0.5, 'entropy = 0.0\\nsamples = 1\\nvalue = [0, 1]\\nclass = LEAVE'),\n",
              " Text(0.10678074523226404, 0.5, \"['income'] <= 26253.5\\nentropy = 1.0\\nsamples = 2\\nvalue = [1, 1]\\nclass = STAY\"),\n",
              " Text(0.10549761198125673, 0.49224806201550386, 'entropy = 0.0\\nsamples = 1\\nvalue = [1, 0]\\nclass = STAY'),\n",
              " Text(0.10806387848327134, 0.49224806201550386, 'entropy = 0.0\\nsamples = 1\\nvalue = [0, 1]\\nclass = LEAVE'),\n",
              " Text(0.10678074523226404, 0.5155038759689923, 'entropy = 0.0\\nsamples = 2\\nvalue = [2, 0]\\nclass = STAY'),\n",
              " Text(0.10806387848327134, 0.5232558139534884, 'entropy = 0.0\\nsamples = 2\\nvalue = [0, 2]\\nclass = LEAVE'),\n",
              " Text(0.10934701173427865, 0.5310077519379846, 'entropy = 0.0\\nsamples = 2\\nvalue = [2, 0]\\nclass = STAY'),\n",
              " Text(0.11832894449132976, 0.5387596899224806, \"['income'] <= 26462.0\\nentropy = 0.935\\nsamples = 37\\nvalue = [13, 24]\\nclass = LEAVE\"),\n",
              " Text(0.11704581124032246, 0.5310077519379846, 'entropy = 0.0\\nsamples = 5\\nvalue = [0, 5]\\nclass = LEAVE'),\n",
              " Text(0.11961207774233706, 0.5310077519379846, \"['income'] <= 26833.5\\nentropy = 0.974\\nsamples = 32\\nvalue = [13, 19]\\nclass = LEAVE\"),\n",
              " Text(0.11704581124032246, 0.5232558139534884, \"['income'] <= 26758.0\\nentropy = 0.997\\nsamples = 15\\nvalue = [8, 7]\\nclass = STAY\"),\n",
              " Text(0.11576267798931517, 0.5155038759689923, \"['income'] <= 26712.0\\nentropy = 0.98\\nsamples = 12\\nvalue = [5, 7]\\nclass = LEAVE\"),\n",
              " Text(0.11447954473830786, 0.5077519379844961, \"['income'] <= 26642.5\\nentropy = 1.0\\nsamples = 10\\nvalue = [5, 5]\\nclass = STAY\"),\n",
              " Text(0.11191327823629325, 0.5, \"['income'] <= 26524.0\\nentropy = 0.918\\nsamples = 6\\nvalue = [2, 4]\\nclass = LEAVE\"),\n",
              " Text(0.11063014498528595, 0.49224806201550386, 'entropy = 0.0\\nsamples = 1\\nvalue = [1, 0]\\nclass = STAY'),\n",
              " Text(0.11319641148730056, 0.49224806201550386, \"['income'] <= 26613.5\\nentropy = 0.722\\nsamples = 5\\nvalue = [1, 4]\\nclass = LEAVE\"),\n",
              " Text(0.11191327823629325, 0.4844961240310077, 'entropy = 0.0\\nsamples = 2\\nvalue = [0, 2]\\nclass = LEAVE'),\n",
              " Text(0.11447954473830786, 0.4844961240310077, \"['income'] <= 26615.0\\nentropy = 0.918\\nsamples = 3\\nvalue = [1, 2]\\nclass = LEAVE\"),\n",
              " Text(0.11319641148730056, 0.47674418604651164, 'entropy = 0.0\\nsamples = 1\\nvalue = [1, 0]\\nclass = STAY'),\n",
              " Text(0.11576267798931517, 0.47674418604651164, 'entropy = 0.0\\nsamples = 2\\nvalue = [0, 2]\\nclass = LEAVE'),\n",
              " Text(0.11704581124032246, 0.5, \"['income'] <= 26703.5\\nentropy = 0.811\\nsamples = 4\\nvalue = [3, 1]\\nclass = STAY\"),\n",
              " Text(0.11576267798931517, 0.49224806201550386, 'entropy = 0.0\\nsamples = 2\\nvalue = [2, 0]\\nclass = STAY'),\n",
              " Text(0.11832894449132976, 0.49224806201550386, \"['income'] <= 26707.5\\nentropy = 1.0\\nsamples = 2\\nvalue = [1, 1]\\nclass = STAY\"),\n",
              " Text(0.11704581124032246, 0.4844961240310077, 'entropy = 0.0\\nsamples = 1\\nvalue = [0, 1]\\nclass = LEAVE'),\n",
              " Text(0.11961207774233706, 0.4844961240310077, 'entropy = 0.0\\nsamples = 1\\nvalue = [1, 0]\\nclass = STAY'),\n",
              " Text(0.11704581124032246, 0.5077519379844961, 'entropy = 0.0\\nsamples = 2\\nvalue = [0, 2]\\nclass = LEAVE'),\n",
              " Text(0.11832894449132976, 0.5155038759689923, 'entropy = 0.0\\nsamples = 3\\nvalue = [3, 0]\\nclass = STAY'),\n",
              " Text(0.12217834424435167, 0.5232558139534884, \"['income'] <= 26857.5\\nentropy = 0.874\\nsamples = 17\\nvalue = [5, 12]\\nclass = LEAVE\"),\n",
              " Text(0.12089521099334437, 0.5155038759689923, 'entropy = 0.0\\nsamples = 2\\nvalue = [0, 2]\\nclass = LEAVE'),\n",
              " Text(0.12346147749535898, 0.5155038759689923, \"['income'] <= 26863.0\\nentropy = 0.918\\nsamples = 15\\nvalue = [5, 10]\\nclass = LEAVE\"),\n",
              " Text(0.12217834424435167, 0.5077519379844961, 'entropy = 0.0\\nsamples = 1\\nvalue = [1, 0]\\nclass = STAY'),\n",
              " Text(0.12474461074636628, 0.5077519379844961, \"['income'] <= 26877.0\\nentropy = 0.863\\nsamples = 14\\nvalue = [4, 10]\\nclass = LEAVE\"),\n",
              " Text(0.12346147749535898, 0.5, 'entropy = 0.0\\nsamples = 2\\nvalue = [0, 2]\\nclass = LEAVE'),\n",
              " Text(0.1260277439973736, 0.5, \"['income'] <= 26887.0\\nentropy = 0.918\\nsamples = 12\\nvalue = [4, 8]\\nclass = LEAVE\"),\n",
              " Text(0.12474461074636628, 0.49224806201550386, 'entropy = 0.0\\nsamples = 1\\nvalue = [1, 0]\\nclass = STAY'),\n",
              " Text(0.1273108772483809, 0.49224806201550386, \"['income'] <= 26971.5\\nentropy = 0.845\\nsamples = 11\\nvalue = [3, 8]\\nclass = LEAVE\"),\n",
              " Text(0.1260277439973736, 0.4844961240310077, 'entropy = 0.0\\nsamples = 4\\nvalue = [0, 4]\\nclass = LEAVE'),\n",
              " Text(0.1285940104993882, 0.4844961240310077, \"['income'] <= 27048.0\\nentropy = 0.985\\nsamples = 7\\nvalue = [3, 4]\\nclass = LEAVE\"),\n",
              " Text(0.1273108772483809, 0.47674418604651164, 'entropy = 0.0\\nsamples = 2\\nvalue = [2, 0]\\nclass = STAY'),\n",
              " Text(0.1298771437503955, 0.47674418604651164, \"['income'] <= 27123.5\\nentropy = 0.722\\nsamples = 5\\nvalue = [1, 4]\\nclass = LEAVE\"),\n",
              " Text(0.1285940104993882, 0.4689922480620155, 'entropy = 0.0\\nsamples = 3\\nvalue = [0, 3]\\nclass = LEAVE'),\n",
              " Text(0.13116027700140281, 0.4689922480620155, \"['income'] <= 27140.5\\nentropy = 1.0\\nsamples = 2\\nvalue = [1, 1]\\nclass = STAY\"),\n",
              " Text(0.1298771437503955, 0.46124031007751937, 'entropy = 0.0\\nsamples = 1\\nvalue = [1, 0]\\nclass = STAY'),\n",
              " Text(0.1324434102524101, 0.46124031007751937, 'entropy = 0.0\\nsamples = 1\\nvalue = [0, 1]\\nclass = LEAVE'),\n",
              " Text(0.10870544510877499, 0.5697674418604651, 'entropy = 0.0\\nsamples = 1\\nvalue = [1, 0]\\nclass = STAY'),\n",
              " Text(0.0930271606980295, 0.6085271317829457, 'entropy = 0.0\\nsamples = 4\\nvalue = [0, 4]\\nclass = LEAVE'),\n",
              " Text(0.13757594325643932, 0.6162790697674418, \"['income'] <= 27792.0\\nentropy = 0.997\\nsamples = 77\\nvalue = [41, 36]\\nclass = STAY\"),\n",
              " Text(0.12153677761884803, 0.6085271317829457, \"['income'] <= 27301.5\\nentropy = 0.918\\nsamples = 36\\nvalue = [24, 12]\\nclass = STAY\"),\n",
              " Text(0.12025364436784072, 0.6007751937984496, 'entropy = 0.0\\nsamples = 3\\nvalue = [3, 0]\\nclass = STAY'),\n",
              " Text(0.12281991086985533, 0.6007751937984496, \"['income'] <= 27585.5\\nentropy = 0.946\\nsamples = 33\\nvalue = [21, 12]\\nclass = STAY\"),\n",
              " Text(0.11961207774233706, 0.5930232558139535, \"['income'] <= 27358.0\\nentropy = 0.998\\nsamples = 19\\nvalue = [10, 9]\\nclass = STAY\"),\n",
              " Text(0.11704581124032246, 0.5852713178294574, \"['income'] <= 27323.0\\nentropy = 0.722\\nsamples = 5\\nvalue = [4, 1]\\nclass = STAY\"),\n",
              " Text(0.11576267798931517, 0.5775193798449613, 'entropy = 1.0\\nsamples = 2\\nvalue = [1, 1]\\nclass = STAY'),\n",
              " Text(0.11832894449132976, 0.5775193798449613, 'entropy = 0.0\\nsamples = 3\\nvalue = [3, 0]\\nclass = STAY'),\n",
              " Text(0.12217834424435167, 0.5852713178294574, \"['income'] <= 27379.5\\nentropy = 0.985\\nsamples = 14\\nvalue = [6, 8]\\nclass = LEAVE\"),\n",
              " Text(0.12089521099334437, 0.5775193798449613, 'entropy = 0.0\\nsamples = 1\\nvalue = [0, 1]\\nclass = LEAVE'),\n",
              " Text(0.12346147749535898, 0.5775193798449613, \"['income'] <= 27391.5\\nentropy = 0.996\\nsamples = 13\\nvalue = [6, 7]\\nclass = LEAVE\"),\n",
              " Text(0.12217834424435167, 0.5697674418604651, 'entropy = 0.0\\nsamples = 1\\nvalue = [1, 0]\\nclass = STAY'),\n",
              " Text(0.12474461074636628, 0.5697674418604651, \"['income'] <= 27407.0\\nentropy = 0.98\\nsamples = 12\\nvalue = [5, 7]\\nclass = LEAVE\"),\n",
              " Text(0.12346147749535898, 0.562015503875969, 'entropy = 0.0\\nsamples = 2\\nvalue = [0, 2]\\nclass = LEAVE'),\n",
              " Text(0.1260277439973736, 0.562015503875969, \"['income'] <= 27482.5\\nentropy = 1.0\\nsamples = 10\\nvalue = [5, 5]\\nclass = STAY\"),\n",
              " Text(0.12346147749535898, 0.5542635658914729, \"['income'] <= 27447.0\\nentropy = 0.811\\nsamples = 4\\nvalue = [3, 1]\\nclass = STAY\"),\n",
              " Text(0.12217834424435167, 0.5465116279069767, \"['income'] <= 27418.0\\nentropy = 1.0\\nsamples = 2\\nvalue = [1, 1]\\nclass = STAY\"),\n",
              " Text(0.12089521099334437, 0.5387596899224806, 'entropy = 0.0\\nsamples = 1\\nvalue = [1, 0]\\nclass = STAY'),\n",
              " Text(0.12346147749535898, 0.5387596899224806, 'entropy = 0.0\\nsamples = 1\\nvalue = [0, 1]\\nclass = LEAVE'),\n",
              " Text(0.12474461074636628, 0.5465116279069767, 'entropy = 0.0\\nsamples = 2\\nvalue = [2, 0]\\nclass = STAY'),\n",
              " Text(0.1285940104993882, 0.5542635658914729, \"['income'] <= 27491.0\\nentropy = 0.918\\nsamples = 6\\nvalue = [2, 4]\\nclass = LEAVE\"),\n",
              " Text(0.1273108772483809, 0.5465116279069767, 'entropy = 0.0\\nsamples = 2\\nvalue = [0, 2]\\nclass = LEAVE'),\n",
              " Text(0.1298771437503955, 0.5465116279069767, \"['income'] <= 27513.0\\nentropy = 1.0\\nsamples = 4\\nvalue = [2, 2]\\nclass = STAY\"),\n",
              " Text(0.1285940104993882, 0.5387596899224806, 'entropy = 0.0\\nsamples = 1\\nvalue = [1, 0]\\nclass = STAY'),\n",
              " Text(0.13116027700140281, 0.5387596899224806, \"['income'] <= 27553.5\\nentropy = 0.918\\nsamples = 3\\nvalue = [1, 2]\\nclass = LEAVE\"),\n",
              " Text(0.1298771437503955, 0.5310077519379846, 'entropy = 0.0\\nsamples = 1\\nvalue = [0, 1]\\nclass = LEAVE'),\n",
              " Text(0.1324434102524101, 0.5310077519379846, \"['income'] <= 27577.5\\nentropy = 1.0\\nsamples = 2\\nvalue = [1, 1]\\nclass = STAY\"),\n",
              " Text(0.13116027700140281, 0.5232558139534884, 'entropy = 0.0\\nsamples = 1\\nvalue = [1, 0]\\nclass = STAY'),\n",
              " Text(0.1337265435034174, 0.5232558139534884, 'entropy = 0.0\\nsamples = 1\\nvalue = [0, 1]\\nclass = LEAVE'),\n",
              " Text(0.1260277439973736, 0.5930232558139535, \"['income'] <= 27715.5\\nentropy = 0.75\\nsamples = 14\\nvalue = [11, 3]\\nclass = STAY\"),\n",
              " Text(0.12474461074636628, 0.5852713178294574, 'entropy = 0.0\\nsamples = 7\\nvalue = [7, 0]\\nclass = STAY'),\n",
              " Text(0.1273108772483809, 0.5852713178294574, \"['income'] <= 27741.5\\nentropy = 0.985\\nsamples = 7\\nvalue = [4, 3]\\nclass = STAY\"),\n",
              " Text(0.1260277439973736, 0.5775193798449613, 'entropy = 0.0\\nsamples = 2\\nvalue = [0, 2]\\nclass = LEAVE'),\n",
              " Text(0.1285940104993882, 0.5775193798449613, \"['income'] <= 27754.5\\nentropy = 0.722\\nsamples = 5\\nvalue = [4, 1]\\nclass = STAY\"),\n",
              " Text(0.1273108772483809, 0.5697674418604651, 'entropy = 0.0\\nsamples = 2\\nvalue = [2, 0]\\nclass = STAY'),\n",
              " Text(0.1298771437503955, 0.5697674418604651, \"['income'] <= 27764.0\\nentropy = 0.918\\nsamples = 3\\nvalue = [2, 1]\\nclass = STAY\"),\n",
              " Text(0.1285940104993882, 0.562015503875969, 'entropy = 0.0\\nsamples = 1\\nvalue = [0, 1]\\nclass = LEAVE'),\n",
              " Text(0.13116027700140281, 0.562015503875969, 'entropy = 0.0\\nsamples = 2\\nvalue = [2, 0]\\nclass = STAY'),\n",
              " Text(0.1536151088940306, 0.6085271317829457, \"['income'] <= 28413.0\\nentropy = 0.979\\nsamples = 41\\nvalue = [17, 24]\\nclass = LEAVE\"),\n",
              " Text(0.1523319756430233, 0.6007751937984496, \"['income'] <= 28184.5\\nentropy = 0.971\\nsamples = 40\\nvalue = [16, 24]\\nclass = LEAVE\"),\n",
              " Text(0.14912414251550504, 0.5930232558139535, \"['income'] <= 28159.0\\nentropy = 0.918\\nsamples = 24\\nvalue = [8, 16]\\nclass = LEAVE\"),\n",
              " Text(0.14784100926449775, 0.5852713178294574, \"['income'] <= 28150.5\\nentropy = 0.959\\nsamples = 21\\nvalue = [8, 13]\\nclass = LEAVE\"),\n",
              " Text(0.14655787601349043, 0.5775193798449613, \"['income'] <= 28109.5\\nentropy = 0.934\\nsamples = 20\\nvalue = [7, 13]\\nclass = LEAVE\"),\n",
              " Text(0.14527474276248314, 0.5697674418604651, \"['income'] <= 28074.0\\nentropy = 0.977\\nsamples = 17\\nvalue = [7, 10]\\nclass = LEAVE\"),\n",
              " Text(0.14399160951147583, 0.562015503875969, \"['income'] <= 28027.0\\nentropy = 0.918\\nsamples = 15\\nvalue = [5, 10]\\nclass = LEAVE\"),\n",
              " Text(0.14270847626046854, 0.5542635658914729, \"['income'] <= 27981.0\\nentropy = 0.98\\nsamples = 12\\nvalue = [5, 7]\\nclass = LEAVE\"),\n",
              " Text(0.14142534300946122, 0.5465116279069767, \"['income'] <= 27898.0\\nentropy = 0.946\\nsamples = 11\\nvalue = [4, 7]\\nclass = LEAVE\"),\n",
              " Text(0.1388590765074466, 0.5387596899224806, \"['income'] <= 27873.0\\nentropy = 1.0\\nsamples = 6\\nvalue = [3, 3]\\nclass = STAY\"),\n",
              " Text(0.13757594325643932, 0.5310077519379846, \"['income'] <= 27851.0\\nentropy = 0.811\\nsamples = 4\\nvalue = [1, 3]\\nclass = LEAVE\"),\n",
              " Text(0.136292810005432, 0.5232558139534884, \"['income'] <= 27829.0\\nentropy = 1.0\\nsamples = 2\\nvalue = [1, 1]\\nclass = STAY\"),\n",
              " Text(0.1350096767544247, 0.5155038759689923, 'entropy = 0.0\\nsamples = 1\\nvalue = [0, 1]\\nclass = LEAVE'),\n",
              " Text(0.13757594325643932, 0.5155038759689923, 'entropy = 0.0\\nsamples = 1\\nvalue = [1, 0]\\nclass = STAY'),\n",
              " Text(0.1388590765074466, 0.5232558139534884, 'entropy = 0.0\\nsamples = 2\\nvalue = [0, 2]\\nclass = LEAVE'),\n",
              " Text(0.14014220975845393, 0.5310077519379846, 'entropy = 0.0\\nsamples = 2\\nvalue = [2, 0]\\nclass = STAY'),\n",
              " Text(0.14399160951147583, 0.5387596899224806, \"['income'] <= 27917.0\\nentropy = 0.722\\nsamples = 5\\nvalue = [1, 4]\\nclass = LEAVE\"),\n",
              " Text(0.14270847626046854, 0.5310077519379846, 'entropy = 0.0\\nsamples = 3\\nvalue = [0, 3]\\nclass = LEAVE'),\n",
              " Text(0.14527474276248314, 0.5310077519379846, \"['income'] <= 27936.5\\nentropy = 1.0\\nsamples = 2\\nvalue = [1, 1]\\nclass = STAY\"),\n",
              " Text(0.14399160951147583, 0.5232558139534884, 'entropy = 0.0\\nsamples = 1\\nvalue = [1, 0]\\nclass = STAY'),\n",
              " Text(0.14655787601349043, 0.5232558139534884, 'entropy = 0.0\\nsamples = 1\\nvalue = [0, 1]\\nclass = LEAVE'),\n",
              " Text(0.14399160951147583, 0.5465116279069767, 'entropy = 0.0\\nsamples = 1\\nvalue = [1, 0]\\nclass = STAY'),\n",
              " Text(0.14527474276248314, 0.5542635658914729, 'entropy = 0.0\\nsamples = 3\\nvalue = [0, 3]\\nclass = LEAVE'),\n",
              " Text(0.14655787601349043, 0.562015503875969, 'entropy = 0.0\\nsamples = 2\\nvalue = [2, 0]\\nclass = STAY'),\n",
              " Text(0.14784100926449775, 0.5697674418604651, 'entropy = 0.0\\nsamples = 3\\nvalue = [0, 3]\\nclass = LEAVE'),\n",
              " Text(0.14912414251550504, 0.5775193798449613, 'entropy = 0.0\\nsamples = 1\\nvalue = [1, 0]\\nclass = STAY'),\n",
              " Text(0.15040727576651236, 0.5852713178294574, 'entropy = 0.0\\nsamples = 3\\nvalue = [0, 3]\\nclass = LEAVE'),\n",
              " Text(0.15553980877054158, 0.5930232558139535, \"['income'] <= 28286.5\\nentropy = 1.0\\nsamples = 16\\nvalue = [8, 8]\\nclass = STAY\"),\n",
              " Text(0.15297354226852697, 0.5852713178294574, \"['income'] <= 28249.5\\nentropy = 0.918\\nsamples = 9\\nvalue = [6, 3]\\nclass = STAY\"),\n",
              " Text(0.15169040901751965, 0.5775193798449613, \"['income'] <= 28233.0\\nentropy = 1.0\\nsamples = 6\\nvalue = [3, 3]\\nclass = STAY\"),\n",
              " Text(0.15040727576651236, 0.5697674418604651, \"['income'] <= 28215.5\\nentropy = 0.811\\nsamples = 4\\nvalue = [3, 1]\\nclass = STAY\"),\n",
              " Text(0.14912414251550504, 0.562015503875969, \"['income'] <= 28202.0\\nentropy = 1.0\\nsamples = 2\\nvalue = [1, 1]\\nclass = STAY\"),\n",
              " Text(0.14784100926449775, 0.5542635658914729, 'entropy = 0.0\\nsamples = 1\\nvalue = [1, 0]\\nclass = STAY'),\n",
              " Text(0.15040727576651236, 0.5542635658914729, 'entropy = 0.0\\nsamples = 1\\nvalue = [0, 1]\\nclass = LEAVE'),\n",
              " Text(0.15169040901751965, 0.562015503875969, 'entropy = 0.0\\nsamples = 2\\nvalue = [2, 0]\\nclass = STAY'),\n",
              " Text(0.15297354226852697, 0.5697674418604651, 'entropy = 0.0\\nsamples = 2\\nvalue = [0, 2]\\nclass = LEAVE'),\n",
              " Text(0.15425667551953426, 0.5775193798449613, 'entropy = 0.0\\nsamples = 3\\nvalue = [3, 0]\\nclass = STAY'),\n",
              " Text(0.15810607527255618, 0.5852713178294574, \"['income'] <= 28327.5\\nentropy = 0.863\\nsamples = 7\\nvalue = [2, 5]\\nclass = LEAVE\"),\n",
              " Text(0.15682294202154887, 0.5775193798449613, 'entropy = 0.0\\nsamples = 3\\nvalue = [0, 3]\\nclass = LEAVE'),\n",
              " Text(0.15938920852356347, 0.5775193798449613, \"['income'] <= 28345.0\\nentropy = 1.0\\nsamples = 4\\nvalue = [2, 2]\\nclass = STAY\"),\n",
              " Text(0.15810607527255618, 0.5697674418604651, 'entropy = 0.0\\nsamples = 1\\nvalue = [1, 0]\\nclass = STAY'),\n",
              " Text(0.1606723417745708, 0.5697674418604651, \"['income'] <= 28359.5\\nentropy = 0.918\\nsamples = 3\\nvalue = [1, 2]\\nclass = LEAVE\"),\n",
              " Text(0.15938920852356347, 0.562015503875969, 'entropy = 0.0\\nsamples = 1\\nvalue = [0, 1]\\nclass = LEAVE'),\n",
              " Text(0.16195547502557808, 0.562015503875969, \"['income'] <= 28382.5\\nentropy = 1.0\\nsamples = 2\\nvalue = [1, 1]\\nclass = STAY\"),\n",
              " Text(0.1606723417745708, 0.5542635658914729, 'entropy = 0.0\\nsamples = 1\\nvalue = [1, 0]\\nclass = STAY'),\n",
              " Text(0.1632386082765854, 0.5542635658914729, 'entropy = 0.0\\nsamples = 1\\nvalue = [0, 1]\\nclass = LEAVE'),\n",
              " Text(0.15489824214503792, 0.6007751937984496, 'entropy = 0.0\\nsamples = 1\\nvalue = [1, 0]\\nclass = STAY'),\n",
              " Text(0.16195547502557808, 0.624031007751938, \"['income'] <= 28551.5\\nentropy = 0.827\\nsamples = 50\\nvalue = [13, 37]\\nclass = LEAVE\"),\n",
              " Text(0.1606723417745708, 0.6162790697674418, 'entropy = 0.0\\nsamples = 7\\nvalue = [0, 7]\\nclass = LEAVE'),\n",
              " Text(0.1632386082765854, 0.6162790697674418, \"['income'] <= 28731.0\\nentropy = 0.884\\nsamples = 43\\nvalue = [13, 30]\\nclass = LEAVE\"),\n",
              " Text(0.1606723417745708, 0.6085271317829457, \"['income'] <= 28676.5\\nentropy = 0.985\\nsamples = 7\\nvalue = [4, 3]\\nclass = STAY\"),\n",
              " Text(0.15938920852356347, 0.6007751937984496, \"['income'] <= 28606.0\\nentropy = 0.811\\nsamples = 4\\nvalue = [1, 3]\\nclass = LEAVE\"),\n",
              " Text(0.15810607527255618, 0.5930232558139535, 'entropy = 0.0\\nsamples = 1\\nvalue = [1, 0]\\nclass = STAY'),\n",
              " Text(0.1606723417745708, 0.5930232558139535, 'entropy = 0.0\\nsamples = 3\\nvalue = [0, 3]\\nclass = LEAVE'),\n",
              " Text(0.16195547502557808, 0.6007751937984496, 'entropy = 0.0\\nsamples = 3\\nvalue = [3, 0]\\nclass = STAY'),\n",
              " Text(0.16580487477859998, 0.6085271317829457, \"['income'] <= 28798.5\\nentropy = 0.811\\nsamples = 36\\nvalue = [9, 27]\\nclass = LEAVE\"),\n",
              " Text(0.1645217415275927, 0.6007751937984496, 'entropy = 0.0\\nsamples = 5\\nvalue = [0, 5]\\nclass = LEAVE'),\n",
              " Text(0.1670880080296073, 0.6007751937984496, \"['income'] <= 28821.0\\nentropy = 0.869\\nsamples = 31\\nvalue = [9, 22]\\nclass = LEAVE\"),\n",
              " Text(0.16580487477859998, 0.5930232558139535, 'entropy = 0.0\\nsamples = 1\\nvalue = [1, 0]\\nclass = STAY'),\n",
              " Text(0.1683711412806146, 0.5930232558139535, \"['income'] <= 28931.0\\nentropy = 0.837\\nsamples = 30\\nvalue = [8, 22]\\nclass = LEAVE\"),\n",
              " Text(0.1670880080296073, 0.5852713178294574, 'entropy = 0.0\\nsamples = 6\\nvalue = [0, 6]\\nclass = LEAVE'),\n",
              " Text(0.1696542745316219, 0.5852713178294574, \"['income'] <= 29007.5\\nentropy = 0.918\\nsamples = 24\\nvalue = [8, 16]\\nclass = LEAVE\"),\n",
              " Text(0.1683711412806146, 0.5775193798449613, 'entropy = 0.0\\nsamples = 4\\nvalue = [4, 0]\\nclass = STAY'),\n",
              " Text(0.1709374077826292, 0.5775193798449613, \"['income'] <= 29055.0\\nentropy = 0.722\\nsamples = 20\\nvalue = [4, 16]\\nclass = LEAVE\"),\n",
              " Text(0.1696542745316219, 0.5697674418604651, 'entropy = 0.0\\nsamples = 4\\nvalue = [0, 4]\\nclass = LEAVE'),\n",
              " Text(0.17222054103363652, 0.5697674418604651, \"['income'] <= 29110.0\\nentropy = 0.811\\nsamples = 16\\nvalue = [4, 12]\\nclass = LEAVE\"),\n",
              " Text(0.1696542745316219, 0.562015503875969, \"['income'] <= 29084.5\\nentropy = 0.918\\nsamples = 3\\nvalue = [2, 1]\\nclass = STAY\"),\n",
              " Text(0.1683711412806146, 0.5542635658914729, 'entropy = 0.0\\nsamples = 1\\nvalue = [1, 0]\\nclass = STAY'),\n",
              " Text(0.1709374077826292, 0.5542635658914729, \"['income'] <= 29105.5\\nentropy = 1.0\\nsamples = 2\\nvalue = [1, 1]\\nclass = STAY\"),\n",
              " Text(0.1696542745316219, 0.5465116279069767, 'entropy = 0.0\\nsamples = 1\\nvalue = [0, 1]\\nclass = LEAVE'),\n",
              " Text(0.17222054103363652, 0.5465116279069767, 'entropy = 0.0\\nsamples = 1\\nvalue = [1, 0]\\nclass = STAY'),\n",
              " Text(0.17478680753565112, 0.562015503875969, \"['income'] <= 29234.0\\nentropy = 0.619\\nsamples = 13\\nvalue = [2, 11]\\nclass = LEAVE\"),\n",
              " Text(0.1735036742846438, 0.5542635658914729, 'entropy = 0.0\\nsamples = 5\\nvalue = [0, 5]\\nclass = LEAVE'),\n",
              " Text(0.1760699407866584, 0.5542635658914729, \"['income'] <= 29270.0\\nentropy = 0.811\\nsamples = 8\\nvalue = [2, 6]\\nclass = LEAVE\"),\n",
              " Text(0.17478680753565112, 0.5465116279069767, 'entropy = 0.0\\nsamples = 1\\nvalue = [1, 0]\\nclass = STAY'),\n",
              " Text(0.17735307403766573, 0.5465116279069767, \"['income'] <= 29329.0\\nentropy = 0.592\\nsamples = 7\\nvalue = [1, 6]\\nclass = LEAVE\"),\n",
              " Text(0.1760699407866584, 0.5387596899224806, 'entropy = 0.0\\nsamples = 3\\nvalue = [0, 3]\\nclass = LEAVE'),\n",
              " Text(0.17863620728867302, 0.5387596899224806, \"['income'] <= 29342.5\\nentropy = 0.811\\nsamples = 4\\nvalue = [1, 3]\\nclass = LEAVE\"),\n",
              " Text(0.17735307403766573, 0.5310077519379846, 'entropy = 0.0\\nsamples = 1\\nvalue = [1, 0]\\nclass = STAY'),\n",
              " Text(0.17991934053968034, 0.5310077519379846, 'entropy = 0.0\\nsamples = 3\\nvalue = [0, 3]\\nclass = LEAVE'),\n",
              " Text(0.17735307403766573, 0.6317829457364341, \"['income'] <= 29525.0\\nentropy = 1.0\\nsamples = 137\\nvalue = [69, 68]\\nclass = STAY\"),\n",
              " Text(0.1760699407866584, 0.624031007751938, 'entropy = 0.0\\nsamples = 4\\nvalue = [4, 0]\\nclass = STAY'),\n",
              " Text(0.17863620728867302, 0.624031007751938, \"['income'] <= 29596.5\\nentropy = 1.0\\nsamples = 133\\nvalue = [65, 68]\\nclass = LEAVE\"),\n",
              " Text(0.17735307403766573, 0.6162790697674418, 'entropy = 0.0\\nsamples = 3\\nvalue = [0, 3]\\nclass = LEAVE'),\n",
              " Text(0.17991934053968034, 0.6162790697674418, \"['income'] <= 29603.0\\nentropy = 1.0\\nsamples = 130\\nvalue = [65, 65]\\nclass = STAY\"),\n",
              " Text(0.17863620728867302, 0.6085271317829457, 'entropy = 0.0\\nsamples = 1\\nvalue = [1, 0]\\nclass = STAY'),\n",
              " Text(0.18120247379068763, 0.6085271317829457, \"['income'] <= 29616.0\\nentropy = 1.0\\nsamples = 129\\nvalue = [64, 65]\\nclass = LEAVE\"),\n",
              " Text(0.17991934053968034, 0.6007751937984496, 'entropy = 0.0\\nsamples = 2\\nvalue = [0, 2]\\nclass = LEAVE'),\n",
              " Text(0.18248560704169495, 0.6007751937984496, \"['income'] <= 29860.0\\nentropy = 1.0\\nsamples = 127\\nvalue = [64, 63]\\nclass = STAY\"),\n",
              " Text(0.17991934053968034, 0.5930232558139535, \"['income'] <= 29676.0\\nentropy = 0.845\\nsamples = 11\\nvalue = [8, 3]\\nclass = STAY\"),\n",
              " Text(0.17863620728867302, 0.5852713178294574, \"['income'] <= 29634.5\\nentropy = 0.971\\nsamples = 5\\nvalue = [2, 3]\\nclass = LEAVE\"),\n",
              " Text(0.17735307403766573, 0.5775193798449613, \"['income'] <= 29618.0\\nentropy = 0.918\\nsamples = 3\\nvalue = [2, 1]\\nclass = STAY\"),\n",
              " Text(0.1760699407866584, 0.5697674418604651, 'entropy = 0.0\\nsamples = 1\\nvalue = [1, 0]\\nclass = STAY'),\n",
              " Text(0.17863620728867302, 0.5697674418604651, \"['income'] <= 29626.5\\nentropy = 1.0\\nsamples = 2\\nvalue = [1, 1]\\nclass = STAY\"),\n",
              " Text(0.17735307403766573, 0.562015503875969, 'entropy = 0.0\\nsamples = 1\\nvalue = [0, 1]\\nclass = LEAVE'),\n",
              " Text(0.17991934053968034, 0.562015503875969, 'entropy = 0.0\\nsamples = 1\\nvalue = [1, 0]\\nclass = STAY'),\n",
              " Text(0.17991934053968034, 0.5775193798449613, 'entropy = 0.0\\nsamples = 2\\nvalue = [0, 2]\\nclass = LEAVE'),\n",
              " Text(0.18120247379068763, 0.5852713178294574, 'entropy = 0.0\\nsamples = 6\\nvalue = [6, 0]\\nclass = STAY'),\n",
              " Text(0.18505187354370956, 0.5930232558139535, \"['income'] <= 29927.5\\nentropy = 0.999\\nsamples = 116\\nvalue = [56, 60]\\nclass = LEAVE\"),\n",
              " Text(0.18376874029270224, 0.5852713178294574, 'entropy = 0.0\\nsamples = 3\\nvalue = [0, 3]\\nclass = LEAVE'),\n",
              " Text(0.18633500679471685, 0.5852713178294574, \"['income'] <= 29937.5\\nentropy = 1.0\\nsamples = 113\\nvalue = [56, 57]\\nclass = LEAVE\"),\n",
              " Text(0.18505187354370956, 0.5775193798449613, 'entropy = 0.0\\nsamples = 1\\nvalue = [1, 0]\\nclass = STAY'),\n",
              " Text(0.18761814004572416, 0.5775193798449613, \"['income'] <= 29993.0\\nentropy = 1.0\\nsamples = 112\\nvalue = [55, 57]\\nclass = LEAVE\"),\n",
              " Text(0.18633500679471685, 0.5697674418604651, 'entropy = 0.0\\nsamples = 2\\nvalue = [0, 2]\\nclass = LEAVE'),\n",
              " Text(0.18890127329673145, 0.5697674418604651, \"['income'] <= 30015.0\\nentropy = 1.0\\nsamples = 110\\nvalue = [55, 55]\\nclass = STAY\"),\n",
              " Text(0.18761814004572416, 0.562015503875969, 'entropy = 0.0\\nsamples = 3\\nvalue = [3, 0]\\nclass = STAY'),\n",
              " Text(0.19018440654773877, 0.562015503875969, \"['income'] <= 30061.0\\nentropy = 0.999\\nsamples = 107\\nvalue = [52, 55]\\nclass = LEAVE\"),\n",
              " Text(0.18890127329673145, 0.5542635658914729, 'entropy = 0.0\\nsamples = 3\\nvalue = [0, 3]\\nclass = LEAVE'),\n",
              " Text(0.19146753979874606, 0.5542635658914729, \"['income'] <= 30073.5\\nentropy = 1.0\\nsamples = 104\\nvalue = [52, 52]\\nclass = STAY\"),\n",
              " Text(0.19018440654773877, 0.5465116279069767, 'entropy = 0.0\\nsamples = 1\\nvalue = [1, 0]\\nclass = STAY'),\n",
              " Text(0.19275067304975338, 0.5465116279069767, \"['income'] <= 31803.5\\nentropy = 1.0\\nsamples = 103\\nvalue = [51, 52]\\nclass = LEAVE\"),\n",
              " Text(0.19146753979874606, 0.5387596899224806, \"['income'] <= 31602.0\\nentropy = 1.0\\nsamples = 102\\nvalue = [50, 52]\\nclass = LEAVE\"),\n",
              " Text(0.18874088164035555, 0.5310077519379846, \"['income'] <= 31490.0\\nentropy = 1.0\\nsamples = 94\\nvalue = [48, 46]\\nclass = STAY\"),\n",
              " Text(0.18745774838934823, 0.5232558139534884, \"['income'] <= 31297.5\\nentropy = 0.999\\nsamples = 88\\nvalue = [42, 46]\\nclass = LEAVE\"),\n",
              " Text(0.18328756532357451, 0.5155038759689923, \"['income'] <= 31250.0\\nentropy = 1.0\\nsamples = 78\\nvalue = [39, 39]\\nclass = STAY\"),\n",
              " Text(0.1820044320725672, 0.5077519379844961, \"['income'] <= 30083.0\\nentropy = 1.0\\nsamples = 76\\nvalue = [37, 39]\\nclass = LEAVE\"),\n",
              " Text(0.1807212988215599, 0.5, 'entropy = 0.0\\nsamples = 1\\nvalue = [0, 1]\\nclass = LEAVE'),\n",
              " Text(0.18328756532357451, 0.5, \"['income'] <= 30131.5\\nentropy = 1.0\\nsamples = 75\\nvalue = [37, 38]\\nclass = LEAVE\"),\n",
              " Text(0.1820044320725672, 0.49224806201550386, 'entropy = 0.0\\nsamples = 2\\nvalue = [2, 0]\\nclass = STAY'),\n",
              " Text(0.1845706985745818, 0.49224806201550386, \"['income'] <= 30436.0\\nentropy = 0.999\\nsamples = 73\\nvalue = [35, 38]\\nclass = LEAVE\"),\n",
              " Text(0.17879659894504893, 0.4844961240310077, \"['income'] <= 30401.5\\nentropy = 0.946\\nsamples = 22\\nvalue = [8, 14]\\nclass = LEAVE\"),\n",
              " Text(0.17751346569404164, 0.47674418604651164, \"['income'] <= 30366.0\\nentropy = 0.982\\nsamples = 19\\nvalue = [8, 11]\\nclass = LEAVE\"),\n",
              " Text(0.17623033244303432, 0.4689922480620155, \"['income'] <= 30248.5\\nentropy = 0.964\\nsamples = 18\\nvalue = [7, 11]\\nclass = LEAVE\"),\n",
              " Text(0.17238093269001242, 0.46124031007751937, \"['income'] <= 30136.5\\nentropy = 0.991\\nsamples = 9\\nvalue = [5, 4]\\nclass = STAY\"),\n",
              " Text(0.17109779943900513, 0.45348837209302323, 'entropy = 0.0\\nsamples = 1\\nvalue = [0, 1]\\nclass = LEAVE'),\n",
              " Text(0.17366406594101974, 0.45348837209302323, \"['income'] <= 30145.5\\nentropy = 0.954\\nsamples = 8\\nvalue = [5, 3]\\nclass = STAY\"),\n",
              " Text(0.17238093269001242, 0.44573643410852715, 'entropy = 0.0\\nsamples = 1\\nvalue = [1, 0]\\nclass = STAY'),\n",
              " Text(0.17494719919202703, 0.44573643410852715, \"['income'] <= 30160.5\\nentropy = 0.985\\nsamples = 7\\nvalue = [4, 3]\\nclass = STAY\"),\n",
              " Text(0.17366406594101974, 0.437984496124031, 'entropy = 0.0\\nsamples = 1\\nvalue = [0, 1]\\nclass = LEAVE'),\n",
              " Text(0.17623033244303432, 0.437984496124031, \"['income'] <= 30196.5\\nentropy = 0.918\\nsamples = 6\\nvalue = [4, 2]\\nclass = STAY\"),\n",
              " Text(0.17494719919202703, 0.43023255813953487, 'entropy = 0.0\\nsamples = 2\\nvalue = [2, 0]\\nclass = STAY'),\n",
              " Text(0.17751346569404164, 0.43023255813953487, \"['income'] <= 30205.0\\nentropy = 1.0\\nsamples = 4\\nvalue = [2, 2]\\nclass = STAY\"),\n",
              " Text(0.17623033244303432, 0.42248062015503873, 'entropy = 0.0\\nsamples = 1\\nvalue = [0, 1]\\nclass = LEAVE'),\n",
              " Text(0.17879659894504893, 0.42248062015503873, \"['income'] <= 30224.0\\nentropy = 0.918\\nsamples = 3\\nvalue = [2, 1]\\nclass = STAY\"),\n",
              " Text(0.17751346569404164, 0.41472868217054265, 'entropy = 0.0\\nsamples = 1\\nvalue = [1, 0]\\nclass = STAY'),\n",
              " Text(0.18007973219605625, 0.41472868217054265, \"['income'] <= 30242.0\\nentropy = 1.0\\nsamples = 2\\nvalue = [1, 1]\\nclass = STAY\"),\n",
              " Text(0.17879659894504893, 0.4069767441860465, 'entropy = 0.0\\nsamples = 1\\nvalue = [0, 1]\\nclass = LEAVE'),\n",
              " Text(0.18136286544706354, 0.4069767441860465, 'entropy = 0.0\\nsamples = 1\\nvalue = [1, 0]\\nclass = STAY'),\n",
              " Text(0.18007973219605625, 0.46124031007751937, \"['income'] <= 30306.5\\nentropy = 0.764\\nsamples = 9\\nvalue = [2, 7]\\nclass = LEAVE\"),\n",
              " Text(0.17879659894504893, 0.45348837209302323, 'entropy = 0.0\\nsamples = 5\\nvalue = [0, 5]\\nclass = LEAVE'),\n",
              " Text(0.18136286544706354, 0.45348837209302323, \"['income'] <= 30349.0\\nentropy = 1.0\\nsamples = 4\\nvalue = [2, 2]\\nclass = STAY\"),\n",
              " Text(0.18007973219605625, 0.44573643410852715, \"['income'] <= 30334.0\\nentropy = 0.918\\nsamples = 3\\nvalue = [2, 1]\\nclass = STAY\"),\n",
              " Text(0.17879659894504893, 0.437984496124031, 'entropy = 1.0\\nsamples = 2\\nvalue = [1, 1]\\nclass = STAY'),\n",
              " Text(0.18136286544706354, 0.437984496124031, 'entropy = 0.0\\nsamples = 1\\nvalue = [1, 0]\\nclass = STAY'),\n",
              " Text(0.18264599869807085, 0.44573643410852715, 'entropy = 0.0\\nsamples = 1\\nvalue = [0, 1]\\nclass = LEAVE'),\n",
              " Text(0.17879659894504893, 0.4689922480620155, 'entropy = 0.0\\nsamples = 1\\nvalue = [1, 0]\\nclass = STAY'),\n",
              " Text(0.18007973219605625, 0.47674418604651164, 'entropy = 0.0\\nsamples = 3\\nvalue = [0, 3]\\nclass = LEAVE'),\n",
              " Text(0.19034479820411468, 0.4844961240310077, \"['income'] <= 30567.5\\nentropy = 0.998\\nsamples = 51\\nvalue = [27, 24]\\nclass = STAY\"),\n",
              " Text(0.18906166495310736, 0.47674418604651164, 'entropy = 0.0\\nsamples = 3\\nvalue = [3, 0]\\nclass = STAY'),\n",
              " Text(0.19162793145512197, 0.47674418604651164, \"['income'] <= 31120.5\\nentropy = 1.0\\nsamples = 48\\nvalue = [24, 24]\\nclass = STAY\"),\n",
              " Text(0.18906166495310736, 0.4689922480620155, \"['income'] <= 31082.5\\nentropy = 0.996\\nsamples = 41\\nvalue = [22, 19]\\nclass = STAY\"),\n",
              " Text(0.18777853170210007, 0.46124031007751937, \"['income'] <= 31070.0\\nentropy = 1.0\\nsamples = 39\\nvalue = [20, 19]\\nclass = STAY\"),\n",
              " Text(0.18649539845109275, 0.45348837209302323, \"['income'] <= 30574.5\\nentropy = 0.995\\nsamples = 37\\nvalue = [20, 17]\\nclass = STAY\"),\n",
              " Text(0.18521226520008546, 0.44573643410852715, 'entropy = 0.0\\nsamples = 1\\nvalue = [0, 1]\\nclass = LEAVE'),\n",
              " Text(0.18777853170210007, 0.44573643410852715, \"['income'] <= 30601.0\\nentropy = 0.991\\nsamples = 36\\nvalue = [20, 16]\\nclass = STAY\"),\n",
              " Text(0.18649539845109275, 0.437984496124031, 'entropy = 0.0\\nsamples = 2\\nvalue = [2, 0]\\nclass = STAY'),\n",
              " Text(0.18906166495310736, 0.437984496124031, \"['income'] <= 30702.0\\nentropy = 0.998\\nsamples = 34\\nvalue = [18, 16]\\nclass = STAY\"),\n",
              " Text(0.18777853170210007, 0.43023255813953487, 'entropy = 0.0\\nsamples = 3\\nvalue = [0, 3]\\nclass = LEAVE'),\n",
              " Text(0.19034479820411468, 0.43023255813953487, \"['income'] <= 30756.5\\nentropy = 0.981\\nsamples = 31\\nvalue = [18, 13]\\nclass = STAY\"),\n",
              " Text(0.18906166495310736, 0.42248062015503873, 'entropy = 0.0\\nsamples = 4\\nvalue = [4, 0]\\nclass = STAY'),\n",
              " Text(0.19162793145512197, 0.42248062015503873, \"['income'] <= 30785.0\\nentropy = 0.999\\nsamples = 27\\nvalue = [14, 13]\\nclass = STAY\"),\n",
              " Text(0.19034479820411468, 0.41472868217054265, 'entropy = 0.0\\nsamples = 1\\nvalue = [0, 1]\\nclass = LEAVE'),\n",
              " Text(0.1929110647061293, 0.41472868217054265, \"['income'] <= 30794.0\\nentropy = 0.996\\nsamples = 26\\nvalue = [14, 12]\\nclass = STAY\"),\n",
              " Text(0.19162793145512197, 0.4069767441860465, 'entropy = 0.0\\nsamples = 1\\nvalue = [1, 0]\\nclass = STAY'),\n",
              " Text(0.19419419795713658, 0.4069767441860465, \"['income'] <= 30819.0\\nentropy = 0.999\\nsamples = 25\\nvalue = [13, 12]\\nclass = STAY\"),\n",
              " Text(0.1929110647061293, 0.3992248062015504, 'entropy = 0.0\\nsamples = 2\\nvalue = [0, 2]\\nclass = LEAVE'),\n",
              " Text(0.1954773312081439, 0.3992248062015504, \"['income'] <= 30862.0\\nentropy = 0.988\\nsamples = 23\\nvalue = [13, 10]\\nclass = STAY\"),\n",
              " Text(0.1929110647061293, 0.39147286821705424, \"['income'] <= 30838.0\\nentropy = 0.722\\nsamples = 5\\nvalue = [4, 1]\\nclass = STAY\"),\n",
              " Text(0.19162793145512197, 0.38372093023255816, \"['income'] <= 30832.5\\nentropy = 1.0\\nsamples = 2\\nvalue = [1, 1]\\nclass = STAY\"),\n",
              " Text(0.19034479820411468, 0.375968992248062, 'entropy = 0.0\\nsamples = 1\\nvalue = [1, 0]\\nclass = STAY'),\n",
              " Text(0.1929110647061293, 0.375968992248062, 'entropy = 0.0\\nsamples = 1\\nvalue = [0, 1]\\nclass = LEAVE'),\n",
              " Text(0.19419419795713658, 0.38372093023255816, 'entropy = 0.0\\nsamples = 3\\nvalue = [3, 0]\\nclass = STAY'),\n",
              " Text(0.1980435977101585, 0.39147286821705424, \"['income'] <= 30888.5\\nentropy = 1.0\\nsamples = 18\\nvalue = [9, 9]\\nclass = STAY\"),\n",
              " Text(0.19676046445915119, 0.38372093023255816, 'entropy = 0.0\\nsamples = 2\\nvalue = [0, 2]\\nclass = LEAVE'),\n",
              " Text(0.1993267309611658, 0.38372093023255816, \"['income'] <= 30954.5\\nentropy = 0.989\\nsamples = 16\\nvalue = [9, 7]\\nclass = STAY\"),\n",
              " Text(0.19676046445915119, 0.375968992248062, \"['income'] <= 30900.5\\nentropy = 0.722\\nsamples = 5\\nvalue = [4, 1]\\nclass = STAY\"),\n",
              " Text(0.1954773312081439, 0.3682170542635659, 'entropy = 1.0\\nsamples = 2\\nvalue = [1, 1]\\nclass = STAY'),\n",
              " Text(0.1980435977101585, 0.3682170542635659, 'entropy = 0.0\\nsamples = 3\\nvalue = [3, 0]\\nclass = STAY'),\n",
              " Text(0.2018929974631804, 0.375968992248062, \"['income'] <= 30968.0\\nentropy = 0.994\\nsamples = 11\\nvalue = [5, 6]\\nclass = LEAVE\"),\n",
              " Text(0.2006098642121731, 0.3682170542635659, 'entropy = 0.0\\nsamples = 2\\nvalue = [0, 2]\\nclass = LEAVE'),\n",
              " Text(0.20317613071418772, 0.3682170542635659, \"['income'] <= 30989.5\\nentropy = 0.991\\nsamples = 9\\nvalue = [5, 4]\\nclass = STAY\"),\n",
              " Text(0.2018929974631804, 0.36046511627906974, 'entropy = 0.0\\nsamples = 1\\nvalue = [1, 0]\\nclass = STAY'),\n",
              " Text(0.204459263965195, 0.36046511627906974, \"['income'] <= 31003.5\\nentropy = 1.0\\nsamples = 8\\nvalue = [4, 4]\\nclass = STAY\"),\n",
              " Text(0.20317613071418772, 0.35271317829457366, 'entropy = 0.0\\nsamples = 1\\nvalue = [0, 1]\\nclass = LEAVE'),\n",
              " Text(0.20574239721620233, 0.35271317829457366, \"['income'] <= 31012.5\\nentropy = 0.985\\nsamples = 7\\nvalue = [4, 3]\\nclass = STAY\"),\n",
              " Text(0.204459263965195, 0.3449612403100775, 'entropy = 0.0\\nsamples = 2\\nvalue = [2, 0]\\nclass = STAY'),\n",
              " Text(0.20702553046720962, 0.3449612403100775, \"['income'] <= 31042.5\\nentropy = 0.971\\nsamples = 5\\nvalue = [2, 3]\\nclass = LEAVE\"),\n",
              " Text(0.20574239721620233, 0.3372093023255814, 'entropy = 0.0\\nsamples = 2\\nvalue = [0, 2]\\nclass = LEAVE'),\n",
              " Text(0.2083086637182169, 0.3372093023255814, \"['income'] <= 31048.0\\nentropy = 0.918\\nsamples = 3\\nvalue = [2, 1]\\nclass = STAY\"),\n",
              " Text(0.20702553046720962, 0.32945736434108525, 'entropy = 0.0\\nsamples = 1\\nvalue = [1, 0]\\nclass = STAY'),\n",
              " Text(0.20959179696922423, 0.32945736434108525, \"['income'] <= 31055.0\\nentropy = 1.0\\nsamples = 2\\nvalue = [1, 1]\\nclass = STAY\"),\n",
              " Text(0.2083086637182169, 0.32170542635658916, 'entropy = 0.0\\nsamples = 1\\nvalue = [0, 1]\\nclass = LEAVE'),\n",
              " Text(0.21087493022023152, 0.32170542635658916, 'entropy = 0.0\\nsamples = 1\\nvalue = [1, 0]\\nclass = STAY'),\n",
              " Text(0.18906166495310736, 0.45348837209302323, 'entropy = 0.0\\nsamples = 2\\nvalue = [0, 2]\\nclass = LEAVE'),\n",
              " Text(0.19034479820411468, 0.46124031007751937, 'entropy = 0.0\\nsamples = 2\\nvalue = [2, 0]\\nclass = STAY'),\n",
              " Text(0.19419419795713658, 0.4689922480620155, \"['income'] <= 31148.0\\nentropy = 0.863\\nsamples = 7\\nvalue = [2, 5]\\nclass = LEAVE\"),\n",
              " Text(0.1929110647061293, 0.46124031007751937, 'entropy = 0.0\\nsamples = 2\\nvalue = [0, 2]\\nclass = LEAVE'),\n",
              " Text(0.1954773312081439, 0.46124031007751937, \"['income'] <= 31156.0\\nentropy = 0.971\\nsamples = 5\\nvalue = [2, 3]\\nclass = LEAVE\"),\n",
              " Text(0.19419419795713658, 0.45348837209302323, 'entropy = 0.0\\nsamples = 1\\nvalue = [1, 0]\\nclass = STAY'),\n",
              " Text(0.19676046445915119, 0.45348837209302323, \"['income'] <= 31188.0\\nentropy = 0.811\\nsamples = 4\\nvalue = [1, 3]\\nclass = LEAVE\"),\n",
              " Text(0.1954773312081439, 0.44573643410852715, 'entropy = 0.0\\nsamples = 2\\nvalue = [0, 2]\\nclass = LEAVE'),\n",
              " Text(0.1980435977101585, 0.44573643410852715, \"['income'] <= 31219.0\\nentropy = 1.0\\nsamples = 2\\nvalue = [1, 1]\\nclass = STAY\"),\n",
              " Text(0.19676046445915119, 0.437984496124031, 'entropy = 0.0\\nsamples = 1\\nvalue = [1, 0]\\nclass = STAY'),\n",
              " Text(0.1993267309611658, 0.437984496124031, 'entropy = 0.0\\nsamples = 1\\nvalue = [0, 1]\\nclass = LEAVE'),\n",
              " Text(0.1845706985745818, 0.5077519379844961, 'entropy = 0.0\\nsamples = 2\\nvalue = [2, 0]\\nclass = STAY'),\n",
              " Text(0.19162793145512197, 0.5155038759689923, \"['income'] <= 31364.5\\nentropy = 0.881\\nsamples = 10\\nvalue = [3, 7]\\nclass = LEAVE\"),\n",
              " Text(0.19034479820411468, 0.5077519379844961, 'entropy = 0.0\\nsamples = 3\\nvalue = [0, 3]\\nclass = LEAVE'),\n",
              " Text(0.1929110647061293, 0.5077519379844961, \"['income'] <= 31366.0\\nentropy = 0.985\\nsamples = 7\\nvalue = [3, 4]\\nclass = LEAVE\"),\n",
              " Text(0.19162793145512197, 0.5, 'entropy = 0.0\\nsamples = 1\\nvalue = [1, 0]\\nclass = STAY'),\n",
              " Text(0.19419419795713658, 0.5, \"['income'] <= 31368.5\\nentropy = 0.918\\nsamples = 6\\nvalue = [2, 4]\\nclass = LEAVE\"),\n",
              " Text(0.1929110647061293, 0.49224806201550386, 'entropy = 0.0\\nsamples = 1\\nvalue = [0, 1]\\nclass = LEAVE'),\n",
              " Text(0.1954773312081439, 0.49224806201550386, \"['income'] <= 31370.5\\nentropy = 0.971\\nsamples = 5\\nvalue = [2, 3]\\nclass = LEAVE\"),\n",
              " Text(0.19419419795713658, 0.4844961240310077, 'entropy = 0.0\\nsamples = 1\\nvalue = [1, 0]\\nclass = STAY'),\n",
              " Text(0.19676046445915119, 0.4844961240310077, \"['income'] <= 31384.0\\nentropy = 0.811\\nsamples = 4\\nvalue = [1, 3]\\nclass = LEAVE\"),\n",
              " Text(0.1954773312081439, 0.47674418604651164, 'entropy = 0.0\\nsamples = 2\\nvalue = [0, 2]\\nclass = LEAVE'),\n",
              " Text(0.1980435977101585, 0.47674418604651164, \"['income'] <= 31421.5\\nentropy = 1.0\\nsamples = 2\\nvalue = [1, 1]\\nclass = STAY\"),\n",
              " Text(0.19676046445915119, 0.4689922480620155, 'entropy = 0.0\\nsamples = 1\\nvalue = [1, 0]\\nclass = STAY'),\n",
              " Text(0.1993267309611658, 0.4689922480620155, 'entropy = 0.0\\nsamples = 1\\nvalue = [0, 1]\\nclass = LEAVE'),\n",
              " Text(0.19002401489136284, 0.5232558139534884, 'entropy = 0.0\\nsamples = 6\\nvalue = [6, 0]\\nclass = STAY'),\n",
              " Text(0.19419419795713658, 0.5310077519379846, \"['income'] <= 31656.0\\nentropy = 0.811\\nsamples = 8\\nvalue = [2, 6]\\nclass = LEAVE\"),\n",
              " Text(0.1929110647061293, 0.5232558139534884, 'entropy = 0.0\\nsamples = 4\\nvalue = [0, 4]\\nclass = LEAVE'),\n",
              " Text(0.1954773312081439, 0.5232558139534884, \"['income'] <= 31662.0\\nentropy = 1.0\\nsamples = 4\\nvalue = [2, 2]\\nclass = STAY\"),\n",
              " Text(0.19419419795713658, 0.5155038759689923, 'entropy = 0.0\\nsamples = 1\\nvalue = [1, 0]\\nclass = STAY'),\n",
              " Text(0.19676046445915119, 0.5155038759689923, \"['income'] <= 31720.5\\nentropy = 0.918\\nsamples = 3\\nvalue = [1, 2]\\nclass = LEAVE\"),\n",
              " Text(0.1954773312081439, 0.5077519379844961, 'entropy = 0.0\\nsamples = 1\\nvalue = [0, 1]\\nclass = LEAVE'),\n",
              " Text(0.1980435977101585, 0.5077519379844961, \"['income'] <= 31776.0\\nentropy = 1.0\\nsamples = 2\\nvalue = [1, 1]\\nclass = STAY\"),\n",
              " Text(0.19676046445915119, 0.5, 'entropy = 0.0\\nsamples = 1\\nvalue = [1, 0]\\nclass = STAY'),\n",
              " Text(0.1993267309611658, 0.5, 'entropy = 0.0\\nsamples = 1\\nvalue = [0, 1]\\nclass = LEAVE'),\n",
              " Text(0.19403380630076067, 0.5387596899224806, 'entropy = 0.0\\nsamples = 1\\nvalue = [1, 0]\\nclass = STAY'),\n",
              " Text(0.16039666861517468, 0.6395348837209303, 'entropy = 0.0\\nsamples = 4\\nvalue = [0, 4]\\nclass = LEAVE'),\n",
              " Text(0.16167980186618197, 0.6472868217054264, 'entropy = 0.0\\nsamples = 3\\nvalue = [3, 0]\\nclass = STAY'),\n",
              " Text(0.17863620728867302, 0.6550387596899225, \"['income'] <= 31996.5\\nentropy = 0.65\\nsamples = 12\\nvalue = [2, 10]\\nclass = LEAVE\"),\n",
              " Text(0.17735307403766573, 0.6472868217054264, 'entropy = 0.0\\nsamples = 3\\nvalue = [0, 3]\\nclass = LEAVE'),\n",
              " Text(0.17991934053968034, 0.6472868217054264, \"['income'] <= 32008.0\\nentropy = 0.764\\nsamples = 9\\nvalue = [2, 7]\\nclass = LEAVE\"),\n",
              " Text(0.17863620728867302, 0.6395348837209303, 'entropy = 0.0\\nsamples = 1\\nvalue = [1, 0]\\nclass = STAY'),\n",
              " Text(0.18120247379068763, 0.6395348837209303, \"['income'] <= 32062.5\\nentropy = 0.544\\nsamples = 8\\nvalue = [1, 7]\\nclass = LEAVE\"),\n",
              " Text(0.17991934053968034, 0.6317829457364341, 'entropy = 0.0\\nsamples = 4\\nvalue = [0, 4]\\nclass = LEAVE'),\n",
              " Text(0.18248560704169495, 0.6317829457364341, \"['income'] <= 32070.5\\nentropy = 0.811\\nsamples = 4\\nvalue = [1, 3]\\nclass = LEAVE\"),\n",
              " Text(0.18120247379068763, 0.624031007751938, 'entropy = 0.0\\nsamples = 1\\nvalue = [1, 0]\\nclass = STAY'),\n",
              " Text(0.18376874029270224, 0.624031007751938, 'entropy = 0.0\\nsamples = 3\\nvalue = [0, 3]\\nclass = LEAVE'),\n",
              " Text(0.18248560704169495, 0.6627906976744186, \"['income'] <= 32263.5\\nentropy = 0.592\\nsamples = 7\\nvalue = [6, 1]\\nclass = STAY\"),\n",
              " Text(0.18120247379068763, 0.6550387596899225, 'entropy = 0.0\\nsamples = 3\\nvalue = [3, 0]\\nclass = STAY'),\n",
              " Text(0.18376874029270224, 0.6550387596899225, \"['income'] <= 32282.5\\nentropy = 0.811\\nsamples = 4\\nvalue = [3, 1]\\nclass = STAY\"),\n",
              " Text(0.18248560704169495, 0.6472868217054264, 'entropy = 0.0\\nsamples = 1\\nvalue = [0, 1]\\nclass = LEAVE'),\n",
              " Text(0.18505187354370956, 0.6472868217054264, 'entropy = 0.0\\nsamples = 3\\nvalue = [3, 0]\\nclass = STAY'),\n",
              " Text(0.20766709709271328, 0.6705426356589147, \"['income'] <= 32548.5\\nentropy = 0.806\\nsamples = 73\\nvalue = [18, 55]\\nclass = LEAVE\"),\n",
              " Text(0.20510083059069867, 0.6627906976744186, \"['income'] <= 32367.5\\nentropy = 0.323\\nsamples = 17\\nvalue = [1, 16]\\nclass = LEAVE\"),\n",
              " Text(0.20381769733969135, 0.6550387596899225, \"['income'] <= 32342.5\\nentropy = 0.918\\nsamples = 3\\nvalue = [1, 2]\\nclass = LEAVE\"),\n",
              " Text(0.20253456408868406, 0.6472868217054264, 'entropy = 0.0\\nsamples = 2\\nvalue = [0, 2]\\nclass = LEAVE'),\n",
              " Text(0.20510083059069867, 0.6472868217054264, 'entropy = 0.0\\nsamples = 1\\nvalue = [1, 0]\\nclass = STAY'),\n",
              " Text(0.20638396384170596, 0.6550387596899225, 'entropy = 0.0\\nsamples = 14\\nvalue = [0, 14]\\nclass = LEAVE'),\n",
              " Text(0.21023336359472788, 0.6627906976744186, \"['income'] <= 33551.0\\nentropy = 0.886\\nsamples = 56\\nvalue = [17, 39]\\nclass = LEAVE\"),\n",
              " Text(0.20895023034372057, 0.6550387596899225, \"['income'] <= 32564.0\\nentropy = 0.931\\nsamples = 49\\nvalue = [17, 32]\\nclass = LEAVE\"),\n",
              " Text(0.20766709709271328, 0.6472868217054264, 'entropy = 0.0\\nsamples = 1\\nvalue = [1, 0]\\nclass = STAY'),\n",
              " Text(0.21023336359472788, 0.6472868217054264, \"['income'] <= 33543.5\\nentropy = 0.918\\nsamples = 48\\nvalue = [16, 32]\\nclass = LEAVE\"),\n",
              " Text(0.20895023034372057, 0.6395348837209303, \"['income'] <= 33434.5\\nentropy = 0.903\\nsamples = 47\\nvalue = [15, 32]\\nclass = LEAVE\"),\n",
              " Text(0.20766709709271328, 0.6317829457364341, \"['income'] <= 33366.5\\nentropy = 0.926\\nsamples = 44\\nvalue = [15, 29]\\nclass = LEAVE\"),\n",
              " Text(0.20638396384170596, 0.624031007751938, \"['income'] <= 32998.5\\nentropy = 0.91\\nsamples = 43\\nvalue = [14, 29]\\nclass = LEAVE\"),\n",
              " Text(0.20317613071418772, 0.6162790697674418, \"['income'] <= 32992.5\\nentropy = 0.967\\nsamples = 28\\nvalue = [11, 17]\\nclass = LEAVE\"),\n",
              " Text(0.2018929974631804, 0.6085271317829457, \"['income'] <= 32908.0\\nentropy = 0.951\\nsamples = 27\\nvalue = [10, 17]\\nclass = LEAVE\"),\n",
              " Text(0.2006098642121731, 0.6007751937984496, \"['income'] <= 32873.0\\nentropy = 0.971\\nsamples = 25\\nvalue = [10, 15]\\nclass = LEAVE\"),\n",
              " Text(0.1993267309611658, 0.5930232558139535, \"['income'] <= 32851.0\\nentropy = 0.954\\nsamples = 24\\nvalue = [9, 15]\\nclass = LEAVE\"),\n",
              " Text(0.1980435977101585, 0.5852713178294574, \"['income'] <= 32838.0\\nentropy = 0.976\\nsamples = 22\\nvalue = [9, 13]\\nclass = LEAVE\"),\n",
              " Text(0.19676046445915119, 0.5775193798449613, \"['income'] <= 32567.0\\nentropy = 0.959\\nsamples = 21\\nvalue = [8, 13]\\nclass = LEAVE\"),\n",
              " Text(0.1954773312081439, 0.5697674418604651, 'entropy = 0.0\\nsamples = 1\\nvalue = [0, 1]\\nclass = LEAVE'),\n",
              " Text(0.1980435977101585, 0.5697674418604651, \"['income'] <= 32583.0\\nentropy = 0.971\\nsamples = 20\\nvalue = [8, 12]\\nclass = LEAVE\"),\n",
              " Text(0.19676046445915119, 0.562015503875969, 'entropy = 0.0\\nsamples = 1\\nvalue = [1, 0]\\nclass = STAY'),\n",
              " Text(0.1993267309611658, 0.562015503875969, \"['income'] <= 32672.0\\nentropy = 0.949\\nsamples = 19\\nvalue = [7, 12]\\nclass = LEAVE\"),\n",
              " Text(0.1980435977101585, 0.5542635658914729, 'entropy = 0.0\\nsamples = 2\\nvalue = [0, 2]\\nclass = LEAVE'),\n",
              " Text(0.2006098642121731, 0.5542635658914729, \"['income'] <= 32683.5\\nentropy = 0.977\\nsamples = 17\\nvalue = [7, 10]\\nclass = LEAVE\"),\n",
              " Text(0.1993267309611658, 0.5465116279069767, 'entropy = 0.0\\nsamples = 1\\nvalue = [1, 0]\\nclass = STAY'),\n",
              " Text(0.2018929974631804, 0.5465116279069767, \"['income'] <= 32690.0\\nentropy = 0.954\\nsamples = 16\\nvalue = [6, 10]\\nclass = LEAVE\"),\n",
              " Text(0.2006098642121731, 0.5387596899224806, 'entropy = 0.0\\nsamples = 2\\nvalue = [0, 2]\\nclass = LEAVE'),\n",
              " Text(0.20317613071418772, 0.5387596899224806, \"['income'] <= 32701.0\\nentropy = 0.985\\nsamples = 14\\nvalue = [6, 8]\\nclass = LEAVE\"),\n",
              " Text(0.2018929974631804, 0.5310077519379846, 'entropy = 0.0\\nsamples = 2\\nvalue = [2, 0]\\nclass = STAY'),\n",
              " Text(0.204459263965195, 0.5310077519379846, \"['income'] <= 32722.5\\nentropy = 0.918\\nsamples = 12\\nvalue = [4, 8]\\nclass = LEAVE\"),\n",
              " Text(0.20317613071418772, 0.5232558139534884, 'entropy = 0.0\\nsamples = 2\\nvalue = [0, 2]\\nclass = LEAVE'),\n",
              " Text(0.20574239721620233, 0.5232558139534884, \"['income'] <= 32731.0\\nentropy = 0.971\\nsamples = 10\\nvalue = [4, 6]\\nclass = LEAVE\"),\n",
              " Text(0.204459263965195, 0.5155038759689923, 'entropy = 0.0\\nsamples = 1\\nvalue = [1, 0]\\nclass = STAY'),\n",
              " Text(0.20702553046720962, 0.5155038759689923, \"['income'] <= 32827.5\\nentropy = 0.918\\nsamples = 9\\nvalue = [3, 6]\\nclass = LEAVE\"),\n",
              " Text(0.20574239721620233, 0.5077519379844961, \"['income'] <= 32811.5\\nentropy = 0.954\\nsamples = 8\\nvalue = [3, 5]\\nclass = LEAVE\"),\n",
              " Text(0.204459263965195, 0.5, \"['income'] <= 32791.0\\nentropy = 0.863\\nsamples = 7\\nvalue = [2, 5]\\nclass = LEAVE\"),\n",
              " Text(0.20317613071418772, 0.49224806201550386, \"['income'] <= 32786.5\\nentropy = 0.971\\nsamples = 5\\nvalue = [2, 3]\\nclass = LEAVE\"),\n",
              " Text(0.2018929974631804, 0.4844961240310077, \"['income'] <= 32747.5\\nentropy = 0.811\\nsamples = 4\\nvalue = [1, 3]\\nclass = LEAVE\"),\n",
              " Text(0.2006098642121731, 0.47674418604651164, 'entropy = 1.0\\nsamples = 2\\nvalue = [1, 1]\\nclass = STAY'),\n",
              " Text(0.20317613071418772, 0.47674418604651164, 'entropy = 0.0\\nsamples = 2\\nvalue = [0, 2]\\nclass = LEAVE'),\n",
              " Text(0.204459263965195, 0.4844961240310077, 'entropy = 0.0\\nsamples = 1\\nvalue = [1, 0]\\nclass = STAY'),\n",
              " Text(0.20574239721620233, 0.49224806201550386, 'entropy = 0.0\\nsamples = 2\\nvalue = [0, 2]\\nclass = LEAVE'),\n",
              " Text(0.20702553046720962, 0.5, 'entropy = 0.0\\nsamples = 1\\nvalue = [1, 0]\\nclass = STAY'),\n",
              " Text(0.2083086637182169, 0.5077519379844961, 'entropy = 0.0\\nsamples = 1\\nvalue = [0, 1]\\nclass = LEAVE'),\n",
              " Text(0.1993267309611658, 0.5775193798449613, 'entropy = 0.0\\nsamples = 1\\nvalue = [1, 0]\\nclass = STAY'),\n",
              " Text(0.2006098642121731, 0.5852713178294574, 'entropy = 0.0\\nsamples = 2\\nvalue = [0, 2]\\nclass = LEAVE'),\n",
              " Text(0.2018929974631804, 0.5930232558139535, 'entropy = 0.0\\nsamples = 1\\nvalue = [1, 0]\\nclass = STAY'),\n",
              " Text(0.20317613071418772, 0.6007751937984496, 'entropy = 0.0\\nsamples = 2\\nvalue = [0, 2]\\nclass = LEAVE'),\n",
              " Text(0.204459263965195, 0.6085271317829457, 'entropy = 0.0\\nsamples = 1\\nvalue = [1, 0]\\nclass = STAY'),\n",
              " Text(0.20959179696922423, 0.6162790697674418, \"['income'] <= 33277.0\\nentropy = 0.722\\nsamples = 15\\nvalue = [3, 12]\\nclass = LEAVE\"),\n",
              " Text(0.20702553046720962, 0.6085271317829457, \"['income'] <= 33199.5\\nentropy = 0.439\\nsamples = 11\\nvalue = [1, 10]\\nclass = LEAVE\"),\n",
              " Text(0.20574239721620233, 0.6007751937984496, \"['income'] <= 33170.0\\nentropy = 0.722\\nsamples = 5\\nvalue = [1, 4]\\nclass = LEAVE\"),\n",
              " Text(0.204459263965195, 0.5930232558139535, 'entropy = 0.0\\nsamples = 4\\nvalue = [0, 4]\\nclass = LEAVE'),\n",
              " Text(0.20702553046720962, 0.5930232558139535, 'entropy = 0.0\\nsamples = 1\\nvalue = [1, 0]\\nclass = STAY'),\n",
              " Text(0.2083086637182169, 0.6007751937984496, 'entropy = 0.0\\nsamples = 6\\nvalue = [0, 6]\\nclass = LEAVE'),\n",
              " Text(0.21215806347123883, 0.6085271317829457, \"['income'] <= 33312.5\\nentropy = 1.0\\nsamples = 4\\nvalue = [2, 2]\\nclass = STAY\"),\n",
              " Text(0.21087493022023152, 0.6007751937984496, 'entropy = 0.0\\nsamples = 2\\nvalue = [2, 0]\\nclass = STAY'),\n",
              " Text(0.21344119672224612, 0.6007751937984496, 'entropy = 0.0\\nsamples = 2\\nvalue = [0, 2]\\nclass = LEAVE'),\n",
              " Text(0.20895023034372057, 0.624031007751938, 'entropy = 0.0\\nsamples = 1\\nvalue = [1, 0]\\nclass = STAY'),\n",
              " Text(0.21023336359472788, 0.6317829457364341, 'entropy = 0.0\\nsamples = 3\\nvalue = [0, 3]\\nclass = LEAVE'),\n",
              " Text(0.21151649684573517, 0.6395348837209303, 'entropy = 0.0\\nsamples = 1\\nvalue = [1, 0]\\nclass = STAY'),\n",
              " Text(0.21151649684573517, 0.6550387596899225, 'entropy = 0.0\\nsamples = 7\\nvalue = [0, 7]\\nclass = LEAVE'),\n",
              " Text(0.4632294051396128, 0.6782945736434108, \"['income'] <= 33738.0\\nentropy = 0.994\\nsamples = 1857\\nvalue = [847, 1010]\\nclass = LEAVE\"),\n",
              " Text(0.4619462718886055, 0.6705426356589147, 'entropy = 0.0\\nsamples = 3\\nvalue = [3, 0]\\nclass = STAY'),\n",
              " Text(0.4645125383906201, 0.6705426356589147, \"['income'] <= 46761.0\\nentropy = 0.994\\nsamples = 1854\\nvalue = [844, 1010]\\nclass = LEAVE\"),\n",
              " Text(0.3775995019557131, 0.6627906976744186, \"['income'] <= 46427.5\\nentropy = 0.999\\nsamples = 722\\nvalue = [347, 375]\\nclass = LEAVE\"),\n",
              " Text(0.36404385192466854, 0.6550387596899225, \"['income'] <= 33801.0\\nentropy = 0.998\\nsamples = 705\\nvalue = [333, 372]\\nclass = LEAVE\"),\n",
              " Text(0.3627607186736612, 0.6472868217054264, 'entropy = 0.0\\nsamples = 2\\nvalue = [0, 2]\\nclass = LEAVE'),\n",
              " Text(0.36532698517567586, 0.6472868217054264, \"['income'] <= 44610.0\\nentropy = 0.998\\nsamples = 703\\nvalue = [333, 370]\\nclass = LEAVE\"),\n",
              " Text(0.35104701762365975, 0.6395348837209303, \"['income'] <= 44467.0\\nentropy = 0.999\\nsamples = 608\\nvalue = [294, 314]\\nclass = LEAVE\"),\n",
              " Text(0.33531841502970067, 0.6317829457364341, \"['income'] <= 43934.5\\nentropy = 0.998\\nsamples = 598\\nvalue = [285, 313]\\nclass = LEAVE\"),\n",
              " Text(0.3077106095948043, 0.624031007751938, \"['income'] <= 42599.0\\nentropy = 0.999\\nsamples = 563\\nvalue = [272, 291]\\nclass = LEAVE\"),\n",
              " Text(0.2890642963787198, 0.6162790697674418, \"['income'] <= 42499.0\\nentropy = 0.997\\nsamples = 489\\nvalue = [229, 260]\\nclass = LEAVE\"),\n",
              " Text(0.28778116312771246, 0.6085271317829457, \"['income'] <= 42239.0\\nentropy = 0.998\\nsamples = 484\\nvalue = [229, 255]\\nclass = LEAVE\"),\n",
              " Text(0.27163016190159345, 0.6007751937984496, \"['income'] <= 42069.0\\nentropy = 0.999\\nsamples = 473\\nvalue = [226, 247]\\nclass = LEAVE\"),\n",
              " Text(0.2457438257043919, 0.5930232558139535, \"['income'] <= 42001.5\\nentropy = 0.998\\nsamples = 459\\nvalue = [216, 243]\\nclass = LEAVE\"),\n",
              " Text(0.24446069245338461, 0.5852713178294574, \"['income'] <= 41941.0\\nentropy = 0.998\\nsamples = 456\\nvalue = [216, 240]\\nclass = LEAVE\"),\n",
              " Text(0.2431775592023773, 0.5775193798449613, \"['income'] <= 41865.5\\nentropy = 0.997\\nsamples = 453\\nvalue = [213, 240]\\nclass = LEAVE\"),\n",
              " Text(0.24189442595137, 0.5697674418604651, \"['income'] <= 34434.0\\nentropy = 0.998\\nsamples = 449\\nvalue = [213, 236]\\nclass = LEAVE\"),\n",
              " Text(0.22242312947929727, 0.562015503875969, \"['income'] <= 34168.0\\nentropy = 0.984\\nsamples = 40\\nvalue = [23, 17]\\nclass = STAY\"),\n",
              " Text(0.21985686297728266, 0.5542635658914729, \"['income'] <= 34143.5\\nentropy = 0.999\\nsamples = 25\\nvalue = [12, 13]\\nclass = LEAVE\"),\n",
              " Text(0.21857372972627534, 0.5465116279069767, \"['income'] <= 34099.0\\nentropy = 0.985\\nsamples = 21\\nvalue = [12, 9]\\nclass = STAY\"),\n",
              " Text(0.21600746322426073, 0.5387596899224806, \"['income'] <= 34011.5\\nentropy = 0.997\\nsamples = 15\\nvalue = [7, 8]\\nclass = LEAVE\"),\n",
              " Text(0.21472432997325344, 0.5310077519379846, \"['income'] <= 33958.5\\nentropy = 0.98\\nsamples = 12\\nvalue = [7, 5]\\nclass = STAY\"),\n",
              " Text(0.21344119672224612, 0.5232558139534884, \"['income'] <= 33933.5\\nentropy = 1.0\\nsamples = 10\\nvalue = [5, 5]\\nclass = STAY\"),\n",
              " Text(0.21215806347123883, 0.5155038759689923, \"['income'] <= 33855.5\\nentropy = 0.954\\nsamples = 8\\nvalue = [5, 3]\\nclass = STAY\"),\n",
              " Text(0.21087493022023152, 0.5077519379844961, \"['income'] <= 33824.5\\nentropy = 0.971\\nsamples = 5\\nvalue = [2, 3]\\nclass = LEAVE\"),\n",
              " Text(0.20959179696922423, 0.5, \"['income'] <= 33803.0\\nentropy = 0.918\\nsamples = 3\\nvalue = [2, 1]\\nclass = STAY\"),\n",
              " Text(0.2083086637182169, 0.49224806201550386, 'entropy = 0.0\\nsamples = 1\\nvalue = [1, 0]\\nclass = STAY'),\n",
              " Text(0.21087493022023152, 0.49224806201550386, 'entropy = 1.0\\nsamples = 2\\nvalue = [1, 1]\\nclass = STAY'),\n",
              " Text(0.21215806347123883, 0.5, 'entropy = 0.0\\nsamples = 2\\nvalue = [0, 2]\\nclass = LEAVE'),\n",
              " Text(0.21344119672224612, 0.5077519379844961, 'entropy = 0.0\\nsamples = 3\\nvalue = [3, 0]\\nclass = STAY'),\n",
              " Text(0.21472432997325344, 0.5155038759689923, 'entropy = 0.0\\nsamples = 2\\nvalue = [0, 2]\\nclass = LEAVE'),\n",
              " Text(0.21600746322426073, 0.5232558139534884, 'entropy = 0.0\\nsamples = 2\\nvalue = [2, 0]\\nclass = STAY'),\n",
              " Text(0.21729059647526805, 0.5310077519379846, 'entropy = 0.0\\nsamples = 3\\nvalue = [0, 3]\\nclass = LEAVE'),\n",
              " Text(0.22113999622828995, 0.5387596899224806, \"['income'] <= 34125.5\\nentropy = 0.65\\nsamples = 6\\nvalue = [5, 1]\\nclass = STAY\"),\n",
              " Text(0.21985686297728266, 0.5310077519379846, 'entropy = 0.0\\nsamples = 3\\nvalue = [3, 0]\\nclass = STAY'),\n",
              " Text(0.22242312947929727, 0.5310077519379846, \"['income'] <= 34127.5\\nentropy = 0.918\\nsamples = 3\\nvalue = [2, 1]\\nclass = STAY\"),\n",
              " Text(0.22113999622828995, 0.5232558139534884, 'entropy = 0.0\\nsamples = 1\\nvalue = [0, 1]\\nclass = LEAVE'),\n",
              " Text(0.22370626273030456, 0.5232558139534884, 'entropy = 0.0\\nsamples = 2\\nvalue = [2, 0]\\nclass = STAY'),\n",
              " Text(0.22113999622828995, 0.5465116279069767, 'entropy = 0.0\\nsamples = 4\\nvalue = [0, 4]\\nclass = LEAVE'),\n",
              " Text(0.22498939598131187, 0.5542635658914729, \"['income'] <= 34236.5\\nentropy = 0.837\\nsamples = 15\\nvalue = [11, 4]\\nclass = STAY\"),\n",
              " Text(0.22370626273030456, 0.5465116279069767, 'entropy = 0.0\\nsamples = 4\\nvalue = [4, 0]\\nclass = STAY'),\n",
              " Text(0.22627252923231916, 0.5465116279069767, \"['income'] <= 34277.5\\nentropy = 0.946\\nsamples = 11\\nvalue = [7, 4]\\nclass = STAY\"),\n",
              " Text(0.22498939598131187, 0.5387596899224806, 'entropy = 0.0\\nsamples = 1\\nvalue = [0, 1]\\nclass = LEAVE'),\n",
              " Text(0.22755566248332648, 0.5387596899224806, \"['income'] <= 34321.0\\nentropy = 0.881\\nsamples = 10\\nvalue = [7, 3]\\nclass = STAY\"),\n",
              " Text(0.22627252923231916, 0.5310077519379846, 'entropy = 0.0\\nsamples = 3\\nvalue = [3, 0]\\nclass = STAY'),\n",
              " Text(0.22883879573433377, 0.5310077519379846, \"['income'] <= 34335.5\\nentropy = 0.985\\nsamples = 7\\nvalue = [4, 3]\\nclass = STAY\"),\n",
              " Text(0.22755566248332648, 0.5232558139534884, 'entropy = 0.0\\nsamples = 2\\nvalue = [0, 2]\\nclass = LEAVE'),\n",
              " Text(0.2301219289853411, 0.5232558139534884, \"['income'] <= 34354.0\\nentropy = 0.722\\nsamples = 5\\nvalue = [4, 1]\\nclass = STAY\"),\n",
              " Text(0.22883879573433377, 0.5155038759689923, 'entropy = 0.0\\nsamples = 2\\nvalue = [2, 0]\\nclass = STAY'),\n",
              " Text(0.23140506223634838, 0.5155038759689923, \"['income'] <= 34373.0\\nentropy = 0.918\\nsamples = 3\\nvalue = [2, 1]\\nclass = STAY\"),\n",
              " Text(0.2301219289853411, 0.5077519379844961, 'entropy = 0.0\\nsamples = 1\\nvalue = [0, 1]\\nclass = LEAVE'),\n",
              " Text(0.2326881954873557, 0.5077519379844961, 'entropy = 0.0\\nsamples = 2\\nvalue = [2, 0]\\nclass = STAY'),\n",
              " Text(0.26136572242344275, 0.562015503875969, \"['income'] <= 34477.0\\nentropy = 0.996\\nsamples = 409\\nvalue = [190, 219]\\nclass = LEAVE\"),\n",
              " Text(0.26008258917243543, 0.5542635658914729, 'entropy = 0.0\\nsamples = 4\\nvalue = [0, 4]\\nclass = LEAVE'),\n",
              " Text(0.26264885567445007, 0.5542635658914729, \"['income'] <= 34519.5\\nentropy = 0.997\\nsamples = 405\\nvalue = [190, 215]\\nclass = LEAVE\"),\n",
              " Text(0.26136572242344275, 0.5465116279069767, 'entropy = 0.0\\nsamples = 3\\nvalue = [3, 0]\\nclass = STAY'),\n",
              " Text(0.26393198892545733, 0.5465116279069767, \"['income'] <= 35176.0\\nentropy = 0.996\\nsamples = 402\\nvalue = [187, 215]\\nclass = LEAVE\"),\n",
              " Text(0.2403869949933995, 0.5387596899224806, \"['income'] <= 35160.5\\nentropy = 0.888\\nsamples = 36\\nvalue = [11, 25]\\nclass = LEAVE\"),\n",
              " Text(0.2391038617423922, 0.5310077519379846, \"['income'] <= 35151.5\\nentropy = 0.908\\nsamples = 34\\nvalue = [11, 23]\\nclass = LEAVE\"),\n",
              " Text(0.23782072849138491, 0.5232558139534884, \"['income'] <= 35112.0\\nentropy = 0.885\\nsamples = 33\\nvalue = [10, 23]\\nclass = LEAVE\"),\n",
              " Text(0.2365375952403776, 0.5155038759689923, \"['income'] <= 35055.5\\nentropy = 0.907\\nsamples = 31\\nvalue = [10, 21]\\nclass = LEAVE\"),\n",
              " Text(0.2352544619893703, 0.5077519379844961, \"['income'] <= 34955.0\\nentropy = 0.881\\nsamples = 30\\nvalue = [9, 21]\\nclass = LEAVE\"),\n",
              " Text(0.233971328738363, 0.5, \"['income'] <= 34926.0\\nentropy = 0.918\\nsamples = 27\\nvalue = [9, 18]\\nclass = LEAVE\"),\n",
              " Text(0.2326881954873557, 0.49224806201550386, \"['income'] <= 34555.0\\nentropy = 0.89\\nsamples = 26\\nvalue = [8, 18]\\nclass = LEAVE\"),\n",
              " Text(0.2301219289853411, 0.4844961240310077, \"['income'] <= 34538.5\\nentropy = 1.0\\nsamples = 4\\nvalue = [2, 2]\\nclass = STAY\"),\n",
              " Text(0.22883879573433377, 0.47674418604651164, \"['income'] <= 34524.0\\nentropy = 0.918\\nsamples = 3\\nvalue = [1, 2]\\nclass = LEAVE\"),\n",
              " Text(0.22755566248332648, 0.4689922480620155, 'entropy = 1.0\\nsamples = 2\\nvalue = [1, 1]\\nclass = STAY'),\n",
              " Text(0.2301219289853411, 0.4689922480620155, 'entropy = 0.0\\nsamples = 1\\nvalue = [0, 1]\\nclass = LEAVE'),\n",
              " Text(0.23140506223634838, 0.47674418604651164, 'entropy = 0.0\\nsamples = 1\\nvalue = [1, 0]\\nclass = STAY'),\n",
              " Text(0.2352544619893703, 0.4844961240310077, \"['income'] <= 34580.0\\nentropy = 0.845\\nsamples = 22\\nvalue = [6, 16]\\nclass = LEAVE\"),\n",
              " Text(0.233971328738363, 0.47674418604651164, 'entropy = 0.0\\nsamples = 3\\nvalue = [0, 3]\\nclass = LEAVE'),\n",
              " Text(0.2365375952403776, 0.47674418604651164, \"['income'] <= 34596.0\\nentropy = 0.9\\nsamples = 19\\nvalue = [6, 13]\\nclass = LEAVE\"),\n",
              " Text(0.2352544619893703, 0.4689922480620155, 'entropy = 0.0\\nsamples = 1\\nvalue = [1, 0]\\nclass = STAY'),\n",
              " Text(0.23782072849138491, 0.4689922480620155, \"['income'] <= 34642.5\\nentropy = 0.852\\nsamples = 18\\nvalue = [5, 13]\\nclass = LEAVE\"),\n",
              " Text(0.2365375952403776, 0.46124031007751937, 'entropy = 0.0\\nsamples = 2\\nvalue = [0, 2]\\nclass = LEAVE'),\n",
              " Text(0.2391038617423922, 0.46124031007751937, \"['income'] <= 34650.5\\nentropy = 0.896\\nsamples = 16\\nvalue = [5, 11]\\nclass = LEAVE\"),\n",
              " Text(0.23782072849138491, 0.45348837209302323, 'entropy = 0.0\\nsamples = 1\\nvalue = [1, 0]\\nclass = STAY'),\n",
              " Text(0.2403869949933995, 0.45348837209302323, \"['income'] <= 34875.5\\nentropy = 0.837\\nsamples = 15\\nvalue = [4, 11]\\nclass = LEAVE\"),\n",
              " Text(0.23782072849138491, 0.44573643410852715, \"['income'] <= 34788.5\\nentropy = 0.684\\nsamples = 11\\nvalue = [2, 9]\\nclass = LEAVE\"),\n",
              " Text(0.2365375952403776, 0.437984496124031, \"['income'] <= 34764.0\\nentropy = 0.863\\nsamples = 7\\nvalue = [2, 5]\\nclass = LEAVE\"),\n",
              " Text(0.2352544619893703, 0.43023255813953487, \"['income'] <= 34715.0\\nentropy = 0.65\\nsamples = 6\\nvalue = [1, 5]\\nclass = LEAVE\"),\n",
              " Text(0.233971328738363, 0.42248062015503873, \"['income'] <= 34695.5\\nentropy = 0.918\\nsamples = 3\\nvalue = [1, 2]\\nclass = LEAVE\"),\n",
              " Text(0.2326881954873557, 0.41472868217054265, 'entropy = 0.0\\nsamples = 2\\nvalue = [0, 2]\\nclass = LEAVE'),\n",
              " Text(0.2352544619893703, 0.41472868217054265, 'entropy = 0.0\\nsamples = 1\\nvalue = [1, 0]\\nclass = STAY'),\n",
              " Text(0.2365375952403776, 0.42248062015503873, 'entropy = 0.0\\nsamples = 3\\nvalue = [0, 3]\\nclass = LEAVE'),\n",
              " Text(0.23782072849138491, 0.43023255813953487, 'entropy = 0.0\\nsamples = 1\\nvalue = [1, 0]\\nclass = STAY'),\n",
              " Text(0.2391038617423922, 0.437984496124031, 'entropy = 0.0\\nsamples = 4\\nvalue = [0, 4]\\nclass = LEAVE'),\n",
              " Text(0.2429532614954141, 0.44573643410852715, \"['income'] <= 34902.5\\nentropy = 1.0\\nsamples = 4\\nvalue = [2, 2]\\nclass = STAY\"),\n",
              " Text(0.2416701282444068, 0.437984496124031, 'entropy = 0.0\\nsamples = 1\\nvalue = [1, 0]\\nclass = STAY'),\n",
              " Text(0.24423639474642142, 0.437984496124031, \"['income'] <= 34913.5\\nentropy = 0.918\\nsamples = 3\\nvalue = [1, 2]\\nclass = LEAVE\"),\n",
              " Text(0.2429532614954141, 0.43023255813953487, 'entropy = 0.0\\nsamples = 1\\nvalue = [0, 1]\\nclass = LEAVE'),\n",
              " Text(0.2455195279974287, 0.43023255813953487, \"['income'] <= 34920.5\\nentropy = 1.0\\nsamples = 2\\nvalue = [1, 1]\\nclass = STAY\"),\n",
              " Text(0.24423639474642142, 0.42248062015503873, 'entropy = 0.0\\nsamples = 1\\nvalue = [1, 0]\\nclass = STAY'),\n",
              " Text(0.24680266124843603, 0.42248062015503873, 'entropy = 0.0\\nsamples = 1\\nvalue = [0, 1]\\nclass = LEAVE'),\n",
              " Text(0.2352544619893703, 0.49224806201550386, 'entropy = 0.0\\nsamples = 1\\nvalue = [1, 0]\\nclass = STAY'),\n",
              " Text(0.2365375952403776, 0.5, 'entropy = 0.0\\nsamples = 3\\nvalue = [0, 3]\\nclass = LEAVE'),\n",
              " Text(0.23782072849138491, 0.5077519379844961, 'entropy = 0.0\\nsamples = 1\\nvalue = [1, 0]\\nclass = STAY'),\n",
              " Text(0.2391038617423922, 0.5155038759689923, 'entropy = 0.0\\nsamples = 2\\nvalue = [0, 2]\\nclass = LEAVE'),\n",
              " Text(0.2403869949933995, 0.5232558139534884, 'entropy = 0.0\\nsamples = 1\\nvalue = [1, 0]\\nclass = STAY'),\n",
              " Text(0.2416701282444068, 0.5310077519379846, 'entropy = 0.0\\nsamples = 2\\nvalue = [0, 2]\\nclass = LEAVE'),\n",
              " Text(0.2874769828575152, 0.5387596899224806, \"['income'] <= 36401.0\\nentropy = 0.999\\nsamples = 366\\nvalue = [176, 190]\\nclass = LEAVE\"),\n",
              " Text(0.2723049346122062, 0.5310077519379846, \"['income'] <= 36173.0\\nentropy = 0.983\\nsamples = 66\\nvalue = [38, 28]\\nclass = STAY\"),\n",
              " Text(0.2670120099518011, 0.5232558139534884, \"['income'] <= 36063.5\\nentropy = 0.998\\nsamples = 57\\nvalue = [30, 27]\\nclass = STAY\"),\n",
              " Text(0.2628418268860273, 0.5155038759689923, \"['income'] <= 35808.5\\nentropy = 0.986\\nsamples = 51\\nvalue = [29, 22]\\nclass = STAY\"),\n",
              " Text(0.25963399375850904, 0.5077519379844961, \"['income'] <= 35758.5\\nentropy = 0.998\\nsamples = 36\\nvalue = [17, 19]\\nclass = LEAVE\"),\n",
              " Text(0.2583508605075018, 0.5, \"['income'] <= 35699.5\\nentropy = 0.997\\nsamples = 32\\nvalue = [17, 15]\\nclass = STAY\"),\n",
              " Text(0.25706772725649446, 0.49224806201550386, \"['income'] <= 35639.5\\nentropy = 0.999\\nsamples = 29\\nvalue = [14, 15]\\nclass = LEAVE\"),\n",
              " Text(0.25578459400548714, 0.4844961240310077, \"['income'] <= 35612.5\\nentropy = 0.98\\nsamples = 24\\nvalue = [14, 10]\\nclass = STAY\"),\n",
              " Text(0.2545014607544798, 0.47674418604651164, \"['income'] <= 35337.0\\nentropy = 0.994\\nsamples = 22\\nvalue = [12, 10]\\nclass = STAY\"),\n",
              " Text(0.25193519425246524, 0.4689922480620155, \"['income'] <= 35300.5\\nentropy = 0.881\\nsamples = 10\\nvalue = [7, 3]\\nclass = STAY\"),\n",
              " Text(0.2506520610014579, 0.46124031007751937, \"['income'] <= 35262.0\\nentropy = 0.985\\nsamples = 7\\nvalue = [4, 3]\\nclass = STAY\"),\n",
              " Text(0.24936892775045064, 0.45348837209302323, \"['income'] <= 35233.0\\nentropy = 0.918\\nsamples = 6\\nvalue = [4, 2]\\nclass = STAY\"),\n",
              " Text(0.24808579449944332, 0.44573643410852715, \"['income'] <= 35186.0\\nentropy = 1.0\\nsamples = 4\\nvalue = [2, 2]\\nclass = STAY\"),\n",
              " Text(0.24680266124843603, 0.437984496124031, 'entropy = 0.0\\nsamples = 1\\nvalue = [1, 0]\\nclass = STAY'),\n",
              " Text(0.24936892775045064, 0.437984496124031, \"['income'] <= 35208.5\\nentropy = 0.918\\nsamples = 3\\nvalue = [1, 2]\\nclass = LEAVE\"),\n",
              " Text(0.24808579449944332, 0.43023255813953487, 'entropy = 1.0\\nsamples = 2\\nvalue = [1, 1]\\nclass = STAY'),\n",
              " Text(0.2506520610014579, 0.43023255813953487, 'entropy = 0.0\\nsamples = 1\\nvalue = [0, 1]\\nclass = LEAVE'),\n",
              " Text(0.2506520610014579, 0.44573643410852715, 'entropy = 0.0\\nsamples = 2\\nvalue = [2, 0]\\nclass = STAY'),\n",
              " Text(0.25193519425246524, 0.45348837209302323, 'entropy = 0.0\\nsamples = 1\\nvalue = [0, 1]\\nclass = LEAVE'),\n",
              " Text(0.25321832750347256, 0.46124031007751937, 'entropy = 0.0\\nsamples = 3\\nvalue = [3, 0]\\nclass = STAY'),\n",
              " Text(0.25706772725649446, 0.4689922480620155, \"['income'] <= 35365.5\\nentropy = 0.98\\nsamples = 12\\nvalue = [5, 7]\\nclass = LEAVE\"),\n",
              " Text(0.25578459400548714, 0.46124031007751937, 'entropy = 0.0\\nsamples = 2\\nvalue = [0, 2]\\nclass = LEAVE'),\n",
              " Text(0.2583508605075018, 0.46124031007751937, \"['income'] <= 35433.5\\nentropy = 1.0\\nsamples = 10\\nvalue = [5, 5]\\nclass = STAY\"),\n",
              " Text(0.25706772725649446, 0.45348837209302323, 'entropy = 0.0\\nsamples = 2\\nvalue = [2, 0]\\nclass = STAY'),\n",
              " Text(0.25963399375850904, 0.45348837209302323, \"['income'] <= 35465.0\\nentropy = 0.954\\nsamples = 8\\nvalue = [3, 5]\\nclass = LEAVE\"),\n",
              " Text(0.2583508605075018, 0.44573643410852715, 'entropy = 0.0\\nsamples = 2\\nvalue = [0, 2]\\nclass = LEAVE'),\n",
              " Text(0.26091712700951636, 0.44573643410852715, \"['income'] <= 35474.0\\nentropy = 1.0\\nsamples = 6\\nvalue = [3, 3]\\nclass = STAY\"),\n",
              " Text(0.25963399375850904, 0.437984496124031, 'entropy = 0.0\\nsamples = 1\\nvalue = [1, 0]\\nclass = STAY'),\n",
              " Text(0.2622002602605237, 0.437984496124031, \"['income'] <= 35492.5\\nentropy = 0.971\\nsamples = 5\\nvalue = [2, 3]\\nclass = LEAVE\"),\n",
              " Text(0.26091712700951636, 0.43023255813953487, 'entropy = 0.0\\nsamples = 1\\nvalue = [0, 1]\\nclass = LEAVE'),\n",
              " Text(0.263483393511531, 0.43023255813953487, \"['income'] <= 35532.0\\nentropy = 1.0\\nsamples = 4\\nvalue = [2, 2]\\nclass = STAY\"),\n",
              " Text(0.2622002602605237, 0.42248062015503873, 'entropy = 0.0\\nsamples = 1\\nvalue = [1, 0]\\nclass = STAY'),\n",
              " Text(0.26476652676253826, 0.42248062015503873, \"['income'] <= 35568.5\\nentropy = 0.918\\nsamples = 3\\nvalue = [1, 2]\\nclass = LEAVE\"),\n",
              " Text(0.263483393511531, 0.41472868217054265, 'entropy = 0.0\\nsamples = 1\\nvalue = [0, 1]\\nclass = LEAVE'),\n",
              " Text(0.2660496600135456, 0.41472868217054265, \"['income'] <= 35590.5\\nentropy = 1.0\\nsamples = 2\\nvalue = [1, 1]\\nclass = STAY\"),\n",
              " Text(0.26476652676253826, 0.4069767441860465, 'entropy = 0.0\\nsamples = 1\\nvalue = [1, 0]\\nclass = STAY'),\n",
              " Text(0.2673327932645529, 0.4069767441860465, 'entropy = 0.0\\nsamples = 1\\nvalue = [0, 1]\\nclass = LEAVE'),\n",
              " Text(0.25706772725649446, 0.47674418604651164, 'entropy = 0.0\\nsamples = 2\\nvalue = [2, 0]\\nclass = STAY'),\n",
              " Text(0.2583508605075018, 0.4844961240310077, 'entropy = 0.0\\nsamples = 5\\nvalue = [0, 5]\\nclass = LEAVE'),\n",
              " Text(0.25963399375850904, 0.49224806201550386, 'entropy = 0.0\\nsamples = 3\\nvalue = [3, 0]\\nclass = STAY'),\n",
              " Text(0.26091712700951636, 0.5, 'entropy = 0.0\\nsamples = 4\\nvalue = [0, 4]\\nclass = LEAVE'),\n",
              " Text(0.2660496600135456, 0.5077519379844961, \"['income'] <= 36033.5\\nentropy = 0.722\\nsamples = 15\\nvalue = [12, 3]\\nclass = STAY\"),\n",
              " Text(0.263483393511531, 0.5, \"['income'] <= 35950.5\\nentropy = 0.439\\nsamples = 11\\nvalue = [10, 1]\\nclass = STAY\"),\n",
              " Text(0.2622002602605237, 0.49224806201550386, \"['income'] <= 35934.0\\nentropy = 0.811\\nsamples = 4\\nvalue = [3, 1]\\nclass = STAY\"),\n",
              " Text(0.26091712700951636, 0.4844961240310077, 'entropy = 0.0\\nsamples = 3\\nvalue = [3, 0]\\nclass = STAY'),\n",
              " Text(0.263483393511531, 0.4844961240310077, 'entropy = 0.0\\nsamples = 1\\nvalue = [0, 1]\\nclass = LEAVE'),\n",
              " Text(0.26476652676253826, 0.49224806201550386, 'entropy = 0.0\\nsamples = 7\\nvalue = [7, 0]\\nclass = STAY'),\n",
              " Text(0.2686159265155602, 0.5, \"['income'] <= 36055.5\\nentropy = 1.0\\nsamples = 4\\nvalue = [2, 2]\\nclass = STAY\"),\n",
              " Text(0.2673327932645529, 0.49224806201550386, \"['income'] <= 36042.0\\nentropy = 0.918\\nsamples = 3\\nvalue = [1, 2]\\nclass = LEAVE\"),\n",
              " Text(0.2660496600135456, 0.4844961240310077, 'entropy = 1.0\\nsamples = 2\\nvalue = [1, 1]\\nclass = STAY'),\n",
              " Text(0.2686159265155602, 0.4844961240310077, 'entropy = 0.0\\nsamples = 1\\nvalue = [0, 1]\\nclass = LEAVE'),\n",
              " Text(0.2698990597665675, 0.49224806201550386, 'entropy = 0.0\\nsamples = 1\\nvalue = [1, 0]\\nclass = STAY'),\n",
              " Text(0.2711821930175748, 0.5155038759689923, \"['income'] <= 36108.0\\nentropy = 0.65\\nsamples = 6\\nvalue = [1, 5]\\nclass = LEAVE\"),\n",
              " Text(0.2698990597665675, 0.5077519379844961, 'entropy = 0.0\\nsamples = 2\\nvalue = [0, 2]\\nclass = LEAVE'),\n",
              " Text(0.2724653262685821, 0.5077519379844961, \"['income'] <= 36130.5\\nentropy = 0.811\\nsamples = 4\\nvalue = [1, 3]\\nclass = LEAVE\"),\n",
              " Text(0.2711821930175748, 0.5, 'entropy = 1.0\\nsamples = 2\\nvalue = [1, 1]\\nclass = STAY'),\n",
              " Text(0.27374845951958937, 0.5, 'entropy = 0.0\\nsamples = 2\\nvalue = [0, 2]\\nclass = LEAVE'),\n",
              " Text(0.2775978592726113, 0.5232558139534884, \"['income'] <= 36308.0\\nentropy = 0.503\\nsamples = 9\\nvalue = [8, 1]\\nclass = STAY\"),\n",
              " Text(0.276314726021604, 0.5155038759689923, \"['income'] <= 36278.0\\nentropy = 0.722\\nsamples = 5\\nvalue = [4, 1]\\nclass = STAY\"),\n",
              " Text(0.2750315927705967, 0.5077519379844961, 'entropy = 0.0\\nsamples = 3\\nvalue = [3, 0]\\nclass = STAY'),\n",
              " Text(0.2775978592726113, 0.5077519379844961, 'entropy = 1.0\\nsamples = 2\\nvalue = [1, 1]\\nclass = STAY'),\n",
              " Text(0.2788809925236186, 0.5155038759689923, 'entropy = 0.0\\nsamples = 4\\nvalue = [4, 0]\\nclass = STAY'),\n",
              " Text(0.3026490311028242, 0.5310077519379846, \"['income'] <= 36545.5\\nentropy = 0.995\\nsamples = 300\\nvalue = [138, 162]\\nclass = LEAVE\"),\n",
              " Text(0.3013658978518169, 0.5232558139534884, 'entropy = 0.0\\nsamples = 4\\nvalue = [0, 4]\\nclass = LEAVE'),\n",
              " Text(0.3039321643538315, 0.5232558139534884, \"['income'] <= 36587.0\\nentropy = 0.997\\nsamples = 296\\nvalue = [138, 158]\\nclass = LEAVE\"),\n",
              " Text(0.3026490311028242, 0.5155038759689923, 'entropy = 0.0\\nsamples = 2\\nvalue = [2, 0]\\nclass = STAY'),\n",
              " Text(0.30521529760483884, 0.5155038759689923, \"['income'] <= 36983.5\\nentropy = 0.996\\nsamples = 294\\nvalue = [136, 158]\\nclass = LEAVE\"),\n",
              " Text(0.29034899595449637, 0.5077519379844961, \"['income'] <= 36772.0\\nentropy = 0.871\\nsamples = 24\\nvalue = [7, 17]\\nclass = LEAVE\"),\n",
              " Text(0.2877827294524818, 0.5, \"['income'] <= 36705.5\\nentropy = 1.0\\nsamples = 10\\nvalue = [5, 5]\\nclass = STAY\"),\n",
              " Text(0.28649959620147447, 0.49224806201550386, \"['income'] <= 36636.0\\nentropy = 0.65\\nsamples = 6\\nvalue = [1, 5]\\nclass = LEAVE\"),\n",
              " Text(0.28521646295046715, 0.4844961240310077, \"['income'] <= 36613.0\\nentropy = 0.918\\nsamples = 3\\nvalue = [1, 2]\\nclass = LEAVE\"),\n",
              " Text(0.2839333296994599, 0.47674418604651164, 'entropy = 0.0\\nsamples = 2\\nvalue = [0, 2]\\nclass = LEAVE'),\n",
              " Text(0.28649959620147447, 0.47674418604651164, 'entropy = 0.0\\nsamples = 1\\nvalue = [1, 0]\\nclass = STAY'),\n",
              " Text(0.2877827294524818, 0.4844961240310077, 'entropy = 0.0\\nsamples = 3\\nvalue = [0, 3]\\nclass = LEAVE'),\n",
              " Text(0.2890658627034891, 0.49224806201550386, 'entropy = 0.0\\nsamples = 4\\nvalue = [4, 0]\\nclass = STAY'),\n",
              " Text(0.292915262456511, 0.5, \"['income'] <= 36801.0\\nentropy = 0.592\\nsamples = 14\\nvalue = [2, 12]\\nclass = LEAVE\"),\n",
              " Text(0.2916321292055037, 0.49224806201550386, 'entropy = 0.0\\nsamples = 3\\nvalue = [0, 3]\\nclass = LEAVE'),\n",
              " Text(0.2941983957075183, 0.49224806201550386, \"['income'] <= 36819.0\\nentropy = 0.684\\nsamples = 11\\nvalue = [2, 9]\\nclass = LEAVE\"),\n",
              " Text(0.292915262456511, 0.4844961240310077, 'entropy = 0.0\\nsamples = 1\\nvalue = [1, 0]\\nclass = STAY'),\n",
              " Text(0.2954815289585256, 0.4844961240310077, \"['income'] <= 36957.5\\nentropy = 0.469\\nsamples = 10\\nvalue = [1, 9]\\nclass = LEAVE\"),\n",
              " Text(0.2941983957075183, 0.47674418604651164, 'entropy = 0.0\\nsamples = 7\\nvalue = [0, 7]\\nclass = LEAVE'),\n",
              " Text(0.2967646622095329, 0.47674418604651164, \"['income'] <= 36965.5\\nentropy = 0.918\\nsamples = 3\\nvalue = [1, 2]\\nclass = LEAVE\"),\n",
              " Text(0.2954815289585256, 0.4689922480620155, 'entropy = 1.0\\nsamples = 2\\nvalue = [1, 1]\\nclass = STAY'),\n",
              " Text(0.2980477954605402, 0.4689922480620155, 'entropy = 0.0\\nsamples = 1\\nvalue = [0, 1]\\nclass = LEAVE'),\n",
              " Text(0.32008159925518126, 0.5077519379844961, \"['income'] <= 37076.5\\nentropy = 0.999\\nsamples = 270\\nvalue = [129, 141]\\nclass = LEAVE\"),\n",
              " Text(0.31879846600417394, 0.5, 'entropy = 0.0\\nsamples = 5\\nvalue = [5, 0]\\nclass = STAY'),\n",
              " Text(0.3213647325061885, 0.5, \"['income'] <= 41840.0\\nentropy = 0.997\\nsamples = 265\\nvalue = [124, 141]\\nclass = LEAVE\"),\n",
              " Text(0.32008159925518126, 0.49224806201550386, \"['income'] <= 39709.0\\nentropy = 0.997\\nsamples = 264\\nvalue = [123, 141]\\nclass = LEAVE\"),\n",
              " Text(0.3093153093209481, 0.4844961240310077, \"['income'] <= 39332.0\\nentropy = 1.0\\nsamples = 165\\nvalue = [82, 83]\\nclass = LEAVE\"),\n",
              " Text(0.3018971952135621, 0.47674418604651164, \"['income'] <= 39246.5\\nentropy = 0.995\\nsamples = 142\\nvalue = [65, 77]\\nclass = LEAVE\"),\n",
              " Text(0.3006140619625548, 0.4689922480620155, \"['income'] <= 38778.5\\nentropy = 0.996\\nsamples = 140\\nvalue = [65, 75]\\nclass = LEAVE\"),\n",
              " Text(0.2960428997558413, 0.46124031007751937, \"['income'] <= 38709.0\\nentropy = 0.987\\nsamples = 106\\nvalue = [46, 60]\\nclass = LEAVE\"),\n",
              " Text(0.294759766504834, 0.45348837209302323, \"['income'] <= 38657.0\\nentropy = 0.995\\nsamples = 100\\nvalue = [46, 54]\\nclass = LEAVE\"),\n",
              " Text(0.29347663325382667, 0.44573643410852715, \"['income'] <= 38488.0\\nentropy = 0.989\\nsamples = 96\\nvalue = [42, 54]\\nclass = LEAVE\"),\n",
              " Text(0.2921935000028194, 0.437984496124031, \"['income'] <= 38423.0\\nentropy = 0.998\\nsamples = 89\\nvalue = [42, 47]\\nclass = LEAVE\"),\n",
              " Text(0.2843343088403997, 0.43023255813953487, \"['income'] <= 38108.5\\nentropy = 1.0\\nsamples = 84\\nvalue = [41, 43]\\nclass = LEAVE\"),\n",
              " Text(0.2724653262685821, 0.42248062015503873, \"['income'] <= 38038.0\\nentropy = 0.99\\nsamples = 59\\nvalue = [26, 33]\\nclass = LEAVE\"),\n",
              " Text(0.2711821930175748, 0.41472868217054265, \"['income'] <= 38014.5\\nentropy = 0.998\\nsamples = 55\\nvalue = [26, 29]\\nclass = LEAVE\"),\n",
              " Text(0.2698990597665675, 0.4069767441860465, \"['income'] <= 37084.0\\nentropy = 0.996\\nsamples = 54\\nvalue = [25, 29]\\nclass = LEAVE\"),\n",
              " Text(0.2686159265155602, 0.3992248062015504, 'entropy = 0.0\\nsamples = 1\\nvalue = [0, 1]\\nclass = LEAVE'),\n",
              " Text(0.2711821930175748, 0.3992248062015504, \"['income'] <= 37091.5\\nentropy = 0.998\\nsamples = 53\\nvalue = [25, 28]\\nclass = LEAVE\"),\n",
              " Text(0.2698990597665675, 0.39147286821705424, 'entropy = 0.0\\nsamples = 1\\nvalue = [1, 0]\\nclass = STAY'),\n",
              " Text(0.2724653262685821, 0.39147286821705424, \"['income'] <= 37118.0\\nentropy = 0.996\\nsamples = 52\\nvalue = [24, 28]\\nclass = LEAVE\"),\n",
              " Text(0.2711821930175748, 0.38372093023255816, 'entropy = 0.0\\nsamples = 2\\nvalue = [0, 2]\\nclass = LEAVE'),\n",
              " Text(0.27374845951958937, 0.38372093023255816, \"['income'] <= 37199.0\\nentropy = 0.999\\nsamples = 50\\nvalue = [24, 26]\\nclass = LEAVE\"),\n",
              " Text(0.2711821930175748, 0.375968992248062, \"['income'] <= 37168.5\\nentropy = 0.918\\nsamples = 9\\nvalue = [6, 3]\\nclass = STAY\"),\n",
              " Text(0.2698990597665675, 0.3682170542635659, \"['income'] <= 37152.5\\nentropy = 0.985\\nsamples = 7\\nvalue = [4, 3]\\nclass = STAY\"),\n",
              " Text(0.2686159265155602, 0.36046511627906974, \"['income'] <= 37125.0\\nentropy = 0.918\\nsamples = 6\\nvalue = [4, 2]\\nclass = STAY\"),\n",
              " Text(0.2673327932645529, 0.35271317829457366, 'entropy = 0.0\\nsamples = 1\\nvalue = [1, 0]\\nclass = STAY'),\n",
              " Text(0.2698990597665675, 0.35271317829457366, \"['income'] <= 37131.5\\nentropy = 0.971\\nsamples = 5\\nvalue = [3, 2]\\nclass = STAY\"),\n",
              " Text(0.2686159265155602, 0.3449612403100775, 'entropy = 0.0\\nsamples = 1\\nvalue = [0, 1]\\nclass = LEAVE'),\n",
              " Text(0.2711821930175748, 0.3449612403100775, \"['income'] <= 37139.0\\nentropy = 0.811\\nsamples = 4\\nvalue = [3, 1]\\nclass = STAY\"),\n",
              " Text(0.2698990597665675, 0.3372093023255814, 'entropy = 0.0\\nsamples = 1\\nvalue = [1, 0]\\nclass = STAY'),\n",
              " Text(0.2724653262685821, 0.3372093023255814, \"['income'] <= 37147.0\\nentropy = 0.918\\nsamples = 3\\nvalue = [2, 1]\\nclass = STAY\"),\n",
              " ...]"
            ]
          },
          "metadata": {},
          "execution_count": 26
        },
        {
          "output_type": "display_data",
          "data": {
            "text/plain": [
              "<Figure size 640x480 with 1 Axes>"
            ],
            "image/png": "[encoded data removed]"
          },
          "metadata": {}
        }
      ]
    },
    {
      "cell_type": "markdown",
      "source": [
        "Whoa!\n",
        "\n",
        "What is the accuracy of this model?"
      ],
      "metadata": {
        "id": "0Wnnf3Wm6AyP"
      }
    },
    {
      "cell_type": "code",
      "source": [
        "# Your code goes here\n",
        "sum(pred == mtc_clean['leave'])/ len(pred)"
      ],
      "metadata": {
        "id": "3iTvS_l95__u",
        "colab": {
          "base_uri": "https://localhost:8080/"
        },
        "outputId": "edd7c341-1dd2-469c-ceb4-22fd8ea960ab"
      },
      "execution_count": 27,
      "outputs": [
        {
          "output_type": "execute_result",
          "data": {
            "text/plain": [
              "0.9881858229875851"
            ]
          },
          "metadata": {},
          "execution_count": 27
        }
      ]
    },
    {
      "cell_type": "markdown",
      "source": [
        "Killing it!"
      ],
      "metadata": {
        "id": "kKJ0uq8N61eP"
      }
    },
    {
      "cell_type": "markdown",
      "source": [
        "## Cross-validation\n",
        "\n",
        "Or:  maybe not.  Will you get promoted or ... fired?\n",
        "\n",
        "This model is excessively complicated.  It has figured out how to classify the target perfectly *in the training data*. It has essentially just memorize the training data.  However, when it encounters new data **it will suck**. That's because new data will have patterns that were not in the training data (this is the nature of sampling) and the overfit model will get badly confused.\n",
        "\n",
        "To demonstrate this we will use cross-validation.\n",
        "\n",
        "The simplest version of cross-validation uses a training set and a testing or validation set. (This is called the validation set method.) Simply, we divide the data that we have into two parts: 80% goes into the training set and 20% into the testing set. (80/20 is a common choice.) That division is done randomly using the `sample()` function.\n",
        "\n"
      ],
      "metadata": {
        "id": "7ynhMyZR7BuX"
      }
    },
    {
      "cell_type": "code",
      "source": [
        "# divide mtc_clean into train and test\n",
        "train = mtc_clean.sample(frac=0.8, random_state=200) # 80% of data for training\n",
        "test = mtc_clean.drop(train.index) # the remaining 20%\n"
      ],
      "metadata": {
        "id": "CxdV8oWo9OrP"
      },
      "execution_count": 28,
      "outputs": []
    },
    {
      "cell_type": "markdown",
      "source": [
        "`random_state` is a seed that ensures the same split when set to 200 (an arbitrary choice). This will make our results comparable."
      ],
      "metadata": {
        "id": "Nyj6Q2jF96wf"
      }
    },
    {
      "cell_type": "code",
      "source": [
        "train.head()"
      ],
      "metadata": {
        "id": "Jpk4epVa911m",
        "colab": {
          "base_uri": "https://localhost:8080/",
          "height": 226
        },
        "outputId": "f8b9d1e1-2d19-43a5-9ab8-0c97307aab95"
      },
      "execution_count": 29,
      "outputs": [
        {
          "output_type": "execute_result",
          "data": {
            "text/plain": [
              "     college  income  overage  leftover   house  handset_price  \\\n",
              "3773     yes   80751        0        54  298898            371   \n",
              "2835      no   75827        0        58  169117            264   \n",
              "432       no  114384       71         0  204766            814   \n",
              "3959      no   84795        0        14  914009            302   \n",
              "409       no   85012        0         0  485532            380   \n",
              "\n",
              "      over_15mins_calls_per_month  average_call_duration  \\\n",
              "3773                          1.0                      2   \n",
              "2835                          1.0                      2   \n",
              "432                           5.0                     14   \n",
              "3959                          1.0                      5   \n",
              "409                           0.0                      9   \n",
              "\n",
              "     reported_satisfaction reported_usage_level considering_change_of_plan  \\\n",
              "3773                  high                  low                         no   \n",
              "2835                  high                  low                         no   \n",
              "432                    low                  low                        yes   \n",
              "3959                  high                  low                         no   \n",
              "409                   high                  low                         no   \n",
              "\n",
              "      leave     id  \n",
              "3773   STAY  10317  \n",
              "2835   STAY   6724  \n",
              "432    STAY   4530  \n",
              "3959   STAY   7738  \n",
              "409   LEAVE   7788  "
            ],
            "text/html": [
              "\n",
              "  <div id=\"df-5ed1cba3-c04c-4861-b340-72fa9e7d3526\" class=\"colab-df-container\">\n",
              "    <div>\n",
              "<style scoped>\n",
              "    .dataframe tbody tr th:only-of-type {\n",
              "        vertical-align: middle;\n",
              "    }\n",
              "\n",
              "    .dataframe tbody tr th {\n",
              "        vertical-align: top;\n",
              "    }\n",
              "\n",
              "    .dataframe thead th {\n",
              "        text-align: right;\n",
              "    }\n",
              "</style>\n",
              "<table border=\"1\" class=\"dataframe\">\n",
              "  <thead>\n",
              "    <tr style=\"text-align: right;\">\n",
              "      <th></th>\n",
              "      <th>college</th>\n",
              "      <th>income</th>\n",
              "      <th>overage</th>\n",
              "      <th>leftover</th>\n",
              "      <th>house</th>\n",
              "      <th>handset_price</th>\n",
              "      <th>over_15mins_calls_per_month</th>\n",
              "      <th>average_call_duration</th>\n",
              "      <th>reported_satisfaction</th>\n",
              "      <th>reported_usage_level</th>\n",
              "      <th>considering_change_of_plan</th>\n",
              "      <th>leave</th>\n",
              "      <th>id</th>\n",
              "    </tr>\n",
              "  </thead>\n",
              "  <tbody>\n",
              "    <tr>\n",
              "      <th>3773</th>\n",
              "      <td>yes</td>\n",
              "      <td>80751</td>\n",
              "      <td>0</td>\n",
              "      <td>54</td>\n",
              "      <td>298898</td>\n",
              "      <td>371</td>\n",
              "      <td>1.0</td>\n",
              "      <td>2</td>\n",
              "      <td>high</td>\n",
              "      <td>low</td>\n",
              "      <td>no</td>\n",
              "      <td>STAY</td>\n",
              "      <td>10317</td>\n",
              "    </tr>\n",
              "    <tr>\n",
              "      <th>2835</th>\n",
              "      <td>no</td>\n",
              "      <td>75827</td>\n",
              "      <td>0</td>\n",
              "      <td>58</td>\n",
              "      <td>169117</td>\n",
              "      <td>264</td>\n",
              "      <td>1.0</td>\n",
              "      <td>2</td>\n",
              "      <td>high</td>\n",
              "      <td>low</td>\n",
              "      <td>no</td>\n",
              "      <td>STAY</td>\n",
              "      <td>6724</td>\n",
              "    </tr>\n",
              "    <tr>\n",
              "      <th>432</th>\n",
              "      <td>no</td>\n",
              "      <td>114384</td>\n",
              "      <td>71</td>\n",
              "      <td>0</td>\n",
              "      <td>204766</td>\n",
              "      <td>814</td>\n",
              "      <td>5.0</td>\n",
              "      <td>14</td>\n",
              "      <td>low</td>\n",
              "      <td>low</td>\n",
              "      <td>yes</td>\n",
              "      <td>STAY</td>\n",
              "      <td>4530</td>\n",
              "    </tr>\n",
              "    <tr>\n",
              "      <th>3959</th>\n",
              "      <td>no</td>\n",
              "      <td>84795</td>\n",
              "      <td>0</td>\n",
              "      <td>14</td>\n",
              "      <td>914009</td>\n",
              "      <td>302</td>\n",
              "      <td>1.0</td>\n",
              "      <td>5</td>\n",
              "      <td>high</td>\n",
              "      <td>low</td>\n",
              "      <td>no</td>\n",
              "      <td>STAY</td>\n",
              "      <td>7738</td>\n",
              "    </tr>\n",
              "    <tr>\n",
              "      <th>409</th>\n",
              "      <td>no</td>\n",
              "      <td>85012</td>\n",
              "      <td>0</td>\n",
              "      <td>0</td>\n",
              "      <td>485532</td>\n",
              "      <td>380</td>\n",
              "      <td>0.0</td>\n",
              "      <td>9</td>\n",
              "      <td>high</td>\n",
              "      <td>low</td>\n",
              "      <td>no</td>\n",
              "      <td>LEAVE</td>\n",
              "      <td>7788</td>\n",
              "    </tr>\n",
              "  </tbody>\n",
              "</table>\n",
              "</div>\n",
              "    <div class=\"colab-df-buttons\">\n",
              "\n",
              "  <div class=\"colab-df-container\">\n",
              "    <button class=\"colab-df-convert\" onclick=\"convertToInteractive('df-5ed1cba3-c04c-4861-b340-72fa9e7d3526')\"\n",
              "            title=\"Convert this dataframe to an interactive table.\"\n",
              "            style=\"display:none;\">\n",
              "\n",
              "  <svg xmlns=\"http://www.w3.org/2000/svg\" height=\"24px\" viewBox=\"0 -960 960 960\">\n",
              "    <path d=\"M120-120v-720h720v720H120Zm60-500h600v-160H180v160Zm220 220h160v-160H400v160Zm0 220h160v-160H400v160ZM180-400h160v-160H180v160Zm440 0h160v-160H620v160ZM180-180h160v-160H180v160Zm440 0h160v-160H620v160Z\"/>\n",
              "  </svg>\n",
              "    </button>\n",
              "\n",
              "  <style>\n",
              "    .colab-df-container {\n",
              "      display:flex;\n",
              "      gap: 12px;\n",
              "    }\n",
              "\n",
              "    .colab-df-convert {\n",
              "      background-color: #E8F0FE;\n",
              "      border: none;\n",
              "      border-radius: 50%;\n",
              "      cursor: pointer;\n",
              "      display: none;\n",
              "      fill: #1967D2;\n",
              "      height: 32px;\n",
              "      padding: 0 0 0 0;\n",
              "      width: 32px;\n",
              "    }\n",
              "\n",
              "    .colab-df-convert:hover {\n",
              "      background-color: #E2EBFA;\n",
              "      box-shadow: 0px 1px 2px rgba(60, 64, 67, 0.3), 0px 1px 3px 1px rgba(60, 64, 67, 0.15);\n",
              "      fill: #174EA6;\n",
              "    }\n",
              "\n",
              "    .colab-df-buttons div {\n",
              "      margin-bottom: 4px;\n",
              "    }\n",
              "\n",
              "    [theme=dark] .colab-df-convert {\n",
              "      background-color: #3B4455;\n",
              "      fill: #D2E3FC;\n",
              "    }\n",
              "\n",
              "    [theme=dark] .colab-df-convert:hover {\n",
              "      background-color: #434B5C;\n",
              "      box-shadow: 0px 1px 3px 1px rgba(0, 0, 0, 0.15);\n",
              "      filter: drop-shadow(0px 1px 2px rgba(0, 0, 0, 0.3));\n",
              "      fill: #FFFFFF;\n",
              "    }\n",
              "  </style>\n",
              "\n",
              "    <script>\n",
              "      const buttonEl =\n",
              "        document.querySelector('#df-5ed1cba3-c04c-4861-b340-72fa9e7d3526 button.colab-df-convert');\n",
              "      buttonEl.style.display =\n",
              "        google.colab.kernel.accessAllowed ? 'block' : 'none';\n",
              "\n",
              "      async function convertToInteractive(key) {\n",
              "        const element = document.querySelector('#df-5ed1cba3-c04c-4861-b340-72fa9e7d3526');\n",
              "        const dataTable =\n",
              "          await google.colab.kernel.invokeFunction('convertToInteractive',\n",
              "                                                    [key], {});\n",
              "        if (!dataTable) return;\n",
              "\n",
              "        const docLinkHtml = 'Like what you see? Visit the ' +\n",
              "          '<a target=\"_blank\" href=https://colab.research.google.com/notebooks/data_table.ipynb>data table notebook</a>'\n",
              "          + ' to learn more about interactive tables.';\n",
              "        element.innerHTML = '';\n",
              "        dataTable['output_type'] = 'display_data';\n",
              "        await google.colab.output.renderOutput(dataTable, element);\n",
              "        const docLink = document.createElement('div');\n",
              "        docLink.innerHTML = docLinkHtml;\n",
              "        element.appendChild(docLink);\n",
              "      }\n",
              "    </script>\n",
              "  </div>\n",
              "\n",
              "\n",
              "<div id=\"df-a9f778fa-4d6c-49b8-9e8e-4e6026216ba6\">\n",
              "  <button class=\"colab-df-quickchart\" onclick=\"quickchart('df-a9f778fa-4d6c-49b8-9e8e-4e6026216ba6')\"\n",
              "            title=\"Suggest charts\"\n",
              "            style=\"display:none;\">\n",
              "\n",
              "<svg xmlns=\"http://www.w3.org/2000/svg\" height=\"24px\"viewBox=\"0 0 24 24\"\n",
              "     width=\"24px\">\n",
              "    <g>\n",
              "        <path d=\"M19 3H5c-1.1 0-2 .9-2 2v14c0 1.1.9 2 2 2h14c1.1 0 2-.9 2-2V5c0-1.1-.9-2-2-2zM9 17H7v-7h2v7zm4 0h-2V7h2v10zm4 0h-2v-4h2v4z\"/>\n",
              "    </g>\n",
              "</svg>\n",
              "  </button>\n",
              "\n",
              "<style>\n",
              "  .colab-df-quickchart {\n",
              "      --bg-color: #E8F0FE;\n",
              "      --fill-color: #1967D2;\n",
              "      --hover-bg-color: #E2EBFA;\n",
              "      --hover-fill-color: #174EA6;\n",
              "      --disabled-fill-color: #AAA;\n",
              "      --disabled-bg-color: #DDD;\n",
              "  }\n",
              "\n",
              "  [theme=dark] .colab-df-quickchart {\n",
              "      --bg-color: #3B4455;\n",
              "      --fill-color: #D2E3FC;\n",
              "      --hover-bg-color: #434B5C;\n",
              "      --hover-fill-color: #FFFFFF;\n",
              "      --disabled-bg-color: #3B4455;\n",
              "      --disabled-fill-color: #666;\n",
              "  }\n",
              "\n",
              "  .colab-df-quickchart {\n",
              "    background-color: var(--bg-color);\n",
              "    border: none;\n",
              "    border-radius: 50%;\n",
              "    cursor: pointer;\n",
              "    display: none;\n",
              "    fill: var(--fill-color);\n",
              "    height: 32px;\n",
              "    padding: 0;\n",
              "    width: 32px;\n",
              "  }\n",
              "\n",
              "  .colab-df-quickchart:hover {\n",
              "    background-color: var(--hover-bg-color);\n",
              "    box-shadow: 0 1px 2px rgba(60, 64, 67, 0.3), 0 1px 3px 1px rgba(60, 64, 67, 0.15);\n",
              "    fill: var(--button-hover-fill-color);\n",
              "  }\n",
              "\n",
              "  .colab-df-quickchart-complete:disabled,\n",
              "  .colab-df-quickchart-complete:disabled:hover {\n",
              "    background-color: var(--disabled-bg-color);\n",
              "    fill: var(--disabled-fill-color);\n",
              "    box-shadow: none;\n",
              "  }\n",
              "\n",
              "  .colab-df-spinner {\n",
              "    border: 2px solid var(--fill-color);\n",
              "    border-color: transparent;\n",
              "    border-bottom-color: var(--fill-color);\n",
              "    animation:\n",
              "      spin 1s steps(1) infinite;\n",
              "  }\n",
              "\n",
              "  @keyframes spin {\n",
              "    0% {\n",
              "      border-color: transparent;\n",
              "      border-bottom-color: var(--fill-color);\n",
              "      border-left-color: var(--fill-color);\n",
              "    }\n",
              "    20% {\n",
              "      border-color: transparent;\n",
              "      border-left-color: var(--fill-color);\n",
              "      border-top-color: var(--fill-color);\n",
              "    }\n",
              "    30% {\n",
              "      border-color: transparent;\n",
              "      border-left-color: var(--fill-color);\n",
              "      border-top-color: var(--fill-color);\n",
              "      border-right-color: var(--fill-color);\n",
              "    }\n",
              "    40% {\n",
              "      border-color: transparent;\n",
              "      border-right-color: var(--fill-color);\n",
              "      border-top-color: var(--fill-color);\n",
              "    }\n",
              "    60% {\n",
              "      border-color: transparent;\n",
              "      border-right-color: var(--fill-color);\n",
              "    }\n",
              "    80% {\n",
              "      border-color: transparent;\n",
              "      border-right-color: var(--fill-color);\n",
              "      border-bottom-color: var(--fill-color);\n",
              "    }\n",
              "    90% {\n",
              "      border-color: transparent;\n",
              "      border-bottom-color: var(--fill-color);\n",
              "    }\n",
              "  }\n",
              "</style>\n",
              "\n",
              "  <script>\n",
              "    async function quickchart(key) {\n",
              "      const quickchartButtonEl =\n",
              "        document.querySelector('#' + key + ' button');\n",
              "      quickchartButtonEl.disabled = true;  // To prevent multiple clicks.\n",
              "      quickchartButtonEl.classList.add('colab-df-spinner');\n",
              "      try {\n",
              "        const charts = await google.colab.kernel.invokeFunction(\n",
              "            'suggestCharts', [key], {});\n",
              "      } catch (error) {\n",
              "        console.error('Error during call to suggestCharts:', error);\n",
              "      }\n",
              "      quickchartButtonEl.classList.remove('colab-df-spinner');\n",
              "      quickchartButtonEl.classList.add('colab-df-quickchart-complete');\n",
              "    }\n",
              "    (() => {\n",
              "      let quickchartButtonEl =\n",
              "        document.querySelector('#df-a9f778fa-4d6c-49b8-9e8e-4e6026216ba6 button');\n",
              "      quickchartButtonEl.style.display =\n",
              "        google.colab.kernel.accessAllowed ? 'block' : 'none';\n",
              "    })();\n",
              "  </script>\n",
              "</div>\n",
              "\n",
              "    </div>\n",
              "  </div>\n"
            ],
            "application/vnd.google.colaboratory.intrinsic+json": {
              "type": "dataframe",
              "variable_name": "train",
              "summary": "{\n  \"name\": \"train\",\n  \"rows\": 3995,\n  \"fields\": [\n    {\n      \"column\": \"college\",\n      \"properties\": {\n        \"dtype\": \"category\",\n        \"num_unique_values\": 2,\n        \"samples\": [\n          \"no\",\n          \"yes\"\n        ],\n        \"semantic_type\": \"\",\n        \"description\": \"\"\n      }\n    },\n    {\n      \"column\": \"income\",\n      \"properties\": {\n        \"dtype\": \"number\",\n        \"std\": 41531,\n        \"min\": 20028,\n        \"max\": 159938,\n        \"num_unique_values\": 3927,\n        \"samples\": [\n          34175,\n          114070\n        ],\n        \"semantic_type\": \"\",\n        \"description\": \"\"\n      }\n    },\n    {\n      \"column\": \"overage\",\n      \"properties\": {\n        \"dtype\": \"number\",\n        \"std\": 85,\n        \"min\": 0,\n        \"max\": 335,\n        \"num_unique_values\": 241,\n        \"samples\": [\n          160,\n          87\n        ],\n        \"semantic_type\": \"\",\n        \"description\": \"\"\n      }\n    },\n    {\n      \"column\": \"leftover\",\n      \"properties\": {\n        \"dtype\": \"number\",\n        \"std\": 26,\n        \"min\": 0,\n        \"max\": 89,\n        \"num_unique_values\": 86,\n        \"samples\": [\n          33,\n          54\n        ],\n        \"semantic_type\": \"\",\n        \"description\": \"\"\n      }\n    },\n    {\n      \"column\": \"house\",\n      \"properties\": {\n        \"dtype\": \"number\",\n        \"std\": 254424,\n        \"min\": 150305,\n        \"max\": 1000000,\n        \"num_unique_values\": 3971,\n        \"samples\": [\n          568547,\n          555724\n        ],\n        \"semantic_type\": \"\",\n        \"description\": \"\"\n      }\n    },\n    {\n      \"column\": \"handset_price\",\n      \"properties\": {\n        \"dtype\": \"number\",\n        \"std\": 212,\n        \"min\": 130,\n        \"max\": 899,\n        \"num_unique_values\": 736,\n        \"samples\": [\n          529,\n          304\n        ],\n        \"semantic_type\": \"\",\n        \"description\": \"\"\n      }\n    },\n    {\n      \"column\": \"over_15mins_calls_per_month\",\n      \"properties\": {\n        \"dtype\": \"number\",\n        \"std\": 8.907288259863469,\n        \"min\": 0.0,\n        \"max\": 29.0,\n        \"num_unique_values\": 25,\n        \"samples\": [\n          26.0,\n          13.0\n        ],\n        \"semantic_type\": \"\",\n        \"description\": \"\"\n      }\n    },\n    {\n      \"column\": \"average_call_duration\",\n      \"properties\": {\n        \"dtype\": \"number\",\n        \"std\": 4,\n        \"min\": 1,\n        \"max\": 15,\n        \"num_unique_values\": 13,\n        \"samples\": [\n          10,\n          6\n        ],\n        \"semantic_type\": \"\",\n        \"description\": \"\"\n      }\n    },\n    {\n      \"column\": \"reported_satisfaction\",\n      \"properties\": {\n        \"dtype\": \"category\",\n        \"num_unique_values\": 3,\n        \"samples\": [\n          \"high\",\n          \"low\"\n        ],\n        \"semantic_type\": \"\",\n        \"description\": \"\"\n      }\n    },\n    {\n      \"column\": \"reported_usage_level\",\n      \"properties\": {\n        \"dtype\": \"category\",\n        \"num_unique_values\": 3,\n        \"samples\": [\n          \"low\",\n          \"high\"\n        ],\n        \"semantic_type\": \"\",\n        \"description\": \"\"\n      }\n    },\n    {\n      \"column\": \"considering_change_of_plan\",\n      \"properties\": {\n        \"dtype\": \"category\",\n        \"num_unique_values\": 3,\n        \"samples\": [\n          \"no\",\n          \"yes\"\n        ],\n        \"semantic_type\": \"\",\n        \"description\": \"\"\n      }\n    },\n    {\n      \"column\": \"leave\",\n      \"properties\": {\n        \"dtype\": \"category\",\n        \"num_unique_values\": 2,\n        \"samples\": [\n          \"LEAVE\",\n          \"STAY\"\n        ],\n        \"semantic_type\": \"\",\n        \"description\": \"\"\n      }\n    },\n    {\n      \"column\": \"id\",\n      \"properties\": {\n        \"dtype\": \"number\",\n        \"std\": 5818,\n        \"min\": 2,\n        \"max\": 20000,\n        \"num_unique_values\": 3995,\n        \"samples\": [\n          13945,\n          3759\n        ],\n        \"semantic_type\": \"\",\n        \"description\": \"\"\n      }\n    }\n  ]\n}"
            }
          },
          "metadata": {},
          "execution_count": 29
        }
      ]
    },
    {
      "cell_type": "code",
      "source": [
        "test.head()"
      ],
      "metadata": {
        "id": "u8qGHvLq-Ncj",
        "colab": {
          "base_uri": "https://localhost:8080/",
          "height": 226
        },
        "outputId": "4b9cc6af-a924-49e6-93ea-d5e17a516433"
      },
      "execution_count": 30,
      "outputs": [
        {
          "output_type": "execute_result",
          "data": {
            "text/plain": [
              "   college  income  overage  leftover   house  handset_price  \\\n",
              "2       no   30883       60         0  647281            211   \n",
              "18      no   50117      216         0  156554            324   \n",
              "19      no   64138        0        34  274984            268   \n",
              "38      no  158711      192        57  271701            557   \n",
              "40     yes   67761        0        46  155536            316   \n",
              "\n",
              "    over_15mins_calls_per_month  average_call_duration reported_satisfaction  \\\n",
              "2                           3.0                      8                   low   \n",
              "18                         14.0                      9                   low   \n",
              "19                          0.0                      1                   low   \n",
              "38                          3.0                      1                   low   \n",
              "40                          0.0                      1                  high   \n",
              "\n",
              "   reported_usage_level considering_change_of_plan  leave     id  \n",
              "2                   low                        yes   STAY   7425  \n",
              "18                  low                         no  LEAVE  18537  \n",
              "19                  low                         no  LEAVE   3419  \n",
              "38                 high                        yes  LEAVE   8132  \n",
              "40                 high                        yes  LEAVE  14134  "
            ],
            "text/html": [
              "\n",
              "  <div id=\"df-5d2b7aa3-b8b8-4221-9cd0-67d83dd48591\" class=\"colab-df-container\">\n",
              "    <div>\n",
              "<style scoped>\n",
              "    .dataframe tbody tr th:only-of-type {\n",
              "        vertical-align: middle;\n",
              "    }\n",
              "\n",
              "    .dataframe tbody tr th {\n",
              "        vertical-align: top;\n",
              "    }\n",
              "\n",
              "    .dataframe thead th {\n",
              "        text-align: right;\n",
              "    }\n",
              "</style>\n",
              "<table border=\"1\" class=\"dataframe\">\n",
              "  <thead>\n",
              "    <tr style=\"text-align: right;\">\n",
              "      <th></th>\n",
              "      <th>college</th>\n",
              "      <th>income</th>\n",
              "      <th>overage</th>\n",
              "      <th>leftover</th>\n",
              "      <th>house</th>\n",
              "      <th>handset_price</th>\n",
              "      <th>over_15mins_calls_per_month</th>\n",
              "      <th>average_call_duration</th>\n",
              "      <th>reported_satisfaction</th>\n",
              "      <th>reported_usage_level</th>\n",
              "      <th>considering_change_of_plan</th>\n",
              "      <th>leave</th>\n",
              "      <th>id</th>\n",
              "    </tr>\n",
              "  </thead>\n",
              "  <tbody>\n",
              "    <tr>\n",
              "      <th>2</th>\n",
              "      <td>no</td>\n",
              "      <td>30883</td>\n",
              "      <td>60</td>\n",
              "      <td>0</td>\n",
              "      <td>647281</td>\n",
              "      <td>211</td>\n",
              "      <td>3.0</td>\n",
              "      <td>8</td>\n",
              "      <td>low</td>\n",
              "      <td>low</td>\n",
              "      <td>yes</td>\n",
              "      <td>STAY</td>\n",
              "      <td>7425</td>\n",
              "    </tr>\n",
              "    <tr>\n",
              "      <th>18</th>\n",
              "      <td>no</td>\n",
              "      <td>50117</td>\n",
              "      <td>216</td>\n",
              "      <td>0</td>\n",
              "      <td>156554</td>\n",
              "      <td>324</td>\n",
              "      <td>14.0</td>\n",
              "      <td>9</td>\n",
              "      <td>low</td>\n",
              "      <td>low</td>\n",
              "      <td>no</td>\n",
              "      <td>LEAVE</td>\n",
              "      <td>18537</td>\n",
              "    </tr>\n",
              "    <tr>\n",
              "      <th>19</th>\n",
              "      <td>no</td>\n",
              "      <td>64138</td>\n",
              "      <td>0</td>\n",
              "      <td>34</td>\n",
              "      <td>274984</td>\n",
              "      <td>268</td>\n",
              "      <td>0.0</td>\n",
              "      <td>1</td>\n",
              "      <td>low</td>\n",
              "      <td>low</td>\n",
              "      <td>no</td>\n",
              "      <td>LEAVE</td>\n",
              "      <td>3419</td>\n",
              "    </tr>\n",
              "    <tr>\n",
              "      <th>38</th>\n",
              "      <td>no</td>\n",
              "      <td>158711</td>\n",
              "      <td>192</td>\n",
              "      <td>57</td>\n",
              "      <td>271701</td>\n",
              "      <td>557</td>\n",
              "      <td>3.0</td>\n",
              "      <td>1</td>\n",
              "      <td>low</td>\n",
              "      <td>high</td>\n",
              "      <td>yes</td>\n",
              "      <td>LEAVE</td>\n",
              "      <td>8132</td>\n",
              "    </tr>\n",
              "    <tr>\n",
              "      <th>40</th>\n",
              "      <td>yes</td>\n",
              "      <td>67761</td>\n",
              "      <td>0</td>\n",
              "      <td>46</td>\n",
              "      <td>155536</td>\n",
              "      <td>316</td>\n",
              "      <td>0.0</td>\n",
              "      <td>1</td>\n",
              "      <td>high</td>\n",
              "      <td>high</td>\n",
              "      <td>yes</td>\n",
              "      <td>LEAVE</td>\n",
              "      <td>14134</td>\n",
              "    </tr>\n",
              "  </tbody>\n",
              "</table>\n",
              "</div>\n",
              "    <div class=\"colab-df-buttons\">\n",
              "\n",
              "  <div class=\"colab-df-container\">\n",
              "    <button class=\"colab-df-convert\" onclick=\"convertToInteractive('df-5d2b7aa3-b8b8-4221-9cd0-67d83dd48591')\"\n",
              "            title=\"Convert this dataframe to an interactive table.\"\n",
              "            style=\"display:none;\">\n",
              "\n",
              "  <svg xmlns=\"http://www.w3.org/2000/svg\" height=\"24px\" viewBox=\"0 -960 960 960\">\n",
              "    <path d=\"M120-120v-720h720v720H120Zm60-500h600v-160H180v160Zm220 220h160v-160H400v160Zm0 220h160v-160H400v160ZM180-400h160v-160H180v160Zm440 0h160v-160H620v160ZM180-180h160v-160H180v160Zm440 0h160v-160H620v160Z\"/>\n",
              "  </svg>\n",
              "    </button>\n",
              "\n",
              "  <style>\n",
              "    .colab-df-container {\n",
              "      display:flex;\n",
              "      gap: 12px;\n",
              "    }\n",
              "\n",
              "    .colab-df-convert {\n",
              "      background-color: #E8F0FE;\n",
              "      border: none;\n",
              "      border-radius: 50%;\n",
              "      cursor: pointer;\n",
              "      display: none;\n",
              "      fill: #1967D2;\n",
              "      height: 32px;\n",
              "      padding: 0 0 0 0;\n",
              "      width: 32px;\n",
              "    }\n",
              "\n",
              "    .colab-df-convert:hover {\n",
              "      background-color: #E2EBFA;\n",
              "      box-shadow: 0px 1px 2px rgba(60, 64, 67, 0.3), 0px 1px 3px 1px rgba(60, 64, 67, 0.15);\n",
              "      fill: #174EA6;\n",
              "    }\n",
              "\n",
              "    .colab-df-buttons div {\n",
              "      margin-bottom: 4px;\n",
              "    }\n",
              "\n",
              "    [theme=dark] .colab-df-convert {\n",
              "      background-color: #3B4455;\n",
              "      fill: #D2E3FC;\n",
              "    }\n",
              "\n",
              "    [theme=dark] .colab-df-convert:hover {\n",
              "      background-color: #434B5C;\n",
              "      box-shadow: 0px 1px 3px 1px rgba(0, 0, 0, 0.15);\n",
              "      filter: drop-shadow(0px 1px 2px rgba(0, 0, 0, 0.3));\n",
              "      fill: #FFFFFF;\n",
              "    }\n",
              "  </style>\n",
              "\n",
              "    <script>\n",
              "      const buttonEl =\n",
              "        document.querySelector('#df-5d2b7aa3-b8b8-4221-9cd0-67d83dd48591 button.colab-df-convert');\n",
              "      buttonEl.style.display =\n",
              "        google.colab.kernel.accessAllowed ? 'block' : 'none';\n",
              "\n",
              "      async function convertToInteractive(key) {\n",
              "        const element = document.querySelector('#df-5d2b7aa3-b8b8-4221-9cd0-67d83dd48591');\n",
              "        const dataTable =\n",
              "          await google.colab.kernel.invokeFunction('convertToInteractive',\n",
              "                                                    [key], {});\n",
              "        if (!dataTable) return;\n",
              "\n",
              "        const docLinkHtml = 'Like what you see? Visit the ' +\n",
              "          '<a target=\"_blank\" href=https://colab.research.google.com/notebooks/data_table.ipynb>data table notebook</a>'\n",
              "          + ' to learn more about interactive tables.';\n",
              "        element.innerHTML = '';\n",
              "        dataTable['output_type'] = 'display_data';\n",
              "        await google.colab.output.renderOutput(dataTable, element);\n",
              "        const docLink = document.createElement('div');\n",
              "        docLink.innerHTML = docLinkHtml;\n",
              "        element.appendChild(docLink);\n",
              "      }\n",
              "    </script>\n",
              "  </div>\n",
              "\n",
              "\n",
              "<div id=\"df-18837906-39c8-4052-acc1-7e4beb2dd3e8\">\n",
              "  <button class=\"colab-df-quickchart\" onclick=\"quickchart('df-18837906-39c8-4052-acc1-7e4beb2dd3e8')\"\n",
              "            title=\"Suggest charts\"\n",
              "            style=\"display:none;\">\n",
              "\n",
              "<svg xmlns=\"http://www.w3.org/2000/svg\" height=\"24px\"viewBox=\"0 0 24 24\"\n",
              "     width=\"24px\">\n",
              "    <g>\n",
              "        <path d=\"M19 3H5c-1.1 0-2 .9-2 2v14c0 1.1.9 2 2 2h14c1.1 0 2-.9 2-2V5c0-1.1-.9-2-2-2zM9 17H7v-7h2v7zm4 0h-2V7h2v10zm4 0h-2v-4h2v4z\"/>\n",
              "    </g>\n",
              "</svg>\n",
              "  </button>\n",
              "\n",
              "<style>\n",
              "  .colab-df-quickchart {\n",
              "      --bg-color: #E8F0FE;\n",
              "      --fill-color: #1967D2;\n",
              "      --hover-bg-color: #E2EBFA;\n",
              "      --hover-fill-color: #174EA6;\n",
              "      --disabled-fill-color: #AAA;\n",
              "      --disabled-bg-color: #DDD;\n",
              "  }\n",
              "\n",
              "  [theme=dark] .colab-df-quickchart {\n",
              "      --bg-color: #3B4455;\n",
              "      --fill-color: #D2E3FC;\n",
              "      --hover-bg-color: #434B5C;\n",
              "      --hover-fill-color: #FFFFFF;\n",
              "      --disabled-bg-color: #3B4455;\n",
              "      --disabled-fill-color: #666;\n",
              "  }\n",
              "\n",
              "  .colab-df-quickchart {\n",
              "    background-color: var(--bg-color);\n",
              "    border: none;\n",
              "    border-radius: 50%;\n",
              "    cursor: pointer;\n",
              "    display: none;\n",
              "    fill: var(--fill-color);\n",
              "    height: 32px;\n",
              "    padding: 0;\n",
              "    width: 32px;\n",
              "  }\n",
              "\n",
              "  .colab-df-quickchart:hover {\n",
              "    background-color: var(--hover-bg-color);\n",
              "    box-shadow: 0 1px 2px rgba(60, 64, 67, 0.3), 0 1px 3px 1px rgba(60, 64, 67, 0.15);\n",
              "    fill: var(--button-hover-fill-color);\n",
              "  }\n",
              "\n",
              "  .colab-df-quickchart-complete:disabled,\n",
              "  .colab-df-quickchart-complete:disabled:hover {\n",
              "    background-color: var(--disabled-bg-color);\n",
              "    fill: var(--disabled-fill-color);\n",
              "    box-shadow: none;\n",
              "  }\n",
              "\n",
              "  .colab-df-spinner {\n",
              "    border: 2px solid var(--fill-color);\n",
              "    border-color: transparent;\n",
              "    border-bottom-color: var(--fill-color);\n",
              "    animation:\n",
              "      spin 1s steps(1) infinite;\n",
              "  }\n",
              "\n",
              "  @keyframes spin {\n",
              "    0% {\n",
              "      border-color: transparent;\n",
              "      border-bottom-color: var(--fill-color);\n",
              "      border-left-color: var(--fill-color);\n",
              "    }\n",
              "    20% {\n",
              "      border-color: transparent;\n",
              "      border-left-color: var(--fill-color);\n",
              "      border-top-color: var(--fill-color);\n",
              "    }\n",
              "    30% {\n",
              "      border-color: transparent;\n",
              "      border-left-color: var(--fill-color);\n",
              "      border-top-color: var(--fill-color);\n",
              "      border-right-color: var(--fill-color);\n",
              "    }\n",
              "    40% {\n",
              "      border-color: transparent;\n",
              "      border-right-color: var(--fill-color);\n",
              "      border-top-color: var(--fill-color);\n",
              "    }\n",
              "    60% {\n",
              "      border-color: transparent;\n",
              "      border-right-color: var(--fill-color);\n",
              "    }\n",
              "    80% {\n",
              "      border-color: transparent;\n",
              "      border-right-color: var(--fill-color);\n",
              "      border-bottom-color: var(--fill-color);\n",
              "    }\n",
              "    90% {\n",
              "      border-color: transparent;\n",
              "      border-bottom-color: var(--fill-color);\n",
              "    }\n",
              "  }\n",
              "</style>\n",
              "\n",
              "  <script>\n",
              "    async function quickchart(key) {\n",
              "      const quickchartButtonEl =\n",
              "        document.querySelector('#' + key + ' button');\n",
              "      quickchartButtonEl.disabled = true;  // To prevent multiple clicks.\n",
              "      quickchartButtonEl.classList.add('colab-df-spinner');\n",
              "      try {\n",
              "        const charts = await google.colab.kernel.invokeFunction(\n",
              "            'suggestCharts', [key], {});\n",
              "      } catch (error) {\n",
              "        console.error('Error during call to suggestCharts:', error);\n",
              "      }\n",
              "      quickchartButtonEl.classList.remove('colab-df-spinner');\n",
              "      quickchartButtonEl.classList.add('colab-df-quickchart-complete');\n",
              "    }\n",
              "    (() => {\n",
              "      let quickchartButtonEl =\n",
              "        document.querySelector('#df-18837906-39c8-4052-acc1-7e4beb2dd3e8 button');\n",
              "      quickchartButtonEl.style.display =\n",
              "        google.colab.kernel.accessAllowed ? 'block' : 'none';\n",
              "    })();\n",
              "  </script>\n",
              "</div>\n",
              "\n",
              "    </div>\n",
              "  </div>\n"
            ],
            "application/vnd.google.colaboratory.intrinsic+json": {
              "type": "dataframe",
              "variable_name": "test",
              "summary": "{\n  \"name\": \"test\",\n  \"rows\": 999,\n  \"fields\": [\n    {\n      \"column\": \"college\",\n      \"properties\": {\n        \"dtype\": \"category\",\n        \"num_unique_values\": 2,\n        \"samples\": [\n          \"yes\",\n          \"no\"\n        ],\n        \"semantic_type\": \"\",\n        \"description\": \"\"\n      }\n    },\n    {\n      \"column\": \"income\",\n      \"properties\": {\n        \"dtype\": \"number\",\n        \"std\": 42305,\n        \"min\": 20065,\n        \"max\": 159934,\n        \"num_unique_values\": 988,\n        \"samples\": [\n          137912,\n          47904\n        ],\n        \"semantic_type\": \"\",\n        \"description\": \"\"\n      }\n    },\n    {\n      \"column\": \"overage\",\n      \"properties\": {\n        \"dtype\": \"number\",\n        \"std\": 84,\n        \"min\": 0,\n        \"max\": 286,\n        \"num_unique_values\": 178,\n        \"samples\": [\n          202,\n          43\n        ],\n        \"semantic_type\": \"\",\n        \"description\": \"\"\n      }\n    },\n    {\n      \"column\": \"leftover\",\n      \"properties\": {\n        \"dtype\": \"number\",\n        \"std\": 26,\n        \"min\": 0,\n        \"max\": 89,\n        \"num_unique_values\": 86,\n        \"samples\": [\n          29,\n          0\n        ],\n        \"semantic_type\": \"\",\n        \"description\": \"\"\n      }\n    },\n    {\n      \"column\": \"house\",\n      \"properties\": {\n        \"dtype\": \"number\",\n        \"std\": 250051,\n        \"min\": 150499,\n        \"max\": 999758,\n        \"num_unique_values\": 998,\n        \"samples\": [\n          198849,\n          878444\n        ],\n        \"semantic_type\": \"\",\n        \"description\": \"\"\n      }\n    },\n    {\n      \"column\": \"handset_price\",\n      \"properties\": {\n        \"dtype\": \"number\",\n        \"std\": 217,\n        \"min\": 130,\n        \"max\": 899,\n        \"num_unique_values\": 495,\n        \"samples\": [\n          403,\n          494\n        ],\n        \"semantic_type\": \"\",\n        \"description\": \"\"\n      }\n    },\n    {\n      \"column\": \"over_15mins_calls_per_month\",\n      \"properties\": {\n        \"dtype\": \"number\",\n        \"std\": 8.349796276279465,\n        \"min\": 0.0,\n        \"max\": 29.0,\n        \"num_unique_values\": 25,\n        \"samples\": [\n          25.0,\n          28.0\n        ],\n        \"semantic_type\": \"\",\n        \"description\": \"\"\n      }\n    },\n    {\n      \"column\": \"average_call_duration\",\n      \"properties\": {\n        \"dtype\": \"number\",\n        \"std\": 4,\n        \"min\": 1,\n        \"max\": 15,\n        \"num_unique_values\": 13,\n        \"samples\": [\n          15,\n          14\n        ],\n        \"semantic_type\": \"\",\n        \"description\": \"\"\n      }\n    },\n    {\n      \"column\": \"reported_satisfaction\",\n      \"properties\": {\n        \"dtype\": \"category\",\n        \"num_unique_values\": 3,\n        \"samples\": [\n          \"low\",\n          \"high\"\n        ],\n        \"semantic_type\": \"\",\n        \"description\": \"\"\n      }\n    },\n    {\n      \"column\": \"reported_usage_level\",\n      \"properties\": {\n        \"dtype\": \"category\",\n        \"num_unique_values\": 3,\n        \"samples\": [\n          \"low\",\n          \"high\"\n        ],\n        \"semantic_type\": \"\",\n        \"description\": \"\"\n      }\n    },\n    {\n      \"column\": \"considering_change_of_plan\",\n      \"properties\": {\n        \"dtype\": \"category\",\n        \"num_unique_values\": 3,\n        \"samples\": [\n          \"yes\",\n          \"no\"\n        ],\n        \"semantic_type\": \"\",\n        \"description\": \"\"\n      }\n    },\n    {\n      \"column\": \"leave\",\n      \"properties\": {\n        \"dtype\": \"category\",\n        \"num_unique_values\": 2,\n        \"samples\": [\n          \"LEAVE\",\n          \"STAY\"\n        ],\n        \"semantic_type\": \"\",\n        \"description\": \"\"\n      }\n    },\n    {\n      \"column\": \"id\",\n      \"properties\": {\n        \"dtype\": \"number\",\n        \"std\": 5802,\n        \"min\": 9,\n        \"max\": 19999,\n        \"num_unique_values\": 999,\n        \"samples\": [\n          18973,\n          15766\n        ],\n        \"semantic_type\": \"\",\n        \"description\": \"\"\n      }\n    }\n  ]\n}"
            }
          },
          "metadata": {},
          "execution_count": 30
        }
      ]
    },
    {
      "cell_type": "markdown",
      "source": [
        "The cross validation procedure is to create the model using the train data and then evaluate it--that is, get predictions--using the test data. Accuracy of the model is therefore calculated using the test data. This way, we get an accurate picture of how the model will perform in the wild, with new data.\n",
        "\n",
        "Make sure to leave out the `max_depth` argument."
      ],
      "metadata": {
        "id": "W6EjdejC-R2n"
      }
    },
    {
      "cell_type": "code",
      "source": [
        "# Initialize the classifier.  Leave out max_depth\n",
        "# Your code goes here\n",
        "money_tree = DecisionTreeClassifier(criterion = \"entropy\")\n",
        "money_tree = money_tree.fit(X = train[['income']],\n",
        "                            y = train['leave'])\n",
        "pred = money_tree.predict(X = test[['income']])"
      ],
      "metadata": {
        "id": "4UOfGsNE_uIN"
      },
      "execution_count": 31,
      "outputs": []
    },
    {
      "cell_type": "code",
      "source": [
        "# Fit the model using train\n",
        "# Your code goes here\n"
      ],
      "metadata": {
        "id": "dpixS1YF-eEO"
      },
      "execution_count": 32,
      "outputs": []
    },
    {
      "cell_type": "code",
      "source": [
        "# Predict using test\n",
        "# Your code goes here\n"
      ],
      "metadata": {
        "id": "7BW9raTa-hbv"
      },
      "execution_count": 33,
      "outputs": []
    },
    {
      "cell_type": "code",
      "source": [
        "# Calculate model accuracy on the test set\n",
        "# Your code goes here\n",
        "sum(pred == test['leave'])/ len(test)"
      ],
      "metadata": {
        "id": "kIRct2Hs--fL",
        "colab": {
          "base_uri": "https://localhost:8080/"
        },
        "outputId": "7785a235-d5f9-40c1-d2e4-9aab546908d5"
      },
      "execution_count": 34,
      "outputs": [
        {
          "output_type": "execute_result",
          "data": {
            "text/plain": [
              "0.5125125125125125"
            ]
          },
          "metadata": {},
          "execution_count": 34
        }
      ]
    },
    {
      "cell_type": "markdown",
      "source": [
        "Better or worse than the simpler model?  \n",
        "\n",
        "Let's explore this further.  More complicated models are good--up to a point.  Choose a `max_depth` argument greater than 2 and see if you can improve on the simple model's accuracy without getting too complex and overfitting."
      ],
      "metadata": {
        "id": "w7hthal9AIPc"
      }
    },
    {
      "cell_type": "code",
      "source": [
        "# Initialize the classifier--chose a max_depth > 2\n",
        "# Your code goes here\n",
        "money_tree = DecisionTreeClassifier(criterion = \"entropy\")\n",
        "money_tree = money_tree.fit(X = mtc_clean[['income']],\n",
        "                            y = mtc_clean['leave'])\n",
        "pred = money_tree.predict(X = mtc_clean[['income']])"
      ],
      "metadata": {
        "id": "TZ6VYT6KAki1"
      },
      "execution_count": 35,
      "outputs": []
    },
    {
      "cell_type": "code",
      "source": [
        "# Fit the model using train\n",
        "# Your code goes here\n"
      ],
      "metadata": {
        "id": "f-1C5r8FAoF6"
      },
      "execution_count": null,
      "outputs": []
    },
    {
      "cell_type": "code",
      "source": [
        "# Predict using test\n",
        "# Your code goes here"
      ],
      "metadata": {
        "id": "nuDDBpWeAlfg"
      },
      "execution_count": null,
      "outputs": []
    },
    {
      "cell_type": "code",
      "source": [
        "# Calculate model accuracy on the test set\n",
        "# Your code goes here\n",
        "sum(pred == mtc_clean['leave'])/ len(pred)"
      ],
      "metadata": {
        "id": "d2tvYUxPAyEN",
        "colab": {
          "base_uri": "https://localhost:8080/"
        },
        "outputId": "4302c639-31f8-4366-f94e-f6959b74308c"
      },
      "execution_count": 36,
      "outputs": [
        {
          "output_type": "execute_result",
          "data": {
            "text/plain": [
              "0.9881858229875851"
            ]
          },
          "metadata": {},
          "execution_count": 36
        }
      ]
    },
    {
      "cell_type": "markdown",
      "source": [
        "## Additional predictors\n",
        "\n",
        "Pick one additional variable to use as a predictor--one that you think is a driver of churn at MegaTelCo, based on your EDA.\n",
        "\n",
        "Refit the model using your best performing `max_depth` setting, with `income` and your chosen second predictor.\n",
        "\n",
        "How does this model perform on the test set?\n",
        "\n",
        "Adding a predictor makes for a more complicated model.  But complicated is good -- as long as it does not tip over into overfitting."
      ],
      "metadata": {
        "id": "OnlGtiDCwNJX"
      }
    },
    {
      "cell_type": "code",
      "source": [
        "# Initialize the classifier--chose a max_depth > 2\n",
        "# Your code goes here\n",
        "money_tree = DecisionTreeClassifier(criterion = \"entropy\", max_depth=3)\n"
      ],
      "metadata": {
        "id": "aKDd5ZEOxX7k"
      },
      "execution_count": 71,
      "outputs": []
    },
    {
      "cell_type": "code",
      "source": [
        "# Fit the model using train\n",
        "# Your code goes here\n",
        "money_tree = money_tree.fit(X = train[['income', 'house']],\n",
        "                            y = train['leave'])"
      ],
      "metadata": {
        "id": "xjymduwoxdQ1"
      },
      "execution_count": 77,
      "outputs": []
    },
    {
      "cell_type": "code",
      "source": [
        "# Predict using test\n",
        "# Your code goes here\n",
        "pred = money_tree.predict(X = test[['income', 'house']])\n"
      ],
      "metadata": {
        "id": "n-02crspxgid"
      },
      "execution_count": 78,
      "outputs": []
    },
    {
      "cell_type": "code",
      "source": [
        "# Calculate model accuracy on the test set\n",
        "# Your code goes here\n",
        "accuracy = sum(pred == test['leave']) / len(pred)\n",
        "print(accuracy)"
      ],
      "metadata": {
        "id": "XJSt7Vn_xjfC",
        "colab": {
          "base_uri": "https://localhost:8080/"
        },
        "outputId": "02179fba-5945-49b2-b093-d41fc8ec1d3e"
      },
      "execution_count": 81,
      "outputs": [
        {
          "output_type": "stream",
          "name": "stdout",
          "text": [
            "0.6166166166166166\n"
          ]
        }
      ]
    }
  ],
  "metadata": {
    "colab": {
      "provenance": [],
      "toc_visible": true,
      "include_colab_link": true
    },
    "kernelspec": {
      "display_name": "Python 3",
      "name": "python3"
    },
    "language_info": {
      "name": "python"
    }
  },
  "nbformat": 4,
  "nbformat_minor": 0
}